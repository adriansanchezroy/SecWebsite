{
  "nbformat": 4,
  "nbformat_minor": 0,
  "metadata": {
    "colab": {
      "provenance": [],
      "collapsed_sections": [
        "Y6qtibpAOR5r"
      ],
      "include_colab_link": true
    },
    "kernelspec": {
      "name": "python3",
      "display_name": "Python 3"
    },
    "language_info": {
      "name": "python"
    }
  },
  "cells": [
    {
      "cell_type": "markdown",
      "metadata": {
        "id": "view-in-github",
        "colab_type": "text"
      },
      "source": [
        "<a href=\"https://colab.research.google.com/github/adriansanchezroy/SecWebsite/blob/main/10_Bases_de_donn%C3%A9es_NoSQL.ipynb\" target=\"_parent\"><img src=\"https://colab.research.google.com/assets/colab-badge.svg\" alt=\"Open In Colab\"/></a>"
      ]
    },
    {
      "cell_type": "markdown",
      "source": [
        "# Configuration\n",
        "-------------------\n",
        "\n",
        "Les cellules de cette section doivent être exécutées avant le reste du document. Si vous êtes déconnecté de l'engin d'exécution par Google Colab, il vous faudra exécuter cette section de nouveau.\n",
        "\n",
        "Le code de cette section a pour fin :\n",
        "\n",
        "* Créer la commande %%mongo.\n",
        "\n",
        "* Customiser la commande `%%javascript` pour permettre que le code fourni soit exécuté côté conteneur Colab.\n",
        "\n",
        "* Installer MongoDB, quelques bases de données d'exemple, Mongo Shell et mettre à jour la version de Node.js du conteneur Colab."
      ],
      "metadata": {
        "id": "Y6qtibpAOR5r"
      }
    },
    {
      "cell_type": "code",
      "source": [
        "\"\"\"\n",
        "Le code de cette cellule ira installer les extensions,\n",
        "les logiciels necéssaires et mettre à jour la version de Node.js\n",
        "utilisée par Colab.\n",
        "\"\"\"\n",
        "!mkdir -p /content/cuisine /content/toronto\n",
        "\n",
        "!pip3 install classroom-extensions\n",
        "%load_ext classroom_extensions.node_install\n",
        "%load_ext classroom_extensions.mongodb_install\n",
        "\n",
        "%install_nodejs\n",
        "%install_mongodb --sample_dbs\n",
        "\n",
        "%load_ext classroom_extensions.web\n",
        "%load_ext classroom_extensions.mongodb"
      ],
      "metadata": {
        "id": "n3PnDRDxm-i8"
      },
      "execution_count": null,
      "outputs": []
    },
    {
      "cell_type": "markdown",
      "source": [
        "# NoSQL\n",
        "----------------\n",
        "\n",
        "Le NoSQL (*Not Only SQL*) englobe un ensemble de concepts visant à traiter rapidement et efficacement des collections de données, en mettant l'accent sur la performance, la fiabilité et l'agilité.\n",
        "\n",
        "Les systèmes NoSQL permettent de stocker et de récupérer des données dans divers formats, tels que les bases de données orientées clé-valeur, les bases de données de graphes, les bases de données en colonnes, les bases de données orientées documents, etc. **En général, les bases de données NoSQL évitent l'utilisation de jointures, ce qui facilite l'extraction des données via des interfaces simples et sans jointures.**\n",
        "\n",
        "Les systèmes NoSQL autorisent la distribution d'une base de données sur plusieurs machines, ce qui contribue souvent à des performances optimales. Les bases de données NoSQL sont conçues pour évoluer et offrir une évolutivité linéaire. En ajoutant des ressources, les performances augmentent normalement de manière constante.\n",
        "\n",
        "Il est important de noter que le NoSQL considère les solutions SQL comme des options viables. Le terme NoSQL est généralement synonyme de **\"Pas seulement SQL.\"**"
      ],
      "metadata": {
        "id": "cnSGDAH9ObZV"
      }
    },
    {
      "cell_type": "markdown",
      "source": [
        "## Les limites des bases de données relationnelles\n",
        "\n",
        "Les bases de données relationnelles ont longtemps été le choix prédominant pour la gestion des données, car elles résolvent de nombreuses limitations associées aux techniques précédemment utilisées, telles que les fichiers, les bases de données hiérarchiques et les bases de données réseau.\n",
        "\n",
        "Cependant, **avec l'avènement d'Internet, les limites des bases de données relationnelles sont devenues de plus en plus préoccupantes**. Les développeurs d'applications Web, confrontés à d'énormes volumes de données et à un grand nombre d'utilisateurs, ont constaté la nécessité de répondre à des défis majeurs, notamment :\n",
        "\n",
        "* Gérer des quantités massives d'opérations de lecture et d'écriture.\n",
        "\n",
        "* Fournir des temps de réponse à faible latence.\n",
        "\n",
        "* Assurer une disponibilité élevée.\n",
        "\n",
        "**Les bases de données relationnelles se sont avérées inadéquates pour évoluer et répondre aux besoins opérationnels et aux exigences croissantes des entreprises.**\n",
        "\n",
        "L'exploitation d'un seul système de gestion de base de données relationnelle sur plusieurs serveurs s'est révélée être une opération complexe, avec des coûts de mise en œuvre des transactions augmentant proportionnellement à la taille du cluster de la base de données.\n"
      ],
      "metadata": {
        "id": "qk1MTTFahL3S"
      }
    },
    {
      "cell_type": "markdown",
      "source": [
        "## Variété des bases de données NoSQL\n",
        "\n",
        "De nombreuses bases de données NoSQL tirent parti des systèmes distribués, mais elles peuvent adopter diverses stratégies de gestion des données. Voici une liste des principaux types de bases de données NoSQL clés :\n",
        "\n",
        "* **Les bases de données clé-valeur** fonctionnent selon un modèle simple basé sur des clés, qui servent d'identifiants pour récupérer des données, et des valeurs, qui représentent les données associées aux clés (ex. DynamoDB, Redis).\n",
        "\n",
        "* **Les bases de données de documents** utilisent également des identificateurs pour récupérer des valeurs, mais les valeurs consistent en des collections d'éléments de données stockés ensemble dans une structure flexible (ex. **MongoDB**, CouchDB).\n",
        "\n",
        "* **Les bases de données de groupes de colonnes** partagent certaines caractéristiques des bases de données relationnelles, notamment l'organisation des données en ensembles de colonnes (ex. Amazon SimpleDB, Cassandra, HBase).\n",
        "\n",
        "* **Les bases de données de graphes** sont particulièrement adaptées pour modéliser des objets et leurs relations (ex. Neo4j, IBM Graph)."
      ],
      "metadata": {
        "id": "GHvw6KODnNwI"
      }
    },
    {
      "cell_type": "markdown",
      "source": [
        "## Gestion des données avec des bases de données distribuées\n",
        "\n",
        "Les bases de données remplissent une double fonction fondamentale :\n",
        "\n",
        "* D'une part, elles ont pour mission de **stocker des données**, c'est-à-dire d'enregistrer des informations de manière fiable et durable pour qu'elles puissent être récupérées ultérieurement.\n",
        "\n",
        "* D'autre part, elles doivent également être capables de **récupérer des données**, permettant aux utilisateurs d'accéder rapidement et efficacement aux informations dont ils ont besoin.\n",
        "\n",
        "Pour accomplir ces objectifs, les systèmes de gestion de bases de données doivent mettre en place un ensemble de fonctions essentielles :\n",
        "\n",
        "* Tout d'abord, ils doivent **stocker les données de manière persistante**. Cela signifie que les données doivent être enregistrées de telle sorte qu'elles ne soient pas perdues, même en cas d'arrêt du serveur de base de données.\n",
        "\n",
        "* En outre, il est crucial de **maintenir la cohérence des données**. Cette cohérence implique de garantir que les informations correctes sont écrites sur un support de stockage permanent. Bien que les problèmes de cohérence se posent rarement, ils peuvent survenir en cas de panne matérielle. Cependant, un défi plus fréquent se présente lorsque plusieurs utilisateurs souhaitent lire et écrire les mêmes données simultanément, ce qui nécessite des mécanismes spécifiques pour gérer ces situations complexes.\n",
        "\n",
        "* Enfin, un troisième aspect crucial consiste à **garantir la disponibilité des données**. Les informations doivent être accessibles dès qu'elles sont requises, afin de répondre aux besoins des utilisateurs de manière rapide et efficace.\n",
        "\n",
        "Ainsi, les systèmes de gestion de bases de données se trouvent au cœur de l'infrastructure informatique, où ils accomplissent ces tâches essentielles pour stocker, maintenir et mettre à disposition des données de manière fiable et efficace.\n"
      ],
      "metadata": {
        "id": "IVcOmbWCnUhI"
      }
    },
    {
      "cell_type": "markdown",
      "source": [
        "## Cohérence, disponibilité et partitionnement : le théorème CAP\n",
        "\n",
        "Le [théorème CAP](https://fr.wikipedia.org/wiki/Th%C3%A9or%C3%A8me_CAP) (*Consistency, Availability, and Partitioning*), également connu sous le nom de théorème de Brewer en l'honneur de l'informaticien qui l'a formulé, **énonce une règle fondamentale pour les bases de données distribuées : elles ne peuvent simultanément garantir la cohérence (C), la disponibilité (A) et la résistance aux partitions (P).**\n",
        "\n",
        "* **La cohérence (C)** implique que les copies de données sur différents serveurs demeurent cohérentes, reflétant la dernière mise à jour de l'information.\n",
        "\n",
        "* **La disponibilité (A)** signifie que le système doit toujours répondre aux requêtes des utilisateurs, même en cas de défaillance d'un nœud du réseau.\n",
        "\n",
        "* **La protection contre les partitions (P)** se réfère à la capacité du système à continuer de fonctionner, avec des données cohérentes, en présence de défaillances de communication entre les serveurs."
      ],
      "metadata": {
        "id": "gRvPrWw7nZgP"
      }
    },
    {
      "cell_type": "markdown",
      "source": [
        "![notebooks(3).png](data:image/png;base64,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)"
      ],
      "metadata": {
        "id": "r8HJzC8yAaUD"
      }
    },
    {
      "cell_type": "markdown",
      "source": [
        "Ce théorème met en évidence les compromis inévitables auxquels sont confrontées les bases de données distribuées. Les bases de données NoSQL, par exemple, adoptent fréquemment une approche connue sous le nom de [BASE](https://en.wikipedia.org/wiki/Eventual_consistency) (*Basically Available, Soft State, Eventually Consistent*).\n",
        "\n",
        "* Le **BA**, d'**essentiellement disponible**, signifie qu'il peut y avoir une défaillance partielle dans certaines parties du système distribué, mais le reste du système continue de fonctionner.\n",
        "\n",
        "* Le **S** représente le fait que les données peuvent éventuellement être écrasées par des données plus récentes, ce qui est lié à la troisième propriété des transactions BASE, à savoir la **cohérence éventuelle**.\n",
        "\n",
        "* Le **E** évoque la **cohérence éventuelle**, ce qui indique qu'il peut y avoir des moments où la base de données n'est pas en état de cohérence, mais cette incohérence est tolérée en échange d'une meilleure disponibilité et d'une réactivité du système.\n",
        "\n",
        "Ainsi, le théorème CAP et le concept BASE fournissent un cadre essentiel pour comprendre les compromis inhérents à la conception de bases de données distribuées et l'importance d'adapter les caractéristiques de cohérence et d'accessibilité en fonction des besoins spécifiques de chaque application.\n"
      ],
      "metadata": {
        "id": "pqDExIWqAYMa"
      }
    },
    {
      "cell_type": "markdown",
      "source": [
        "# MongoDB\n",
        "-------------\n",
        "\n",
        "**MongoDB** est un système de gestion de bases de données orienté documents connu pour sa flexibilité et sa capacité à gérer des données de manière évolutive. Il se base sur un modèle de données unique où les documents jouent le rôle équivalent des entrées des tables dans les bases de données relationnelles.\n",
        "\n",
        "L'architecture de MongoDB est conçue pour offrir une grande adaptabilité et évolutivité. Les données sont organisées en **collections**, qui diffèrent des tables dans les bases de données relationnelles en ce qu'elles possèdent un schéma dynamique. Cette flexibilité permet aux développeurs d'ajouter ou de supprimer des champs dans les documents selon les besoins, sans imposer de contraintes rigides.\n",
        "\n",
        "Une particularité de MongoDB réside dans sa capacité à héberger plusieurs **bases de données indépendantes** au sein d'une seule instance. Chaque base de données peut contenir ses propres collections, offrant une isolation et une organisation des données au niveau de l'application.\n",
        "\n",
        "Chaque document dans une collection MongoDB est identifié par une clé spéciale, **_id**, qui doit être unique au sein de cette collection, similaire aux clés primaires des bases de données relationnelles.\n",
        "\n",
        "MongoDB est accompagné d'un outil puissant, le **mongo shell**, qui permet l'administration des instances MongoDB et la manipulation des données via le langage de requête propre à MongoDB. Ce shell va au-delà de la gestion des bases de données, puisqu'il s'agit également d'un interpréteur JavaScript complet, offrant ainsi la possibilité aux utilisateurs de créer et d'exécuter des scripts pour automatiser des tâches, effectuer des analyses et bien plus encore."
      ],
      "metadata": {
        "id": "Bt4BFB8a0I7b"
      }
    },
    {
      "cell_type": "markdown",
      "source": [
        "## Documents\n",
        "\n",
        "Le document, la base de MongoDB, est un ensemble ordonné de clés avec des valeurs associées. En JavaScript, les documents sont représentés sous forme d'objets, similaires à JSON (techniquement [BSON](https://bsonspec.org/)) :\n",
        "\n",
        "```javascript\n",
        "{\"salutation\" : \"Bonjour, tout le monde !\"}\n",
        "```\n",
        "\n",
        "Ce document simple contient une seule clé, `\"salutation\"`, avec une valeur de `\"Bonjour, tout le monde !\"`. La plupart des documents seront plus complexes que celui-ci et contiendront souvent plusieurs paires clé/valeur ou des documents imbriqués :\n",
        "\n",
        "```javascript\n",
        "{\n",
        "    \"genres\" : [ \"Comedy\", \"Horror\" ],\n",
        "    \"runtime\" : 84,\n",
        "    \"rated\" : \"R\",\n",
        "    \"cast\" : [\n",
        "      \"Eugene Levy\",\n",
        "      \"Andrea Martin\",\n",
        "      \"Ronald Ulrich\",\n",
        "      \"Randall Carpenter\"\n",
        "    ],\n",
        "    \"title\" : \"Cannibal Girls\",\n",
        "    \"languages\" : [ \"English\" ],\n",
        "    \"directors\": [ \"Ivan Reitman\" ],\n",
        "    \"writers\" : [\n",
        "      \"Daniel Goldberg (story)\",\n",
        "      \"Ivan Reitman (story)\",\n",
        "      \"Robert Sandler\"\n",
        "    ],\n",
        "    \"year\" : 1973,\n",
        "    \"imdb\" : { rating: 4.5, votes: 571, id: 69841 },\n",
        "    \"countries\" : [ \"Canada\" ],\n",
        "    \"type\" : \"movie\"\n",
        "}\n",
        "```\n",
        "\n",
        "Les clés d'un document sont des chaînes de caractères. Les clés ne doivent pas contenir le caractère `\\0` (le caractère nul)\n",
        "\n",
        "* Le `.` et `$` ont des propriétés spéciales et ne doivent être utilisés que dans certaines circonstances.\n",
        "\n",
        "MongoDB est sensible au type et à la casse et les documents ne peuvent pas contenir de clés en double.\n",
        "\n",
        "### JSON vs BSON\n",
        "\n",
        "| | JSON | BSON|\n",
        "|--|--|--|\n",
        "|Encodage| Chaine UTF-8 | Binaire |\n",
        "| Données supportées| String, Boolean, Number, Array | String, Boolean, Number (Integer, Float, Long, Decimal128...), Array, Date, Raw Binary |\n",
        "| Lisibilité | Humain et machine  | Machine uniquement  |\n",
        "\n",
        "Source: [JSON and BSON](https://www.mongodb.com/json-and-bson)"
      ],
      "metadata": {
        "id": "5oPvQZ7L5ASl"
      }
    },
    {
      "cell_type": "markdown",
      "source": [
        "## Collections\n",
        "\n",
        "Une collection est un ensemble de documents et peut être considérée comme l'analogue d'une table d'une base de données relationelle.\n",
        "\n",
        "### Schémas dynamiques\n",
        "\n",
        "Les collections ont des schémas dynamiques, ce qui signifie que les documents d'une même collection peuvent avoir un certain nombre de formes différentes. Par exemple:\n",
        "\n",
        "```javascript\n",
        "{\"salutation\" : \"Bonjour, tout le monde !\", \"visualisations\" : 10}\n",
        "{\"adieu\" : \"Au revoir, mes chères collègues !\"}\n",
        "```\n",
        "\n",
        "MongoDB permet de stocker tous les documents dans une même collection, mais il existe de très bonnes raisons de créer un schéma et de regrouper des types de documents apparentés.\n",
        "\n",
        "* **Bien que cela ne soit pas obligatoire par défaut, la définition de schémas pour une application est une bonne pratique.**\n",
        "\n",
        "Les noms de collection peuvent être n'importe quelle chaîne `UTF-8`, avec quelques restrictions :\n",
        "\n",
        "* La chaîne vide (`\"\"`) n'est pas un nom de collection valide.\n",
        "* Les noms de collection ne peuvent pas contenir le caractère `\\0` (le caractère nul).\n",
        "* On ne doit pas créer une collection dont le nom commence par `system.` car il s'agit d'un préfixe réservé aux collections internes."
      ],
      "metadata": {
        "id": "3K21Gwbw5Chi"
      }
    },
    {
      "cell_type": "markdown",
      "source": [
        "## Bases de données\n",
        "\n",
        "MongoDB organise les collections au sein de bases de données. Une seule instance de MongoDB peut contenir plusieurs bases de données, chacune pouvant regrouper zéro ou plusieurs collections.\n",
        "\n",
        "Une règle empirique conseille de stocker toutes les données d'une même application au sein d'une seule base de données. Les bases de données distinctes trouvent leur utilité lorsqu'il s'agit de stocker des données pour plusieurs applications ou utilisateurs sur un même serveur MongoDB."
      ],
      "metadata": {
        "id": "-sRIRsnY5IQZ"
      }
    },
    {
      "cell_type": "markdown",
      "source": [
        "## Pour exécuter les exemples\n",
        "\n",
        "Pour les exemples présentés dans ce cours, vous pouvez installer la [version communautaire de MongoDB](https://www.mongodb.com/docs/manual/installation/) sur votre ordinateur.\n",
        "\n",
        "Vou pouvez créer un cluster MongoDB gratuit sur le cloud d'Atlas:\n",
        "\n",
        "* https://www.mongodb.com/cloud\n",
        "\n",
        "Vou pouvez également installer la bibliothèque `colab-xterm` qui permet d'accéder la console du conteneur de Colab même si vous n'êtes pas abonné au service Pro (solution un peu hack à ruban adhésif):"
      ],
      "metadata": {
        "id": "jSONYKpnxdwV"
      }
    },
    {
      "cell_type": "code",
      "source": [
        "\"\"\"Pour installer et charger la bibliothèque\"\"\"\n",
        "!pip install colab-xterm\n",
        "%load_ext colabxterm"
      ],
      "metadata": {
        "id": "t-Odp40SI4Jf",
        "colab": {
          "base_uri": "https://localhost:8080/"
        },
        "outputId": "11baf650-d9c6-496e-eb39-0d80cd3f9b97"
      },
      "execution_count": null,
      "outputs": [
        {
          "output_type": "stream",
          "name": "stdout",
          "text": [
            "Collecting colab-xterm\n",
            "  Downloading colab_xterm-0.2.0-py3-none-any.whl (115 kB)\n",
            "\u001b[?25l     \u001b[90m━━━━━━━━━━━━━━━━━━━━━━━━━━━━━━━━━━━━━━━━\u001b[0m \u001b[32m0.0/115.6 kB\u001b[0m \u001b[31m?\u001b[0m eta \u001b[36m-:--:--\u001b[0m\r\u001b[2K     \u001b[91m━━━━━━━━━━━━━━━━━━━━━━━━━━━━\u001b[0m\u001b[90m╺\u001b[0m\u001b[90m━━━━━━━━━━━\u001b[0m \u001b[32m81.9/115.6 kB\u001b[0m \u001b[31m2.8 MB/s\u001b[0m eta \u001b[36m0:00:01\u001b[0m\r\u001b[2K     \u001b[90m━━━━━━━━━━━━━━━━━━━━━━━━━━━━━━━━━━━━━━━━\u001b[0m \u001b[32m115.6/115.6 kB\u001b[0m \u001b[31m2.8 MB/s\u001b[0m eta \u001b[36m0:00:00\u001b[0m\n",
            "\u001b[?25hRequirement already satisfied: ptyprocess~=0.7.0 in /usr/local/lib/python3.10/dist-packages (from colab-xterm) (0.7.0)\n",
            "Requirement already satisfied: tornado>5.1 in /usr/local/lib/python3.10/dist-packages (from colab-xterm) (6.3.2)\n",
            "Installing collected packages: colab-xterm\n",
            "Successfully installed colab-xterm-0.2.0\n"
          ]
        }
      ]
    },
    {
      "cell_type": "markdown",
      "source": [
        "Pour créer un terminal:"
      ],
      "metadata": {
        "id": "KTT1oXJoJNz_"
      }
    },
    {
      "cell_type": "code",
      "source": [
        "%xterm"
      ],
      "metadata": {
        "id": "kLwEteuWJLyH"
      },
      "execution_count": null,
      "outputs": []
    },
    {
      "cell_type": "markdown",
      "source": [
        "## MongoDB Shell\n",
        "\n",
        "MongoDB comporte un [shell JavaScript](https://www.mongodb.com/docs/mongodb-shell/install) qui permet l'interaction avec une instance MongoDB à partir de la ligne de commande. Le shell est utile pour effectuer des fonctions administratives, inspecter une instance en cours d'exécution ou simplement explorer MongoDB.\n",
        "\n",
        "Quelques informations utiles:\n",
        "\n",
        "* Le shell est un interpréteur JavaScript complet.\n",
        "\n",
        "* Par défault, il tente automatiquement de se connecter à un serveur MongoDB exécuté sur la machine locale.\n",
        "\n",
        "* Bien que la possibilité d'exécuter du JavaScript arbitraire soit utile, la véritable puissance du shell réside dans le fait qu'il s'agit également d'un client MongoDB autonome.\n",
        "\n",
        "Pour démarrer Mongo Shell, on exécute l'exécutable `mongosh`. Dans ce cahier nous allons utiliser la commande magic `%%mongo`, conçue pour fournir le contenu de la cellule à `mongosh` et afficher le résultat d'exécution:"
      ],
      "metadata": {
        "id": "mPeStAGX21DD"
      }
    },
    {
      "cell_type": "code",
      "source": [
        "%%mongo\n",
        "db"
      ],
      "metadata": {
        "id": "9DywE4b-kb4Q",
        "colab": {
          "base_uri": "https://localhost:8080/"
        },
        "outputId": "0df5a075-d628-447e-c762-698f813a1e9e"
      },
      "execution_count": null,
      "outputs": [
        {
          "output_type": "stream",
          "name": "stdout",
          "text": [
            "test> test\n",
            "test> "
          ]
        }
      ]
    },
    {
      "cell_type": "markdown",
      "source": [
        "Au démarrage, le shell se connecte à la base de données de `test` sur un serveur MongoDB et affecte cette connexion à la base de données à la variable globale `db`. Nous pouvons changer la base (et en créer une nouvelle) à l'aide du mot-clé `use`:"
      ],
      "metadata": {
        "id": "a8XckWAwlBoz"
      }
    },
    {
      "cell_type": "code",
      "source": [
        "%%mongo\n",
        "use sample_mflix"
      ],
      "metadata": {
        "id": "q5CTplEmlE70",
        "colab": {
          "base_uri": "https://localhost:8080/"
        },
        "outputId": "d490cad6-b997-4bc6-ed2a-75c3187e97b2"
      },
      "execution_count": null,
      "outputs": [
        {
          "output_type": "stream",
          "name": "stdout",
          "text": [
            "test> switched to db sample_mflix\n",
            "sample_mflix> "
          ]
        }
      ]
    },
    {
      "cell_type": "markdown",
      "source": [
        "Nous pouvons lister les bases de données disponibles:"
      ],
      "metadata": {
        "id": "QnvUWzMWlTnZ"
      }
    },
    {
      "cell_type": "code",
      "source": [
        "%%mongo\n",
        "show dbs"
      ],
      "metadata": {
        "id": "eTQZWdUClU_s",
        "colab": {
          "base_uri": "https://localhost:8080/"
        },
        "outputId": "1fa17a10-1243-49ef-ad80-8d45a46483fb"
      },
      "execution_count": null,
      "outputs": [
        {
          "output_type": "stream",
          "name": "stdout",
          "text": [
            "test> admin                40.00 KiB\n",
            "config               60.00 KiB\n",
            "local                40.00 KiB\n",
            "sample_airbnb        53.73 MiB\n",
            "sample_analytics      9.47 MiB\n",
            "sample_geospatial   784.00 KiB\n",
            "sample_mflix         28.33 MiB\n",
            "sample_supplies     968.00 KiB\n",
            "sample_training      61.12 MiB\n",
            "sample_weatherdata    2.52 MiB\n",
            "test> "
          ]
        }
      ]
    },
    {
      "cell_type": "markdown",
      "source": [
        "Pour lister les collections de la base de données `sample_mflix`:"
      ],
      "metadata": {
        "id": "SnHjGv2Ilo79"
      }
    },
    {
      "cell_type": "code",
      "source": [
        "%%mongo\n",
        "use sample_mflix\n",
        "show collections"
      ],
      "metadata": {
        "id": "_qdxx58ClvMN",
        "colab": {
          "base_uri": "https://localhost:8080/"
        },
        "outputId": "0096cbb3-feaf-4385-9534-f45c4da5dd35"
      },
      "execution_count": null,
      "outputs": [
        {
          "output_type": "stream",
          "name": "stdout",
          "text": [
            "test> switched to db sample_mflix\n",
            "sample_mflix> comments\n",
            "movies\n",
            "sessions\n",
            "theaters\n",
            "users\n",
            "sample_mflix> "
          ]
        }
      ]
    },
    {
      "cell_type": "markdown",
      "source": [
        "La variable `db` peut être utilisé pour accéder à des collections:"
      ],
      "metadata": {
        "id": "14ZFQLrtkOLQ"
      }
    },
    {
      "cell_type": "code",
      "source": [
        "%%mongo\n",
        "use sample_mflix\n",
        "db.movies.findOne({})"
      ],
      "metadata": {
        "id": "Bto0BCQKl36O",
        "colab": {
          "base_uri": "https://localhost:8080/"
        },
        "outputId": "20568160-5eb3-4e69-fdf4-d6862a9ba43a"
      },
      "execution_count": null,
      "outputs": [
        {
          "output_type": "stream",
          "name": "stdout",
          "text": [
            "test> switched to db sample_mflix\n",
            "sample_mflix> {\n",
            "  _id: ObjectId('573a1390f29313caabcd4135'),\n",
            "  plot: 'Three men hammer on an anvil and pass a bottle of beer around.',\n",
            "  genres: [ 'Short' ],\n",
            "  runtime: 1,\n",
            "  cast: [ 'Charles Kayser', 'John Ott' ],\n",
            "  num_mflix_comments: 1,\n",
            "  title: 'Blacksmith Scene',\n",
            "  fullplot: 'A stationary camera looks at a large anvil with a blacksmith behind it and one on either side. The smith in the middle draws a heated metal rod from the fire, places it on the anvil, and all three begin a rhythmic hammering. After several blows, the metal goes back in the fire. One smith pulls out a bottle of beer, and they each take a swig. Then, out comes the glowing metal and the hammering resumes.',\n",
            "  countries: [ 'USA' ],\n",
            "  released: ISODate('1893-05-09T00:00:00.000Z'),\n",
            "  directors: [ 'William K.L. Dickson' ],\n",
            "  rated: 'UNRATED',\n",
            "  awards: { wins: 1, nominations: 0, text: '1 win.' },\n",
            "  lastupdated: '2015-08-26 00:03:50.133000000',\n",
            "  year: 1893,\n",
            "  imdb: { rating: 6.2, votes: 1189, id: 5 },\n",
            "  type: 'movie',\n",
            "  tomatoes: {\n",
            "    viewer: { rating: 3, numReviews: 184, meter: 32 },\n",
            "    lastUpdated: ISODate('2015-06-28T18:34:09.000Z')\n",
            "  }\n",
            "}\n",
            "sample_mflix> "
          ]
        }
      ]
    },
    {
      "cell_type": "markdown",
      "source": [
        "## Opérations de base\n",
        "\n",
        "Toutes les opérations d'écriture dans MongoDB sont atomiques au niveau d'un seul document.\n",
        "\n",
        "### Écrire dans une collection\n",
        "\n",
        "Les fonctions `insertOne` et `insertMany` sont utilisées pour ajouter des documents à une collection.\n",
        "\n",
        "**Exemples:**\n",
        "\n",
        "```javascript\n",
        "db.planets.insertOne(\n",
        "  {\n",
        "    \"name\": 'Jupiter',\n",
        "    \"orderFromSun\": 5,\n",
        "    \"hasRings\": true,\n",
        "    \"mainAtmosphere\": [ 'H2', 'He', 'CH4' ],\n",
        "    \"surfaceTemperatureC\": { min: null, max: null, mean: -145.15 }\n",
        "  }\n",
        ")\n",
        "```\n",
        "\n",
        "Si la planète a été enregistrée dans la base de données, un JSON contenant son identifiant sera renvoyé.\n",
        "\n",
        "```javascript\n",
        "{\n",
        "  acknowledged: true,\n",
        "  insertedId: ObjectId(\"624107dd97f816cef5440c09\")\n",
        "}\n",
        "```\n",
        "\n",
        "Pour ajouter plusieurs documents:\n",
        "\n",
        "```javascript\n",
        "db.planets.insertMany(\n",
        "  [\n",
        "    {\n",
        "      \"name\": 'Jupiter',\n",
        "      \"orderFromSun\": 5,\n",
        "      \"hasRings\": true,\n",
        "      \"mainAtmosphere\": [ 'H2', 'He', 'CH4' ],\n",
        "      \"surfaceTemperatureC\": { min: null, max: null, mean: -145.15 }\n",
        "    },\n",
        "    {\n",
        "      \"name\": 'Earth',\n",
        "      \"orderFromSun\": 3,\n",
        "      \"hasRings\": false,\n",
        "      \"mainAtmosphere\": [ 'N', 'O2', 'Ar' ],\n",
        "      \"surfaceTemperatureC\": { \"min\": -89.2, \"max\": 56.7, \"mean\": 14 }\n",
        "    }\n",
        "  ]\n",
        ")\n",
        "```\n",
        "\n",
        "Résultat d'exécution:\n",
        "\n",
        "```javascript\n",
        "{\n",
        "  acknowledged: true,\n",
        "  insertedIds: {\n",
        "    '0': ObjectId(\"624108b997f816cef5440c0a\"),\n",
        "    '1': ObjectId(\"624108b997f816cef5440c0b\")\n",
        "  }\n",
        "}\n",
        "```"
      ],
      "metadata": {
        "id": "goj-79b32c-z"
      }
    },
    {
      "cell_type": "markdown",
      "source": [
        "### Lire d'une collection\n",
        "\n",
        "Les méthodes `find` et `findOne` sont utilisées pour interroger une collection:\n",
        "\n",
        "**Exemples:**\n",
        "\n",
        "```javascript\n",
        "db.planets.find({orderFromSun: {$lt: 4}})\n",
        "```\n",
        "\n",
        "Exemple de réponse:\n",
        "\n",
        "```javascript\n",
        "[\n",
        "  {\n",
        "    _id: ObjectId(\"621ff30d2a3e781873fcb65c\"),\n",
        "    name: 'Mercury',\n",
        "    orderFromSun: 1,\n",
        "    hasRings: false,\n",
        "    mainAtmosphere: [],\n",
        "    surfaceTemperatureC: { min: -173, max: 427, mean: 67 }\n",
        "  },\n",
        "  {\n",
        "    _id: ObjectId(\"621ff30d2a3e781873fcb662\"),\n",
        "    name: 'Venus',\n",
        "    orderFromSun: 2,\n",
        "    hasRings: false,\n",
        "    mainAtmosphere: [ 'CO2', 'N' ],\n",
        "    surfaceTemperatureC: { min: null, max: null, mean: 464 }\n",
        "  },\n",
        "  {\n",
        "    _id: ObjectId(\"624108b997f816cef5440c0b\"),\n",
        "    name: 'Earth',\n",
        "    orderFromSun: 3,\n",
        "    hasRings: false,\n",
        "    mainAtmosphere: [ 'N', 'O2', 'Ar' ],\n",
        "    surfaceTemperatureC: { min: -89.2, max: 56.7, mean: 14 }\n",
        "  }\n",
        "]\n",
        "```\n",
        "\n",
        "Pour specifier une condition/filtre:\n",
        "\n",
        "```javascript\n",
        "db.planets.findOne({orderFromSun: {$lt: 4}})\n",
        "```\n",
        "\n",
        "Exemple de réponse:\n",
        "\n",
        "```javascript\n",
        "{\n",
        "  _id: ObjectId(\"621ff30d2a3e781873fcb65c\"),\n",
        "  name: 'Mercury',\n",
        "  orderFromSun: 1,\n",
        "  hasRings: false,\n",
        "  mainAtmosphere: [],\n",
        "  surfaceTemperatureC: { min: -173, max: 427, mean: 67 }\n",
        "}\n",
        "```\n",
        "\n",
        "**Note:** Consultez la documentation de MongoDB pour une liste detaillée des [operateurs de compairaison](https://www.mongodb.com/docs/manual/reference/operator/query/)"
      ],
      "metadata": {
        "id": "CGnI2Xjt3Amo"
      }
    },
    {
      "cell_type": "markdown",
      "source": [
        "### Mises à jour\n",
        "\n",
        "Si nous souhaitons modifier un document, nous pouvons utiliser `updateOne` ou `updateMany`. La méthode `updateOne` prend (au moins) deux paramètres:\n",
        "\n",
        "* le premier est le critère pour trouver quel document mettre à jour, et\n",
        "\n",
        "* le second est un document décrivant les mises à jour à faire.\n",
        "\n",
        "**Exemple:**\n",
        "\n",
        "```javascript\n",
        "db.planets.updateOne({name: \"Mercury\"}, {$set: {obs: \"Planète très chaude\"}})\n",
        "```\n",
        "\n",
        "Exemple de réponse:\n",
        "```javascript\n",
        "{\n",
        "  acknowledged: true,\n",
        "  insertedId: null,\n",
        "  matchedCount: 1,\n",
        "  modifiedCount: 1,\n",
        "  upsertedCount: 0\n",
        "}\n",
        "```\n",
        "\n",
        "**Note:** Pour aller plus loin, regardez le [guide sur les opérateurs de mise à jour](https://www.mongodb.com/docs/manual/reference/operator/update/) de MongoDB."
      ],
      "metadata": {
        "id": "D94y7dpWCkXO"
      }
    },
    {
      "cell_type": "markdown",
      "source": [
        "### Pour supprimer des documents\n",
        "\n",
        "Les méthodes `deleteOne` et `deleteMany` suppriment définitivement des documents de la base de données. Les deux méthodes utilisent un document filtre spécifiant les critères de suppression.\n",
        "\n",
        "**Exemple:**\n",
        "\n",
        "```javascript\n",
        "db.planets.deleteOne({_id: ObjectId(\"621ff30d2a3e781873fcb661\")})\n",
        "```\n",
        "\n",
        "Exemple de réponse:\n",
        "\n",
        "```javascript\n",
        "{ acknowledged: true, deletedCount: 1 }\n",
        "```\n",
        "\n",
        "**Note:** Pour aller plus loin, regardez [le guide sur les opérations CRUD](https://www.mongodb.com/docs/manual/crud/) (*Create, Read, Update, Delete*) de MongoDB."
      ],
      "metadata": {
        "id": "Mx2ptTZy40KR"
      }
    },
    {
      "cell_type": "markdown",
      "source": [
        "## Types de données\n",
        "\n",
        "MongoDB prend en charge un large éventail de types de données en tant que valeurs dans les documents. Les documents dans MongoDB peuvent être considérés comme \"de type JSON\" en ce sens qu'ils sont conceptuellement similaires aux objets en JavaScript.\n",
        "\n",
        "**MongoDB ajoute un nombre de types de données supplémentaires tout en conservant la nature essentielle de la paire clé/valeur de JSON.**\n",
        "\n",
        "Les types les plus courants sont :\n",
        "\n",
        "  - **Null:** Le type null peut être utilisé pour représenter à la fois une valeur `null` et un champ inexistant:\n",
        "```javascript\n",
        "{\"x\" : null}\n",
        "```\n",
        "\n",
        "  - **Booléen:** Il existe un type booléen, qui peut être utilisé pour les valeurs `true` et `false`:\n",
        "```javascript\n",
        "{\"x\" : true}\n",
        "```\n",
        "\n",
        "  - **Nombre:** Le shell utilise par défaut des nombres à virgule flottante 64 bits. Ainsi, ces nombres semblent tous deux \"normaux\" dans le shell:\n",
        "```javascript\n",
        "{\"x\" : 3.14}\n",
        "{\"x\" : 3}\n",
        "```\n",
        "Pour les entiers, on utilise les classes `NumberInt` ou `NumberLong`, qui représentent respectivement des entiers signés de 4 ou 8 octets.\n",
        "```javascript\n",
        "{\"x\" : NumberInt(\"3\")}\n",
        "{\"x\" : NumberLong(\"3\")}\n",
        "```\n",
        "\n",
        "  - **Chaîne de caractères:** Toute chaîne de caractères `UTF-8` peut être représentée à l'aide du type de chaîne :\n",
        "```javascript\n",
        "{\"x\" : \"une chaine de caractères\"}\n",
        "```\n",
        "  - **Date:** MongoDB stocke les dates sous forme d'entiers 64 bits représentant des millisecondes depuis l'époque Unix (1er janvier 1970). Le fuseau horaire n'est pas enregistré:\n",
        "```javascript\n",
        "{\"x\" : new Date()}\n",
        "```\n",
        "  - **Expression régulière:** Les requêtes peuvent utiliser des expressions régulières à l'aide de la syntaxe d'expression régulière de JavaScript:\n",
        "```javascript\n",
        "{\"x\" : /foobar/i}\n",
        "```\n",
        "  - **Listes ou ensembles:** Les ensembles ou listes de valeurs peuvent être représentés sous forme de tableaux :\n",
        "```javascript\n",
        "{\"x\" : [\"a\", \"b\", \"c\"]}\n",
        "```\n",
        "  - **Document intégré:** Les documents peuvent contenir des documents entiers incorporés en tant que valeurs dans un document parent:\n",
        "```javascript\n",
        "{\"x\" : {\"foo\" : \"bar\"}}\n",
        "```\n",
        "  - **ID d'objet:** Un ID d'objet est un ID de 12 octets pour les documents :\n",
        "```javascript\n",
        "{\"x\" : ObjectId()}\n",
        "```"
      ],
      "metadata": {
        "id": "eJ3CCxkjBYXW"
      }
    },
    {
      "cell_type": "markdown",
      "source": [
        "# MongoDB et Node.js\n",
        "-------------\n",
        "\n",
        "Avant de regarder une version MongoDB de notre application de cuisine, regardons comment utiliser le module `mongodb` pour se connecter à MongoDB et consulter quelques informations d'une collection."
      ],
      "metadata": {
        "id": "zcT5FMj1jZHh"
      }
    },
    {
      "cell_type": "markdown",
      "source": [
        "## Le module `mongodb`\n",
        "\n",
        "Pour se connecter à MongoDB à partir des applications Node.js, nous utiliserons le pilote natif dont [la documentation](https://www.mongodb.com/docs/drivers/node/current/) se trouve disponible en ligne. Pour installer le module qui contient le pilote:"
      ],
      "metadata": {
        "id": "uI3CqHUARexA"
      }
    },
    {
      "cell_type": "code",
      "source": [
        "!npm install --save mongodb"
      ],
      "metadata": {
        "id": "Tmo8Z6CZjeJb",
        "colab": {
          "base_uri": "https://localhost:8080/"
        },
        "outputId": "30fcba82-f94c-4cda-a8ee-8b9f44f2e7d4"
      },
      "execution_count": null,
      "outputs": [
        {
          "output_type": "stream",
          "name": "stdout",
          "text": [
            "\u001b[K\u001b[?25h\n",
            "added 12 packages in 2s\n",
            "\u001b[37;40mnpm\u001b[0m \u001b[0m\u001b[36;40mnotice\u001b[0m\u001b[35m\u001b[0m \n",
            "\u001b[0m\u001b[37;40mnpm\u001b[0m \u001b[0m\u001b[36;40mnotice\u001b[0m\u001b[35m\u001b[0m New \u001b[31mmajor\u001b[39m version of npm available! \u001b[31m9.8.1\u001b[39m -> \u001b[32m10.2.4\u001b[39m\n",
            "\u001b[0m\u001b[37;40mnpm\u001b[0m \u001b[0m\u001b[36;40mnotice\u001b[0m\u001b[35m\u001b[0m Changelog: \u001b[36mhttps://github.com/npm/cli/releases/tag/v10.2.4\u001b[39m\n",
            "\u001b[0m\u001b[37;40mnpm\u001b[0m \u001b[0m\u001b[36;40mnotice\u001b[0m\u001b[35m\u001b[0m Run \u001b[32mnpm install -g npm@10.2.4\u001b[39m to update!\n",
            "\u001b[0m\u001b[37;40mnpm\u001b[0m \u001b[0m\u001b[36;40mnotice\u001b[0m\u001b[35m\u001b[0m \n",
            "\u001b[0m"
          ]
        }
      ]
    },
    {
      "cell_type": "markdown",
      "source": [
        "Un exemple de connexion à MongoDB pour récupérer des données de la collection `customers` de la base `sample_analytics` :"
      ],
      "metadata": {
        "id": "o40ibzUFkvR4"
      }
    },
    {
      "cell_type": "code",
      "source": [
        "%%javascript --target=node --filename=mongodb_connect.mjs\n",
        "\n",
        "// const { MongoClient } = require('mongodb');\n",
        "// ou importer comment un module ES:\n",
        "\n",
        "import { MongoClient } from 'mongodb'\n",
        "\n",
        "// l'URL de connexion\n",
        "const url = 'mongodb://localhost:27017';\n",
        "const client = new MongoClient(url);\n",
        "\n",
        "// Le nom de la base de données (du dataset d'exemple importé tout à l'heure)\n",
        "const dbName = 'sample_analytics';\n",
        "\n",
        "async function main() {\n",
        "  await client.connect();  // connect pour connecter au serveur MongoDB\n",
        "\n",
        "  console.log('Connecté au serveur');\n",
        "  const db = client.db(dbName);   // sélectionner la base de données\n",
        "  const collection = db.collection('customers');   // Choisir la collection\n",
        "\n",
        "  // Chercher un document et l'afficher sur la console\n",
        "  // .project({accounts: 0, tier_and_details: 0}) pour ignorer\n",
        "  // les champs accounts et tier_and_details\n",
        "  return await collection.find({name: {$regex : \"Lauren\"}}).project({accounts: 0, tier_and_details: 0}).toArray();\n",
        "}\n",
        "\n",
        "main()\n",
        "  .then(result => {\n",
        "    console.log(\"Liste de résultats:\")\n",
        "    console.log(JSON.stringify(result, null, 2))\n",
        "  })\n",
        "  .catch(console.error)\n",
        "  .finally(() => client.close());"
      ],
      "metadata": {
        "id": "TWIBs3QoUuKf"
      },
      "execution_count": null,
      "outputs": []
    },
    {
      "cell_type": "markdown",
      "source": [
        "# API REST cuisine (version MongoDB)\n",
        "------------------\n",
        "\n",
        "Dans ce cahier nous allons mettre en place une version de l'API REST qui intègre MongoDB, étendant ainsi l'implémentation du cours précédent. Grâce à cette API, les applications clientes auront la capacité de récupérer des informations sur les recettes stockées dans une collection MongoDB et de les mettre à jour.\n",
        "\n",
        "Pour commencer, nous allons organiser notre application en créant une structure de dossiers qui permettra de séparer les différentes fonctionnalités. Ensuite, nous procéderons à la création manuelle du fichier `package.json`, où nous spécifions les dépendances et la configuration de notre projet.\n",
        "\n",
        "Les modèles de cette version interagissent avec la base de données en utilisant du pilote natif de MongoDB. **Pour des applications plus complexes, vous pouvez envisager utiliser un intergiciel ODM (Object Document Mapper) comme [Mongoose](https://mongoosejs.com/), utilisé dans le prochain cahier.**"
      ],
      "metadata": {
        "id": "7iROHvrIxp8K"
      }
    },
    {
      "cell_type": "code",
      "source": [
        "\"\"\"\n",
        "Pour changer le dossier de travail de Colab et créer\n",
        "les dossiers pour mieux structurer le projet.\n",
        "\"\"\"\n",
        "%cd /content/cuisine\n",
        "\n",
        "!mkdir -p db config models controllers routers pages json/cuisine"
      ],
      "metadata": {
        "id": "4P0hrVeqZj_l",
        "colab": {
          "base_uri": "https://localhost:8080/"
        },
        "outputId": "0e49b5c9-96c6-4f25-d3eb-69d4cfe2fcbb"
      },
      "execution_count": null,
      "outputs": [
        {
          "output_type": "stream",
          "name": "stdout",
          "text": [
            "/content/cuisine\n"
          ]
        }
      ]
    },
    {
      "cell_type": "markdown",
      "source": [
        "Pour créer le fichier `package.json` du projet:"
      ],
      "metadata": {
        "id": "ENjeMC52axS_"
      }
    },
    {
      "cell_type": "code",
      "source": [
        "%%writefile package.json\n",
        "{\n",
        "  \"name\": \"cuisine\",\n",
        "  \"version\": \"1.0.0\",\n",
        "  \"description\": \"Exemple d'API REST avec MongoDB\",\n",
        "  \"main\": \"index.js\",\n",
        "  \"type\": \"module\",\n",
        "  \"scripts\": {\n",
        "    \"start\": \"node index.mjs\",\n",
        "    \"dev\": \"NODE_ENV=development nodemon index.mjs\"\n",
        "  },\n",
        "  \"keywords\": [\n",
        "    \"mongodb\",\n",
        "    \"REST\",\n",
        "    \"Express\"\n",
        "  ],\n",
        "  \"author\": \"Marcos Dias de Assuncao\",\n",
        "  \"license\": \"MIT\",\n",
        "  \"dependencies\": {\n",
        "    \"cors\": \"^2.8.5\",\n",
        "    \"dotenv\": \"^16.3.1\",\n",
        "    \"dotenv-expand\": \"^10.0.0\",\n",
        "    \"express\": \"^4.18.2\",\n",
        "    \"mongodb\": \"^6.2.0\"\n",
        "  },\n",
        "  \"devDependencies\": {\n",
        "    \"nodemon\": \"^3.0.1\"\n",
        "  }\n",
        "}\n"
      ],
      "metadata": {
        "id": "MwfiWqukaQri",
        "colab": {
          "base_uri": "https://localhost:8080/"
        },
        "outputId": "b6b00a8c-d5ad-4444-9884-f0ca39970d0f"
      },
      "execution_count": null,
      "outputs": [
        {
          "output_type": "stream",
          "name": "stdout",
          "text": [
            "Writing package.json\n"
          ]
        }
      ]
    },
    {
      "cell_type": "markdown",
      "source": [
        "Pour installer les dépendances:"
      ],
      "metadata": {
        "id": "nJUxtM13bCrM"
      }
    },
    {
      "cell_type": "code",
      "source": [
        "!npm install"
      ],
      "metadata": {
        "id": "jl-KUptQbKKl",
        "colab": {
          "base_uri": "https://localhost:8080/"
        },
        "outputId": "6c3521b3-f2d4-4c7f-cffe-0da0691a3be4"
      },
      "execution_count": null,
      "outputs": [
        {
          "output_type": "stream",
          "name": "stdout",
          "text": [
            "\u001b[K\u001b[?25h\n",
            "added 111 packages, and audited 112 packages in 6s\n",
            "\n",
            "15 packages are looking for funding\n",
            "  run `npm fund` for details\n",
            "\n",
            "found \u001b[32m\u001b[1m0\u001b[22m\u001b[39m vulnerabilities\n",
            "\u001b[37;40mnpm\u001b[0m \u001b[0m\u001b[36;40mnotice\u001b[0m\u001b[35m\u001b[0m \n",
            "\u001b[0m\u001b[37;40mnpm\u001b[0m \u001b[0m\u001b[36;40mnotice\u001b[0m\u001b[35m\u001b[0m New \u001b[31mmajor\u001b[39m version of npm available! \u001b[31m9.8.1\u001b[39m -> \u001b[32m10.2.4\u001b[39m\n",
            "\u001b[0m\u001b[37;40mnpm\u001b[0m \u001b[0m\u001b[36;40mnotice\u001b[0m\u001b[35m\u001b[0m Changelog: \u001b[36mhttps://github.com/npm/cli/releases/tag/v10.2.4\u001b[39m\n",
            "\u001b[0m\u001b[37;40mnpm\u001b[0m \u001b[0m\u001b[36;40mnotice\u001b[0m\u001b[35m\u001b[0m Run \u001b[32mnpm install -g npm@10.2.4\u001b[39m to update!\n",
            "\u001b[0m\u001b[37;40mnpm\u001b[0m \u001b[0m\u001b[36;40mnotice\u001b[0m\u001b[35m\u001b[0m \n",
            "\u001b[0m"
          ]
        }
      ]
    },
    {
      "cell_type": "markdown",
      "source": [
        "## Fichier `dotenv` et initialisation de la base de données\n",
        "\n",
        "Comme cela a été fait lors du cours précédent, afin d'éviter d'inclure des chaînes de configuration dans le code, nous allons utiliser un fichier `.env` qui contiendra les variables d'environnement nécessaires à la connexion à MongoDB :"
      ],
      "metadata": {
        "id": "J-Nj-gwlBdZx"
      }
    },
    {
      "cell_type": "code",
      "source": [
        "%%writefile .env\n",
        "MONGO_DATABASE=cuisine\n",
        "MONGO_URI=mongodb://localhost:27017"
      ],
      "metadata": {
        "id": "EckmwkbiFaGJ",
        "colab": {
          "base_uri": "https://localhost:8080/"
        },
        "outputId": "94013011-4b6b-45bb-c731-2bd40e5db582"
      },
      "execution_count": null,
      "outputs": [
        {
          "output_type": "stream",
          "name": "stdout",
          "text": [
            "Writing .env\n"
          ]
        }
      ]
    },
    {
      "cell_type": "markdown",
      "source": [
        "Nous allons créer une base de données et une collection dédiée à l'enregistrement des recettes que nous avons étudiées lors de la dernière séance. Pour simplifier cette opération, l'entrepôt git du cours contient un fichier JSON lequel servira à l'initialisation de la base de données avec trois recettes que nous avons explorées.\n",
        "\n",
        "**Remarques :** L'entrepôt git du cours contient aussi un `Dockerfile` pour créer une image Docker avec MongoDB, la base utilisée pour cette activité et les bases de données d'exemple utilisées dans la première partie de ce cahier.\n",
        "\n",
        "<!--\n",
        "\n",
        "const dotenv = require(\"dotenv\").config();\n",
        "const {MongoClient} = require(\"mongodb\");\n",
        "const fs = require('fs');\n",
        "const pathToJson = \"recipes.json\";\n",
        "\n",
        "async function loadSampleDB() {\n",
        "  const client = new MongoClient(process.env.MONGODB_URI);\n",
        "  const conn = await client.connect();\n",
        "  const db = conn.db(process.env.MONGODB_DB);\n",
        "\n",
        "  const data = fs.readFileSync(pathToJson,{encoding:'utf8', flag:'r'});\n",
        "  const docs = JSON.parse(data);\n",
        "  await db.collection(\"dishes\").deleteMany({});\n",
        "  await db.collection(\"dishes\").insertMany(docs);\n",
        "  client.close();\n",
        "}\n",
        "\n",
        "loadSampleDB()\n",
        "  .then(() => {\n",
        "    console.log(\"Documents importés\");\n",
        "  })\n",
        "  .catch(error => {\n",
        "    console.log(\"Erreur pour importer les documents: \" + error.message);\n",
        "    process.exit(-1);\n",
        "  });\n",
        "  \n",
        "-->"
      ],
      "metadata": {
        "id": "rItV08JuCR0q"
      }
    },
    {
      "cell_type": "code",
      "source": [
        "!wget https://raw.githubusercontent.com/assuncaomarcos/gti525-examples/main/cours10-nosql/examples/cuisine/json/cuisine/dishes.json -O json/cuisine/dishes.json\n",
        "!mongoimport --drop --host localhost --port 27017 --db cuisine --collection dishes --file json/cuisine/dishes.json"
      ],
      "metadata": {
        "id": "vLZGUbe8AQdu",
        "colab": {
          "base_uri": "https://localhost:8080/"
        },
        "outputId": "71bcdfa5-5b3a-4821-8815-f8ec067cadce"
      },
      "execution_count": null,
      "outputs": [
        {
          "output_type": "stream",
          "name": "stdout",
          "text": [
            "--2023-11-23 01:03:23--  https://raw.githubusercontent.com/assuncaomarcos/gti525-examples/main/cours10-nosql/examples/cuisine/json/cuisine/dishes.json\n",
            "Resolving raw.githubusercontent.com (raw.githubusercontent.com)... 185.199.108.133, 185.199.109.133, 185.199.110.133, ...\n",
            "Connecting to raw.githubusercontent.com (raw.githubusercontent.com)|185.199.108.133|:443... connected.\n",
            "HTTP request sent, awaiting response... 200 OK\n",
            "Length: 3660 (3.6K) [text/plain]\n",
            "Saving to: ‘json/cuisine/dishes.json’\n",
            "\n",
            "\rjson/cuisine/dishes   0%[                    ]       0  --.-KB/s               \rjson/cuisine/dishes 100%[===================>]   3.57K  --.-KB/s    in 0s      \n",
            "\n",
            "2023-11-23 01:03:23 (45.0 MB/s) - ‘json/cuisine/dishes.json’ saved [3660/3660]\n",
            "\n",
            "2023-11-23T01:03:23.863+0000\tconnected to: mongodb://localhost:27017/\n",
            "2023-11-23T01:03:23.863+0000\tdropping: cuisine.dishes\n",
            "2023-11-23T01:03:23.890+0000\t3 document(s) imported successfully. 0 document(s) failed to import.\n"
          ]
        }
      ]
    },
    {
      "cell_type": "markdown",
      "source": [
        "## L'interface avec la base de données\n",
        "\n",
        "Commençons par le module qui fait la connexion avec MongoDB :"
      ],
      "metadata": {
        "id": "NsFOkVT1CUE_"
      }
    },
    {
      "cell_type": "code",
      "source": [
        "%%javascript --target=disk --filename=config/db.mjs\n",
        "\n",
        "import { MongoClient } from 'mongodb';\n",
        "import dotenv from 'dotenv';\n",
        "import dotenvExpand from 'dotenv-expand';\n",
        "\n",
        "const dotEnv = dotenv.config();\n",
        "dotenvExpand.expand(dotEnv);\n",
        "\n",
        "class DBConnection {\n",
        "\n",
        "    constructor() {\n",
        "        this.mongoURI = process.env.MONGO_URI;\n",
        "        this.databaseName = process.env.MONGO_DATABASE;\n",
        "        this.connection = null;\n",
        "    }\n",
        "\n",
        "    async connect() {\n",
        "        const client = new MongoClient(this.mongoURI);\n",
        "        this.connection = await client.connect();\n",
        "    }\n",
        "\n",
        "    getConnection() {\n",
        "        return this.connection.db(this.databaseName);\n",
        "    }\n",
        "}\n",
        "\n",
        "const instance = new DBConnection();\n",
        "export default instance;"
      ],
      "metadata": {
        "id": "Mya6fGKsMvPp"
      },
      "execution_count": null,
      "outputs": []
    },
    {
      "cell_type": "markdown",
      "source": [
        "## Le modèle\n",
        "\n",
        "Comme précédemment expliqué, le module ci-dessous interagit avec la base de données MongoDB. Pour vos applications, il peut être avantageux de considérer l'utilisation d'un module *Object Document Mapper (ODM)* tel que Mongoose. Ce choix facilite la création des schémas, des modèles et la validation des documents JSON utilisés, simplifiant ainsi le processus de gestion des données dans votre application."
      ],
      "metadata": {
        "id": "BKe4y1ssC4i-"
      }
    },
    {
      "cell_type": "code",
      "source": [
        "%%javascript --target=disk --filename=models/dishes.mjs\n",
        "\n",
        "import db from '../config/db.mjs';\n",
        "import { ObjectId } from \"mongodb\";\n",
        "\n",
        "class DishModel {\n",
        "\n",
        "    async all() {\n",
        "        const conn = db.getConnection();\n",
        "        try {\n",
        "            return await conn.collection('dishes').find().project({ ingredients: 0, directions: 0 }).toArray();\n",
        "        } catch (error) {\n",
        "            console.log(\"Erreur pour récupérer les plats: \" + error.message);\n",
        "        }\n",
        "    }\n",
        "\n",
        "    async dishById(dishId) {\n",
        "        const conn = db.getConnection();\n",
        "        try {\n",
        "            return await conn.collection('dishes').findOne({ _id : { $in: [new ObjectId(dishId)] } });\n",
        "        } catch (error) {\n",
        "            console.log(\"Erreur pour récupérer le plat: \" + error.message);\n",
        "        }\n",
        "    }\n",
        "\n",
        "    async ingredients(dishId) {\n",
        "        const conn = db.getConnection();\n",
        "        try {\n",
        "            return await conn.collection('dishes').aggregate([\n",
        "                { $match: { _id : { $in: [new ObjectId(dishId)] } } },\n",
        "                { $unwind: \"$ingredients\" },\n",
        "                { $replaceRoot: { newRoot: \"$ingredients\" } }\n",
        "            ]).toArray();\n",
        "        } catch (error) {\n",
        "            console.log(\"Erreur pour récupérer le plat ou ses ingrédients: \" + error.message);\n",
        "        }\n",
        "    }\n",
        "\n",
        "    async directions(dishId) {\n",
        "        const conn = db.getConnection();\n",
        "        try {\n",
        "            return await conn.collection('dishes').aggregate([\n",
        "                { $match: { _id : { $in: [new ObjectId(dishId)] } } },\n",
        "                { $unwind: \"$directions\" },\n",
        "                { $replaceRoot: { newRoot: \"$directions\" } }\n",
        "            ]).toArray();\n",
        "        } catch (error) {\n",
        "            console.log(\"Erreur pour récupérer le plat ou ses pas de préparation: \" + error.message);\n",
        "        }\n",
        "    }\n",
        "\n",
        "    async addIngredient(dishId, ingredient) {\n",
        "        const conn = db.getConnection();\n",
        "        try {\n",
        "            const result = await conn.collection('dishes').updateOne(\n",
        "                {_id : { $in: [new ObjectId(dishId)]}}, {$addToSet : {ingredients : ingredient}}\n",
        "            );\n",
        "            return result.modifiedCount ? ingredient : null;\n",
        "        } catch (error) {\n",
        "            console.log(\"Erreur pour ajouter l'ingrédient: \" + error.message);\n",
        "        }\n",
        "    }\n",
        "\n",
        "    async removeIngredient(dishId, itemId) {\n",
        "        const conn = db.getConnection();\n",
        "        try {\n",
        "            return await conn.collection('dishes')\n",
        "                .updateOne({ _id : { $in: [new ObjectId(dishId)] } },\n",
        "                    { $pull : { ingredients : { item_id: itemId } } });\n",
        "        } catch (error) {\n",
        "            console.log(\"Erreur pour supprimer l'ingrédient: \" + error.message);\n",
        "        }\n",
        "    }\n",
        "\n",
        "    async addDirection(dishId, direction) {\n",
        "        const conn = db.getConnection();\n",
        "        try {\n",
        "            const result = await conn.collection('dishes')\n",
        "                .updateOne({ _id : { $in: [new ObjectId(dishId)] } },\n",
        "                    { $addToSet : { directions : direction } });\n",
        "            return result.modifiedCount ? direction : null;\n",
        "        } catch (error) {\n",
        "            console.log(\"Erreur pour ajouter le pas de préparation: \" + error.message);\n",
        "        }\n",
        "    }\n",
        "\n",
        "    async removeDirection(dishId, stepId) {\n",
        "        const conn = db.getConnection();\n",
        "        try {\n",
        "            return await conn.collection('dishes')\n",
        "                .updateOne({ _id : { $in: [new ObjectId(dishId)] } },\n",
        "                    { $pull : { directions : { step_id: stepId } } });\n",
        "        } catch (error) {\n",
        "            console.log(\"Erreur pour supprimer le pas de préparation: \" + error.message);\n",
        "        }\n",
        "    }\n",
        "\n",
        "    async addOrUpdateDish(dishId, dish) {\n",
        "        const conn = db.getConnection();\n",
        "        try {\n",
        "            const result = await conn.collection('dishes').findOneAndUpdate(\n",
        "                { _id : { $in: [ new ObjectId(dishId) ] } },\n",
        "                {\n",
        "                    $set: dish\n",
        "                    // $setOnInsert: dish\n",
        "                },\n",
        "                {\n",
        "                    returnOriginal: false,       // Retourner le document ajouté\n",
        "                    upsert: true,                // ajouter le document s'il n'existe pas\n",
        "                    includeResultMetadata: true\n",
        "                });\n",
        "            if (result?.ok) {\n",
        "                return result?.value?._id || result?.lastErrorObject?.upserted;\n",
        "            } else {\n",
        "                return null;\n",
        "            }\n",
        "        } catch (error) {\n",
        "            console.log(\"Erreur pour ajouter le plat: \" + error.message);\n",
        "        }\n",
        "    }\n",
        "\n",
        "    async removeDish(dishId) {\n",
        "        const conn = db.getConnection();\n",
        "        try {\n",
        "            const result = await conn.collection('dishes').deleteOne({ _id : { $in: [new ObjectId(dishId)] } });\n",
        "            return result?.deletedCount ? dishId : null;\n",
        "        } catch (error) {\n",
        "            console.log(\"Erreur pour supprimer le plat: \" + error.message);\n",
        "        }\n",
        "    }\n",
        "}\n",
        "\n",
        "export default new DishModel();"
      ],
      "metadata": {
        "id": "2bhh4jYq1apm"
      },
      "execution_count": null,
      "outputs": []
    },
    {
      "cell_type": "markdown",
      "source": [
        "## Les contrôleurs\n",
        "\n",
        "Les contrôleurs dans notre implémentation reçoivent les requêtes envoyées à l'API, interagent avec le modèle pour obtenir les informations nécessaires, et renvoient des réponses aux applications clientes. Même si nous avons un seul modèle, l'implémentation offre trois contrôleurs: `dishes`, `ingredients` et `directions` pour mieux organiser le code source.\n",
        "\n",
        "**Le contrôleur `dishes` :**"
      ],
      "metadata": {
        "id": "9htPZV6fD3gm"
      }
    },
    {
      "cell_type": "code",
      "source": [
        "%%javascript --target=disk --filename=controllers/dishes.mjs\n",
        "\n",
        "import model from '../models/dishes.mjs';\n",
        "import { Response } from './response.mjs';\n",
        "\n",
        "class DishController {\n",
        "\n",
        "    async all(req, res) {\n",
        "        try {\n",
        "            const results = await model.all();\n",
        "            if (results.length > 0) {\n",
        "                res.json(Response.ok(results));\n",
        "            } else {\n",
        "                res.status(404).json(Response.notFound(\"Aucun plat trouvé.\"));\n",
        "            }\n",
        "        } catch (error) {\n",
        "            res.status(500).json(Response.serverError(error.message));\n",
        "        }\n",
        "    }\n",
        "\n",
        "    async dishById(req, res) {\n",
        "        const dishId = req.params.dishId;\n",
        "        try {\n",
        "            const result = await model.dishById(dishId);\n",
        "            if (result) {\n",
        "                res.json(Response.ok(result));\n",
        "            } else {\n",
        "                res.status(404).json(Response.notFound(\"Plat introuvable.\"));\n",
        "            }\n",
        "        } catch (error) {\n",
        "            res.status(500).json(Response.serverError(error.message));\n",
        "        }\n",
        "    }\n",
        "\n",
        "    async addOrUpdateDish(req, res) {\n",
        "        const dishId = req.params.dishId;\n",
        "        const dish = req.body;\n",
        "        try {\n",
        "            const result = await model.addOrUpdateDish(dishId, dish);\n",
        "            if (result) {\n",
        "                res.json(Response.ok(result));\n",
        "            } else {\n",
        "                res.status(400).json(Response.badRequest(\"Plat non ajouté/modifié.\"));\n",
        "            }\n",
        "        } catch (error) {\n",
        "            res.status(500).json(Response.serverError(error.message));\n",
        "        }\n",
        "    }\n",
        "\n",
        "    async removeDish(req, res) {\n",
        "        const dishId = req.params.dishId;\n",
        "        try {\n",
        "            const result = await model.removeDish(dishId);\n",
        "            if (result) {\n",
        "                res.json(Response.ok(dishId));\n",
        "            } else {\n",
        "                res.status(404).json(Response.notFound(\"Plat ou ingrédient introuvable.\"));\n",
        "            }\n",
        "        } catch (error) {\n",
        "            res.status(500).json(Response.serverError(error.message));\n",
        "        }\n",
        "    }\n",
        "}\n",
        "\n",
        "export default new DishController();"
      ],
      "metadata": {
        "id": "M7ED17KnZ76m"
      },
      "execution_count": null,
      "outputs": []
    },
    {
      "cell_type": "markdown",
      "source": [
        "**Le contrôleur `ingredients` :**"
      ],
      "metadata": {
        "id": "r6THyvmMK8CP"
      }
    },
    {
      "cell_type": "code",
      "source": [
        "%%javascript --target=disk --filename=controllers/ingredients.mjs\n",
        "\n",
        "import model from '../models/dishes.mjs';\n",
        "import { Response } from './response.mjs';\n",
        "\n",
        "class IngredientsController {\n",
        "\n",
        "     async ingredients(req, res) {\n",
        "        const dishId = req.params.dishId;\n",
        "        try {\n",
        "            const result = await model.ingredients(dishId);\n",
        "            if (result.length > 0) {\n",
        "                res.json(Response.ok(result));\n",
        "            } else {\n",
        "                res.status(404).json(Response.notFound(\"Plat ou ingrédients introuvables.\"));\n",
        "            }\n",
        "        } catch (error) {\n",
        "            res.status(500).json(Response.serverError(error.message));\n",
        "        }\n",
        "    }\n",
        "\n",
        "    async addIngredient(req, res) {\n",
        "        const dishId = req.params.dishId;\n",
        "        const ingredient = req.body;\n",
        "        try {\n",
        "            const result = await model.addIngredient(dishId, ingredient);\n",
        "            if (result) {\n",
        "                res.json(Response.ok(result));\n",
        "            } else {\n",
        "                res.status(404).json(Response.notFound(\"Plat introuvable ou ingrédient non ajouté.\"));\n",
        "            }\n",
        "        } catch (error) {\n",
        "            res.status(500).json(Response.serverError(error.message));\n",
        "        }\n",
        "    }\n",
        "\n",
        "    async removeIngredient(req, res) {\n",
        "        const dishId = req.params.dishId;\n",
        "        const itemId = Number(req.params.itemId);\n",
        "        try {\n",
        "            const result = await model.removeIngredient(dishId, itemId);\n",
        "            if (result.modifiedCount) {\n",
        "                res.json(new Response(200, `Ingrédient ${itemId} supprimé.`));\n",
        "            } else {\n",
        "                res.status(404).json(Response.notFound(\"Plat ou ingrédient introuvable.\"));\n",
        "            }\n",
        "        } catch (error) {\n",
        "            res.status(500).json(Response.serverError(error.message));\n",
        "        }\n",
        "    }\n",
        "}\n",
        "\n",
        "export default new IngredientsController();"
      ],
      "metadata": {
        "id": "WYUHoz7-LCQR"
      },
      "execution_count": null,
      "outputs": []
    },
    {
      "cell_type": "markdown",
      "source": [
        "**Le contrôleur `directions` :**"
      ],
      "metadata": {
        "id": "SPjoP1KPrI7M"
      }
    },
    {
      "cell_type": "code",
      "source": [
        "%%javascript --target=disk --filename=controllers/directions.mjs\n",
        "\n",
        "import model from '../models/dishes.mjs';\n",
        "import { Response } from './response.mjs';\n",
        "\n",
        "class DirectionsController {\n",
        "\n",
        "    async directions(req, res) {\n",
        "        const dishId = req.params.dishId;\n",
        "        try {\n",
        "            const result = await model.directions(dishId);\n",
        "            if (result.length > 0) {\n",
        "                res.json(Response.ok(result));\n",
        "            } else {\n",
        "                res.status(404).json(Response.notFound(\"Préparation du plat introuvable!\"));\n",
        "            }\n",
        "        } catch (error) {\n",
        "            res.status(500).json(Response.serverError(error.message));\n",
        "        }\n",
        "    }\n",
        "\n",
        "    async addDirection(req, res) {\n",
        "        const dishId = req.params.dishId;\n",
        "        const direction = req.body;\n",
        "        try {\n",
        "            const result = await model.addDirection(dishId, direction);\n",
        "            if (result) {\n",
        "                res.json(Response.ok(result));\n",
        "            } else {\n",
        "                res.status(404).json(Response.notFound(\"Plat introuvable ou pas de préparation non ajouté\"));\n",
        "            }\n",
        "        } catch (error) {\n",
        "            res.status(500).json(Response.serverError(error.message));\n",
        "        }\n",
        "    }\n",
        "\n",
        "    async removeDirection(req, res) {\n",
        "        const dishId = req.params.dishId;\n",
        "        const stepId = Number(req.params.itemId);\n",
        "        try {\n",
        "            const result = await model.removeDirection(dishId, stepId);\n",
        "            if (result.modifiedCount) {\n",
        "                res.json(new Response(200, `Pas de préparation ${stepId} supprimé.`));\n",
        "            } else {\n",
        "                res.status(404).json(Response.notFound(\"Plat ou pas de préparation introuvable\"));\n",
        "            }\n",
        "        } catch (error) {\n",
        "            res.status(500).json(Response.serverError(error.message));\n",
        "        }\n",
        "    }\n",
        "}\n",
        "\n",
        "export default new DirectionsController();"
      ],
      "metadata": {
        "id": "o91wKHWprN6Q"
      },
      "execution_count": null,
      "outputs": []
    },
    {
      "cell_type": "markdown",
      "source": [
        "**La classe utilitaire `Response` :**"
      ],
      "metadata": {
        "id": "UD4o5OyorX7X"
      }
    },
    {
      "cell_type": "code",
      "source": [
        "%%javascript --target=disk --filename=controllers/response.mjs\n",
        "\n",
        "export class Response {\n",
        "    constructor(code, message, data) {\n",
        "        this.code = code;\n",
        "        this.message = message;\n",
        "        this.data = data;\n",
        "    }\n",
        "\n",
        "    static ok(data) {\n",
        "        return new Response(200, \"OK\", data);\n",
        "    }\n",
        "\n",
        "    static error(code, message, data) {\n",
        "        return new Response(code, message, data);\n",
        "    }\n",
        "\n",
        "    static notFound(message) {\n",
        "        return new Response(404, message);\n",
        "    }\n",
        "\n",
        "    static badRequest(message) {\n",
        "        return new Response(400, message);\n",
        "    }\n",
        "\n",
        "    static serverError(message) {\n",
        "        return new Response(505, message);\n",
        "    }\n",
        "}"
      ],
      "metadata": {
        "id": "b4I77FrzrwV9"
      },
      "execution_count": null,
      "outputs": []
    },
    {
      "cell_type": "markdown",
      "source": [
        "## Le routeur\n",
        "\n",
        "Nous allons utiliser un seul routeur pour toutes les routes de notre API :"
      ],
      "metadata": {
        "id": "x1dWm7nQEXcZ"
      }
    },
    {
      "cell_type": "code",
      "source": [
        "%%javascript --target=disk --filename=routers/dishes.mjs\n",
        "\n",
        "import { Router } from \"express\";\n",
        "import dishController from \"../controllers/dishes.mjs\";\n",
        "import ingredientController from \"../controllers/ingredients.mjs\";\n",
        "import directionController from \"../controllers/directions.mjs\";\n",
        "\n",
        "const router = Router();\n",
        "\n",
        "router.route(\"/\")\n",
        "    .get(dishController.all)\n",
        "    .post(dishController.addOrUpdateDish);\n",
        "\n",
        "router.route(\"/:dishId\")\n",
        "    .get(dishController.dishById)\n",
        "    .delete(dishController.removeDish)\n",
        "    .patch(dishController.addOrUpdateDish);\n",
        "\n",
        "router.route(\"/:dishId/ingredients\")\n",
        "    .get(ingredientController.ingredients)\n",
        "    .post(ingredientController.addIngredient);\n",
        "\n",
        "router.route(\"/:dishId/ingredients/:itemId\")\n",
        "    .delete(ingredientController.removeIngredient);\n",
        "\n",
        "router.route(\"/:dishId/directions\")\n",
        "    .get(directionController.directions)\n",
        "    .post(directionController.addDirection);\n",
        "\n",
        "router.route(\"/:dishId/directions/:itemId\")\n",
        "    .delete(directionController.removeDirection);\n",
        "\n",
        "export default router;"
      ],
      "metadata": {
        "id": "h2Mb9OupTA6U"
      },
      "execution_count": null,
      "outputs": []
    },
    {
      "cell_type": "markdown",
      "source": [
        "## Le serveur\n",
        "\n",
        "Et finalement le code qui démarre le serveur responsable pour notre API REST:"
      ],
      "metadata": {
        "id": "2-9kFezaEuhq"
      }
    },
    {
      "cell_type": "code",
      "source": [
        "%%javascript --target=node --filename=index.mjs --port 3000\n",
        "\n",
        "import express from 'express';\n",
        "import db from './config/db.mjs';\n",
        "import dishRouter from './routers/dishes.mjs';\n",
        "\n",
        "const PORT = process.env.NODE_PORT || 3000;\n",
        "const app = express();\n",
        "app.use(express.json());\n",
        "app.use(\"/api/dishes\", dishRouter);\n",
        "\n",
        "try {\n",
        "    await db.connect();\n",
        "\n",
        "    app.listen(PORT, () => {\n",
        "        console.log(`Serveur écoutant sur le port ${PORT}`)\n",
        "    });\n",
        "} catch (error) {\n",
        "    console.log(\"Erreur: \" + error.message);\n",
        "}"
      ],
      "metadata": {
        "id": "wHokmYGxN5IS",
        "colab": {
          "base_uri": "https://localhost:8080/"
        },
        "outputId": "9034ff60-f74d-4920-89f4-5048889751ae"
      },
      "execution_count": null,
      "outputs": [
        {
          "output_type": "stream",
          "name": "stdout",
          "text": [
            "Serveur écoutant sur le port 3000\n"
          ]
        }
      ]
    },
    {
      "cell_type": "markdown",
      "source": [
        "## Tester l'API\n",
        "\n",
        "Pour consulter tous les plats enregistrés:"
      ],
      "metadata": {
        "id": "ho7jMLnOE6pg"
      }
    },
    {
      "cell_type": "code",
      "source": [
        "!curl -s http://localhost:3000/api/dishes/ | json_pp"
      ],
      "metadata": {
        "id": "mRydx0cfE8v_",
        "colab": {
          "base_uri": "https://localhost:8080/"
        },
        "outputId": "39a9a775-0dd1-459c-f36a-69e2418580f9"
      },
      "execution_count": null,
      "outputs": [
        {
          "output_type": "stream",
          "name": "stdout",
          "text": [
            "{\n",
            "   \"code\" : 200,\n",
            "   \"data\" : [\n",
            "      {\n",
            "         \"_id\" : \"65440b2535f4bbc023b6e672\",\n",
            "         \"name\" : \"Spaghettis au pesto\",\n",
            "         \"photo\" : \"https://assets.afcdn.com/recipe/20150828/19205_w768h583c1cx2048cy3072.webp\",\n",
            "         \"veg\" : 1\n",
            "      },\n",
            "      {\n",
            "         \"_id\" : \"65440b2535f4bbc023b6e671\",\n",
            "         \"name\" : \"Fettucine carbonara\",\n",
            "         \"photo\" : \"https://img.taste.com.au/yeaSrH46/w643-h428-cfill-q90/taste/2016/11/creamy-fettuccine-carbonara-105940-1.jpeg\",\n",
            "         \"veg\" : 0\n",
            "      },\n",
            "      {\n",
            "         \"_id\" : \"65440b2535f4bbc023b6e673\",\n",
            "         \"name\" : \"Fettuchine alfredo\",\n",
            "         \"photo\" : \"https://www.modernhoney.com/wp-content/uploads/2018/08/Fettuccine-Alfredo-Recipe-1.jpg\",\n",
            "         \"veg\" : 1\n",
            "      }\n",
            "   ],\n",
            "   \"message\" : \"OK\"\n",
            "}\n"
          ]
        }
      ]
    },
    {
      "cell_type": "markdown",
      "source": [
        "Pour consulter les ingrédients d'un plat:"
      ],
      "metadata": {
        "id": "c43k-FJvogqr"
      }
    },
    {
      "cell_type": "code",
      "source": [
        "!curl -s http://localhost:3000/api/dishes/65440b2535f4bbc023b6e672/ingredients | json_pp"
      ],
      "metadata": {
        "id": "p-v2iY3WooyS",
        "colab": {
          "base_uri": "https://localhost:8080/"
        },
        "outputId": "17c7f98d-38c2-4235-c3c8-9cf615635533"
      },
      "execution_count": null,
      "outputs": [
        {
          "output_type": "stream",
          "name": "stdout",
          "text": [
            "{\n",
            "   \"code\" : 200,\n",
            "   \"data\" : [\n",
            "      {\n",
            "         \"item_id\" : 1,\n",
            "         \"name\" : \"ail\",\n",
            "         \"quantity\" : 2,\n",
            "         \"unit\" : \"gousse\"\n",
            "      },\n",
            "      {\n",
            "         \"item_id\" : 2,\n",
            "         \"name\" : \"pignons de pin grillé\",\n",
            "         \"quantity\" : 50,\n",
            "         \"unit\" : \"g\"\n",
            "      },\n",
            "      {\n",
            "         \"item_id\" : 3,\n",
            "         \"name\" : \"parmesan râpé\",\n",
            "         \"quantity\" : 40,\n",
            "         \"unit\" : \"g\"\n",
            "      },\n",
            "      {\n",
            "         \"item_id\" : 4,\n",
            "         \"name\" : \"basilique\",\n",
            "         \"quantity\" : 4,\n",
            "         \"unit\" : \"botte\"\n",
            "      },\n",
            "      {\n",
            "         \"item_id\" : 5,\n",
            "         \"name\" : \"huile d'olive\",\n",
            "         \"quantity\" : 125,\n",
            "         \"unit\" : \"ml\"\n",
            "      },\n",
            "      {\n",
            "         \"item_id\" : 6,\n",
            "         \"name\" : \"spaguetti\",\n",
            "         \"quantity\" : 500,\n",
            "         \"unit\" : \"g\"\n",
            "      }\n",
            "   ],\n",
            "   \"message\" : \"OK\"\n",
            "}\n"
          ]
        }
      ]
    },
    {
      "cell_type": "markdown",
      "source": [
        "Pour consulter les pas de préparation d'un plat:"
      ],
      "metadata": {
        "id": "zn3QB8-VozXF"
      }
    },
    {
      "cell_type": "code",
      "source": [
        "!curl -s http://localhost:3000/api/dishes/65440b2535f4bbc023b6e672/directions | json_pp"
      ],
      "metadata": {
        "id": "-rRhKwr5o4qB",
        "colab": {
          "base_uri": "https://localhost:8080/"
        },
        "outputId": "82a69e4a-9683-4469-d373-b27c4e072824"
      },
      "execution_count": null,
      "outputs": [
        {
          "output_type": "stream",
          "name": "stdout",
          "text": [
            "{\n",
            "   \"code\" : 200,\n",
            "   \"data\" : [\n",
            "      {\n",
            "         \"description\" : \"Pour réaliser le pesto, avec un mixeur ou un robot, mixez l'ail, les pignons, le parmesan râpé et le basilic jusqu’à obtention d'un mélange presque lisse.\",\n",
            "         \"step_id\" : 1\n",
            "      },\n",
            "      {\n",
            "         \"description\" : \"Versez progressivement l'huile d'olive en filet, en mixant, jusqu'à ce que le mélange ait épaissi.\",\n",
            "         \"step_id\" : 2\n",
            "      },\n",
            "      {\n",
            "         \"description\" : \"Faites cuire les pâtes dans une grande casserole d'eau bouillante, Égouttez-les et réservez 60 ml de l'eau de cuisson.\",\n",
            "         \"step_id\" : 3\n",
            "      },\n",
            "      {\n",
            "         \"description\" : \"Mélangez les spaghettis, le pesto et l'eau de cuisson réservée dans un grand saladier.\",\n",
            "         \"step_id\" : 4\n",
            "      }\n",
            "   ],\n",
            "   \"message\" : \"OK\"\n",
            "}\n"
          ]
        }
      ]
    },
    {
      "cell_type": "markdown",
      "source": [
        "Pour ajouter une pincée de sel au plat `65440b2535f4bbc023b6e672`:"
      ],
      "metadata": {
        "id": "VQYzgEWHpYKY"
      }
    },
    {
      "cell_type": "code",
      "source": [
        "%%writefile sel.json\n",
        "{\n",
        "  \"item_id\": 7,\n",
        "  \"quantity\": 1,\n",
        "  \"unit\": \"pincée\",\n",
        "  \"name\": \"sel\"\n",
        "}"
      ],
      "metadata": {
        "id": "CTeK-zu8pbHO",
        "colab": {
          "base_uri": "https://localhost:8080/"
        },
        "outputId": "0e5bb983-1a8d-4e38-c120-5337a2a4438f"
      },
      "execution_count": null,
      "outputs": [
        {
          "output_type": "stream",
          "name": "stdout",
          "text": [
            "Writing sel.json\n"
          ]
        }
      ]
    },
    {
      "cell_type": "code",
      "source": [
        "%%bash\n",
        "curl -s -X POST http://localhost:3000/api/dishes/65440b2535f4bbc023b6e672/ingredients \\\n",
        "-H \"Content-Type: application/json; charset=utf-8\" \\\n",
        "--data @sel.json"
      ],
      "metadata": {
        "id": "J6ojjzE-ppHv",
        "colab": {
          "base_uri": "https://localhost:8080/"
        },
        "outputId": "233a721b-b974-47d6-df67-7b3def09cdca"
      },
      "execution_count": null,
      "outputs": [
        {
          "output_type": "stream",
          "name": "stdout",
          "text": [
            "{\"code\":200,\"message\":\"OK\",\"data\":{\"item_id\":7,\"quantity\":1,\"unit\":\"pincée\",\"name\":\"sel\"}}"
          ]
        }
      ]
    },
    {
      "cell_type": "code",
      "source": [
        "!curl -s http://localhost:3000/api/dishes/65440b2535f4bbc023b6e672/ingredients | json_pp"
      ],
      "metadata": {
        "id": "J3CwgR9wp8vx",
        "colab": {
          "base_uri": "https://localhost:8080/"
        },
        "outputId": "8e981ad5-9774-4c19-8a81-b8001f6e214c"
      },
      "execution_count": null,
      "outputs": [
        {
          "output_type": "stream",
          "name": "stdout",
          "text": [
            "{\n",
            "   \"code\" : 200,\n",
            "   \"data\" : [\n",
            "      {\n",
            "         \"item_id\" : 1,\n",
            "         \"name\" : \"ail\",\n",
            "         \"quantity\" : 2,\n",
            "         \"unit\" : \"gousse\"\n",
            "      },\n",
            "      {\n",
            "         \"item_id\" : 2,\n",
            "         \"name\" : \"pignons de pin grillé\",\n",
            "         \"quantity\" : 50,\n",
            "         \"unit\" : \"g\"\n",
            "      },\n",
            "      {\n",
            "         \"item_id\" : 3,\n",
            "         \"name\" : \"parmesan râpé\",\n",
            "         \"quantity\" : 40,\n",
            "         \"unit\" : \"g\"\n",
            "      },\n",
            "      {\n",
            "         \"item_id\" : 4,\n",
            "         \"name\" : \"basilique\",\n",
            "         \"quantity\" : 4,\n",
            "         \"unit\" : \"botte\"\n",
            "      },\n",
            "      {\n",
            "         \"item_id\" : 5,\n",
            "         \"name\" : \"huile d'olive\",\n",
            "         \"quantity\" : 125,\n",
            "         \"unit\" : \"ml\"\n",
            "      },\n",
            "      {\n",
            "         \"item_id\" : 6,\n",
            "         \"name\" : \"spaguetti\",\n",
            "         \"quantity\" : 500,\n",
            "         \"unit\" : \"g\"\n",
            "      },\n",
            "      {\n",
            "         \"item_id\" : 7,\n",
            "         \"name\" : \"sel\",\n",
            "         \"quantity\" : 1,\n",
            "         \"unit\" : \"pincée\"\n",
            "      }\n",
            "   ],\n",
            "   \"message\" : \"OK\"\n",
            "}\n"
          ]
        }
      ]
    },
    {
      "cell_type": "markdown",
      "source": [
        "Pour supprimer le sel:"
      ],
      "metadata": {
        "id": "7Fe4-3vHp28r"
      }
    },
    {
      "cell_type": "code",
      "source": [
        "!curl -s -X DELETE http://localhost:3000/api/dishes/65440b2535f4bbc023b6e672/ingredients/7"
      ],
      "metadata": {
        "id": "i8dYOiBTqEYS",
        "colab": {
          "base_uri": "https://localhost:8080/"
        },
        "outputId": "b9399474-0fa9-4e48-83ae-6217cb2fb31a"
      },
      "execution_count": null,
      "outputs": [
        {
          "output_type": "stream",
          "name": "stdout",
          "text": [
            "{\"code\":200,\"message\":\"Ingrédient 7 supprimé.\"}"
          ]
        }
      ]
    },
    {
      "cell_type": "markdown",
      "source": [
        "### Ajouter une nouvelle recette\n",
        "\n",
        "Pour ajouter une nouvelle recette nous allons d'abord créer un fichier `.json` avec la recette que nous voulons ajouter:"
      ],
      "metadata": {
        "id": "bUf90aCtFIkS"
      }
    },
    {
      "cell_type": "code",
      "source": [
        "%%writefile fettucine_boscaiola.json\n",
        "{\n",
        "  \"name\": \"Fettucine boscaiola\",\n",
        "  \"veg\": 0,\n",
        "  \"photo\": \"https://3catsfoodie.com/wp-content/uploads/2020/11/8A43059A-AA39-4FE4-8875-EDCAACF4A933_1_201_a-1024x748.jpeg\",\n",
        "  \"ingredients\": [\n",
        "    {\n",
        "      \"item_id\": 1,\n",
        "      \"quantity\": 500,\n",
        "      \"name\": \"fettucine\",\n",
        "      \"unit\": \"g\"\n",
        "    },\n",
        "    {\n",
        "      \"item_id\": 2,\n",
        "      \"quantity\": 2,\n",
        "      \"name\": \"huile d'olive\",\n",
        "      \"unit\": \"c. à c.\"\n",
        "    },\n",
        "    {\n",
        "      \"item_id\": 3,\n",
        "      \"unit\": \"g\",\n",
        "      \"quantity\": 200,\n",
        "      \"name\": \"champignons de Paris émincés\"\n",
        "    },\n",
        "    {\n",
        "      \"item_id\": 4,\n",
        "      \"name\": \"ail\",\n",
        "      \"quantity\": 2,\n",
        "      \"unit\": \"gousse\"\n",
        "    },\n",
        "    {\n",
        "      \"item_id\": 5,\n",
        "      \"unit\": \"g\",\n",
        "      \"quantity\": 200,\n",
        "      \"name\": \"jambon blanc grossièrement haché\"\n",
        "    },\n",
        "    {\n",
        "      \"item_id\": 6,\n",
        "      \"name\": \"vin blanc sec\",\n",
        "      \"quantity\": 60,\n",
        "      \"unit\": \"ml\"\n",
        "    },\n",
        "    {\n",
        "      \"item_id\": 7,\n",
        "      \"name\": \"crème liquide\",\n",
        "      \"quantity\": 300,\n",
        "      \"unit\": \"ml\"\n",
        "    },\n",
        "    {\n",
        "      \"item_id\": 8,\n",
        "      \"unit\": \"c. à s.\",\n",
        "      \"name\": \"ciboulette fraîche grossièrement hachée\",\n",
        "      \"quantity\": 2\n",
        "    }\n",
        "  ],\n",
        "  \"directions\": [\n",
        "    {\n",
        "      \"step_id\": 1,\n",
        "      \"description\": \"Faites cuire les pâtes dans une grande casserole d'eau bouillante, puis égouttez-les.\"\n",
        "    },\n",
        "    {\n",
        "      \"step_id\": 2,\n",
        "      \"description\": \"Pendant ce temps, faites chauffer l'huile d'olive dans une grande sauteuse. Faites revenir les champignons, l'ail et le jambon, en remuant, jusqu'à ce que les ingrédients soient légèrement dorés. Ajoutez le vin et faites bouillir sans couvrir, jusqu'à ce qu'il réduise de moitié.\"\n",
        "    },\n",
        "    {\n",
        "      \"step_id\": 3,\n",
        "      \"description\": \"Ajoutez la crème liquide dans la sauteuse et baissez le feu. Laissez mijoter à découvert jusqu'à ce que la sauce épaississe légèrement. \"\n",
        "    },\n",
        "    {\n",
        "      \"step_id\": 4,\n",
        "      \"description\": \"Ajoutez la ciboulette et les pâtes. Mélangez et servez.\"\n",
        "    }\n",
        "  ]\n",
        "}"
      ],
      "metadata": {
        "id": "Pcv3OihORyF7",
        "colab": {
          "base_uri": "https://localhost:8080/"
        },
        "outputId": "ba563d47-953c-44c7-be6d-f0fa851f6e9e"
      },
      "execution_count": null,
      "outputs": [
        {
          "output_type": "stream",
          "name": "stdout",
          "text": [
            "Writing fettucine_boscaiola.json\n"
          ]
        }
      ]
    },
    {
      "cell_type": "markdown",
      "source": [
        "Ensuite nous invoquons l'API pour ajouter la recette:"
      ],
      "metadata": {
        "id": "rwvokAi_Fsjj"
      }
    },
    {
      "cell_type": "code",
      "source": [
        "%%bash\n",
        "curl -s -X POST http://localhost:3000/api/dishes/ \\\n",
        "-H \"Content-Type: application/json; charset=utf-8\" \\\n",
        "--data @fettucine_boscaiola.json"
      ],
      "metadata": {
        "id": "6fBdQFpxKDK_",
        "colab": {
          "base_uri": "https://localhost:8080/"
        },
        "outputId": "44ad7d6c-fd4d-461d-d738-7d9de3029b39"
      },
      "execution_count": null,
      "outputs": [
        {
          "output_type": "stream",
          "name": "stdout",
          "text": [
            "{\"code\":200,\"message\":\"OK\",\"data\":\"655ea86f6c2e2df5c0472128\"}"
          ]
        }
      ]
    },
    {
      "cell_type": "markdown",
      "source": [
        "Pour consulter la recette ajoutée:"
      ],
      "metadata": {
        "id": "jh9fzmlTGBiA"
      }
    },
    {
      "cell_type": "code",
      "source": [
        "!curl -s http://localhost:3000/api/dishes/655ea86f6c2e2df5c0472128 | json_pp"
      ],
      "metadata": {
        "id": "yt1CSFiConFg",
        "colab": {
          "base_uri": "https://localhost:8080/"
        },
        "outputId": "2253487e-91c6-4262-be5d-7fc2720a2e8d"
      },
      "execution_count": null,
      "outputs": [
        {
          "output_type": "stream",
          "name": "stdout",
          "text": [
            "{\n",
            "   \"code\" : 200,\n",
            "   \"data\" : {\n",
            "      \"_id\" : \"655ea86f6c2e2df5c0472128\",\n",
            "      \"directions\" : [\n",
            "         {\n",
            "            \"description\" : \"Faites cuire les pâtes dans une grande casserole d'eau bouillante, puis égouttez-les.\",\n",
            "            \"step_id\" : 1\n",
            "         },\n",
            "         {\n",
            "            \"description\" : \"Pendant ce temps, faites chauffer l'huile d'olive dans une grande sauteuse. Faites revenir les champignons, l'ail et le jambon, en remuant, jusqu'à ce que les ingrédients soient légèrement dorés. Ajoutez le vin et faites bouillir sans couvrir, jusqu'à ce qu'il réduise de moitié.\",\n",
            "            \"step_id\" : 2\n",
            "         },\n",
            "         {\n",
            "            \"description\" : \"Ajoutez la crème liquide dans la sauteuse et baissez le feu. Laissez mijoter à découvert jusqu'à ce que la sauce épaississe légèrement. \",\n",
            "            \"step_id\" : 3\n",
            "         },\n",
            "         {\n",
            "            \"description\" : \"Ajoutez la ciboulette et les pâtes. Mélangez et servez.\",\n",
            "            \"step_id\" : 4\n",
            "         }\n",
            "      ],\n",
            "      \"ingredients\" : [\n",
            "         {\n",
            "            \"item_id\" : 1,\n",
            "            \"name\" : \"fettucine\",\n",
            "            \"quantity\" : 500,\n",
            "            \"unit\" : \"g\"\n",
            "         },\n",
            "         {\n",
            "            \"item_id\" : 2,\n",
            "            \"name\" : \"huile d'olive\",\n",
            "            \"quantity\" : 2,\n",
            "            \"unit\" : \"c. à c.\"\n",
            "         },\n",
            "         {\n",
            "            \"item_id\" : 3,\n",
            "            \"name\" : \"champignons de Paris émincés\",\n",
            "            \"quantity\" : 200,\n",
            "            \"unit\" : \"g\"\n",
            "         },\n",
            "         {\n",
            "            \"item_id\" : 4,\n",
            "            \"name\" : \"ail\",\n",
            "            \"quantity\" : 2,\n",
            "            \"unit\" : \"gousse\"\n",
            "         },\n",
            "         {\n",
            "            \"item_id\" : 5,\n",
            "            \"name\" : \"jambon blanc grossièrement haché\",\n",
            "            \"quantity\" : 200,\n",
            "            \"unit\" : \"g\"\n",
            "         },\n",
            "         {\n",
            "            \"item_id\" : 6,\n",
            "            \"name\" : \"vin blanc sec\",\n",
            "            \"quantity\" : 60,\n",
            "            \"unit\" : \"ml\"\n",
            "         },\n",
            "         {\n",
            "            \"item_id\" : 7,\n",
            "            \"name\" : \"crème liquide\",\n",
            "            \"quantity\" : 300,\n",
            "            \"unit\" : \"ml\"\n",
            "         },\n",
            "         {\n",
            "            \"item_id\" : 8,\n",
            "            \"name\" : \"ciboulette fraîche grossièrement hachée\",\n",
            "            \"quantity\" : 2,\n",
            "            \"unit\" : \"c. à s.\"\n",
            "         }\n",
            "      ],\n",
            "      \"name\" : \"Fettucine boscaiola\",\n",
            "      \"photo\" : \"https://3catsfoodie.com/wp-content/uploads/2020/11/8A43059A-AA39-4FE4-8875-EDCAACF4A933_1_201_a-1024x748.jpeg\",\n",
            "      \"veg\" : 0\n",
            "   },\n",
            "   \"message\" : \"OK\"\n",
            "}\n"
          ]
        }
      ]
    },
    {
      "cell_type": "markdown",
      "source": [
        "Pour mettre à jour la recette dont l'identifiant est `65458bf0c997446bf153e2fe` :"
      ],
      "metadata": {
        "id": "Ezz_VPADGaS6"
      }
    },
    {
      "cell_type": "code",
      "source": [
        "%%writefile new_fettucine_boscaiola.json\n",
        "{\n",
        "  \"name\": \"Tout nouveau fettucine boscaiola\"\n",
        "}"
      ],
      "metadata": {
        "id": "5LQZOvaf5--G",
        "colab": {
          "base_uri": "https://localhost:8080/"
        },
        "outputId": "263cf886-5a26-4203-f143-c5bc61c3edd4"
      },
      "execution_count": null,
      "outputs": [
        {
          "output_type": "stream",
          "name": "stdout",
          "text": [
            "Writing new_fettucine_boscaiola.json\n"
          ]
        }
      ]
    },
    {
      "cell_type": "code",
      "source": [
        "%%bash\n",
        "curl -s -X PATCH http://localhost:3000/api/dishes/655ea86f6c2e2df5c0472128 \\\n",
        "-H \"Content-Type: application/json; charset=utf-8\" \\\n",
        "--data @new_fettucine_boscaiola.json"
      ],
      "metadata": {
        "id": "cG7wT3jxp7wc",
        "colab": {
          "base_uri": "https://localhost:8080/"
        },
        "outputId": "4bee486e-4b32-49cd-e7fb-51a29f29b614"
      },
      "execution_count": null,
      "outputs": [
        {
          "output_type": "stream",
          "name": "stdout",
          "text": [
            "{\"code\":200,\"message\":\"OK\",\"data\":\"655ea86f6c2e2df5c0472128\"}"
          ]
        }
      ]
    },
    {
      "cell_type": "markdown",
      "source": [
        "Pour consulter si la recette existe:"
      ],
      "metadata": {
        "id": "3yX74R5RGf_8"
      }
    },
    {
      "cell_type": "code",
      "source": [
        "!curl -s http://localhost:3000/api/dishes/655ea86f6c2e2df5c0472128 | json_pp"
      ],
      "metadata": {
        "id": "F4K31_sAq8R1",
        "colab": {
          "base_uri": "https://localhost:8080/"
        },
        "outputId": "45ae2ba9-7801-45a2-952f-1805e147e19d"
      },
      "execution_count": null,
      "outputs": [
        {
          "output_type": "stream",
          "name": "stdout",
          "text": [
            "{\n",
            "   \"code\" : 200,\n",
            "   \"data\" : {\n",
            "      \"_id\" : \"655ea86f6c2e2df5c0472128\",\n",
            "      \"directions\" : [\n",
            "         {\n",
            "            \"description\" : \"Faites cuire les pâtes dans une grande casserole d'eau bouillante, puis égouttez-les.\",\n",
            "            \"step_id\" : 1\n",
            "         },\n",
            "         {\n",
            "            \"description\" : \"Pendant ce temps, faites chauffer l'huile d'olive dans une grande sauteuse. Faites revenir les champignons, l'ail et le jambon, en remuant, jusqu'à ce que les ingrédients soient légèrement dorés. Ajoutez le vin et faites bouillir sans couvrir, jusqu'à ce qu'il réduise de moitié.\",\n",
            "            \"step_id\" : 2\n",
            "         },\n",
            "         {\n",
            "            \"description\" : \"Ajoutez la crème liquide dans la sauteuse et baissez le feu. Laissez mijoter à découvert jusqu'à ce que la sauce épaississe légèrement. \",\n",
            "            \"step_id\" : 3\n",
            "         },\n",
            "         {\n",
            "            \"description\" : \"Ajoutez la ciboulette et les pâtes. Mélangez et servez.\",\n",
            "            \"step_id\" : 4\n",
            "         }\n",
            "      ],\n",
            "      \"ingredients\" : [\n",
            "         {\n",
            "            \"item_id\" : 1,\n",
            "            \"name\" : \"fettucine\",\n",
            "            \"quantity\" : 500,\n",
            "            \"unit\" : \"g\"\n",
            "         },\n",
            "         {\n",
            "            \"item_id\" : 2,\n",
            "            \"name\" : \"huile d'olive\",\n",
            "            \"quantity\" : 2,\n",
            "            \"unit\" : \"c. à c.\"\n",
            "         },\n",
            "         {\n",
            "            \"item_id\" : 3,\n",
            "            \"name\" : \"champignons de Paris émincés\",\n",
            "            \"quantity\" : 200,\n",
            "            \"unit\" : \"g\"\n",
            "         },\n",
            "         {\n",
            "            \"item_id\" : 4,\n",
            "            \"name\" : \"ail\",\n",
            "            \"quantity\" : 2,\n",
            "            \"unit\" : \"gousse\"\n",
            "         },\n",
            "         {\n",
            "            \"item_id\" : 5,\n",
            "            \"name\" : \"jambon blanc grossièrement haché\",\n",
            "            \"quantity\" : 200,\n",
            "            \"unit\" : \"g\"\n",
            "         },\n",
            "         {\n",
            "            \"item_id\" : 6,\n",
            "            \"name\" : \"vin blanc sec\",\n",
            "            \"quantity\" : 60,\n",
            "            \"unit\" : \"ml\"\n",
            "         },\n",
            "         {\n",
            "            \"item_id\" : 7,\n",
            "            \"name\" : \"crème liquide\",\n",
            "            \"quantity\" : 300,\n",
            "            \"unit\" : \"ml\"\n",
            "         },\n",
            "         {\n",
            "            \"item_id\" : 8,\n",
            "            \"name\" : \"ciboulette fraîche grossièrement hachée\",\n",
            "            \"quantity\" : 2,\n",
            "            \"unit\" : \"c. à s.\"\n",
            "         }\n",
            "      ],\n",
            "      \"name\" : \"Tout nouveau fettucine boscaiola\",\n",
            "      \"photo\" : \"https://3catsfoodie.com/wp-content/uploads/2020/11/8A43059A-AA39-4FE4-8875-EDCAACF4A933_1_201_a-1024x748.jpeg\",\n",
            "      \"veg\" : 0\n",
            "   },\n",
            "   \"message\" : \"OK\"\n",
            "}\n"
          ]
        }
      ]
    },
    {
      "cell_type": "markdown",
      "source": [
        "Pour supprimer la recette dont l'identifiant est `65458bf0c997446bf153e2fe`:"
      ],
      "metadata": {
        "id": "5CagzpN1Gqel"
      }
    },
    {
      "cell_type": "code",
      "source": [
        "!curl -s -X DELETE http://localhost:3000/api/dishes/655ea86f6c2e2df5c0472128"
      ],
      "metadata": {
        "id": "XpY-VdtLl8Pq",
        "colab": {
          "base_uri": "https://localhost:8080/"
        },
        "outputId": "c2e67550-f715-45fc-a213-5bb415d9c793"
      },
      "execution_count": null,
      "outputs": [
        {
          "output_type": "stream",
          "name": "stdout",
          "text": [
            "{\"code\":200,\"message\":\"OK\",\"data\":\"655ea86f6c2e2df5c0472128\"}"
          ]
        }
      ]
    },
    {
      "cell_type": "markdown",
      "source": [
        "# Activités en classe\n",
        "-------------\n",
        "\n",
        "## API REST\n",
        "\n",
        "* Vous faites une API REST pour un système de gestion d'animaux dans un élevage. Définissez les URL génériques pour chacune des fonctionnalités suivantes:\n",
        "\n",
        "  1. Obtenir la liste des animaux\n",
        "  2. Ajouter un animal\n",
        "  3. Obtenir la liste des animaux d'un certain type\n",
        "  4. Déclarer un animal comme malade\n",
        "  5. Mettre un animal en vente\n",
        "  6. Obtenir les 50 premiers animaux d'un certain type\n",
        "  7. Définir un animal comme l'enfant d'un autre animal\n",
        "  8. Vérifier si un animal a obtenu un vaccin\n",
        "  9. Obtenir un jeton d'authentification\n",
        "  10. Transférer ses titres de possession d'un animal à un autre propriétaire\n",
        "\n",
        "* Ensuite, en utilisant la syntaxe de Express.js spécifiez les routes pour traiter les URLs de cette API.\n",
        "  - Par exemple, pour lister les items d'une collection dont l'URL est `/collection`, un exemple de route Express serait:\n",
        "\n",
        "```javascript\n",
        "const express = require('express');\n",
        "const router = express.Router();\n",
        "\n",
        "// la route\n",
        "router.get(\"/collections\", async(req, res) => {\n",
        "  // code du handler\n",
        "} );\n",
        "\n",
        "```\n",
        "\n",
        "## Solution\n",
        "\n",
        "1. Obtenir la liste des animaux\n",
        "  - `GET /animaux`\n",
        "2. Ajouter un animal\n",
        "  - `POST /animaux`\n",
        "3. Obtenir la liste des animaux d'un certain type\n",
        "  - `GET /animaux?type=:type`\n",
        "4. Déclarer un animal comme malade\n",
        "  - `PATCH /animaux/:id`\n",
        "5. Mettre un animal en vente\n",
        "  - `POST /ventes`\n",
        "6. Obtenir les 50 premiers animaux d'un certain type\n",
        "  - `GET /animaux?type=:type&limite=50`\n",
        "7. Définir un animal comme l'enfant d'un autre animal\n",
        "  - `PUT /animaux/:id/enfants/:id`\n",
        "8. Vérifier si un animal a obtenu un vaccin\n",
        "  - `HEAD /animaux/:id/vaccins/:idvaccin`\n",
        "9. Obtenir un jeton d'authentification\n",
        "  - `POST /auth`\n",
        "10. Transférer ses titres de possession d'un animal à un autre propriétaire\n",
        "  - `POST /animaux/:id/transferts`\n",
        "\n",
        "\n",
        "```javascript\n",
        "const express = require('express');\n",
        "const router = express.Router();\n",
        "\n",
        "router.get(\"/animaux\", async(req, res) => {\n",
        "  // code du handler\n",
        "} );\n",
        "\n",
        "router.post(\"/animaux\", async(req, res) => {\n",
        "  // code du handler\n",
        "} );\n",
        "\n",
        "router.get(\"/animaux?type=:type\", async(req, res) => {\n",
        "  // code du handler\n",
        "} );\n",
        "\n",
        "router.patch(\"/animaux/:id\", async(req, res) => {\n",
        "  // code du handler\n",
        "} );\n",
        "\n",
        "// ...\n",
        "\n",
        "```"
      ],
      "metadata": {
        "id": "2N9pC3o2DQRG"
      }
    },
    {
      "cell_type": "markdown",
      "source": [
        "## Recherche MongoDB\n",
        "\n",
        "Considérez une base de données MongoDB avec une collection appelée `cereals` dont les documents suivent le format suivant:\n",
        "\n",
        "```json\n",
        "{\n",
        "  \"name\": \"100% Bran\",\n",
        "  \"manufacturer\": \"N\",\n",
        "  \"type\": \"C\",\n",
        "  \"calories\": 70,\n",
        "  \"protein\": 4,\n",
        "  \"fat\": 1,\n",
        "  \"sodium\": 130,\n",
        "  \"fiber\": 10,\n",
        "  \"carbohydrates\": 5,\n",
        "  \"sugars\": 6,\n",
        "  \"potassium\": 280,\n",
        "  \"vitamins\": 25,\n",
        "  \"shelf\": 3,\n",
        "  \"weight\": 1,\n",
        "  \"cups\": 0.33,\n",
        "  \"rating\": 68.402973\n",
        "}\n",
        "```\n",
        "\n",
        "Supposons que ce jeu de données a été importé dans une base de données MongoDB qui s'appelle `sample` dans une collection nommée `cereals`.\n",
        "\n",
        "**À implementer:**\n",
        "\n",
        "Écrivez une fonction de code à exécuter dans la console (shell) MongoDB pour effectuer le traitement suivant:\n",
        "\n",
        "- Recherchez l'ensemble des céréales dont le nombre de calories par portion est supérieur à 140.\n",
        "- Pour chacune des céréales trouvées, imprimez son nom, fournisseur et nombre de calories.\n",
        "\n",
        "**Informations importantes:**\n",
        "\n",
        "- Pour imprimer des résultats sur le shell MongoDB vous devez utiliser print() au lieu de console.log()\n",
        "\n",
        "- Si vous voulez importer la base de données sur une installation MongoDB sur votre machine, vous pouvez utiliser le fichier suivant:\n",
        "\n",
        "  - https://raw.githubusercontent.com/assuncaomarcos/gti525-examples/main/datasets/cereals_mongodb.json\n",
        "\n",
        "<!--\n",
        "db.cereals.find({ calories: { $gte: 140 } }).forEach(cereal => { print(ceral.name, cereal.manufacturer, cereal.calories) });\n",
        "-->"
      ],
      "metadata": {
        "id": "tKms9JNSI8F7"
      }
    },
    {
      "cell_type": "markdown",
      "source": [
        "### Importer la collection céréales\n",
        "\n",
        "Le but du code ci-dessous est d'importer la collection dans l'installation de MongoDB du conteneur du cahier Google Colab.\n",
        "\n",
        "Pour télécharger le fichier de la collection:"
      ],
      "metadata": {
        "id": "n-f5tWuG36_T"
      }
    },
    {
      "cell_type": "code",
      "source": [
        "!rm *.json\n",
        "!wget https://raw.githubusercontent.com/assuncaomarcos/gti525-examples/main/datasets/cereals_mongodb.json"
      ],
      "metadata": {
        "id": "ROdnD8fn4cZ2",
        "colab": {
          "base_uri": "https://localhost:8080/"
        },
        "outputId": "92490260-49bb-4202-de89-6992b55f142f"
      },
      "execution_count": null,
      "outputs": [
        {
          "output_type": "stream",
          "name": "stdout",
          "text": [
            "rm: cannot remove '*.json': No such file or directory\n",
            "--2023-11-29 23:13:59--  https://raw.githubusercontent.com/assuncaomarcos/gti525-examples/main/datasets/cereals_mongodb.json\n",
            "Resolving raw.githubusercontent.com (raw.githubusercontent.com)... 185.199.108.133, 185.199.109.133, 185.199.110.133, ...\n",
            "Connecting to raw.githubusercontent.com (raw.githubusercontent.com)|185.199.108.133|:443... connected.\n",
            "HTTP request sent, awaiting response... 200 OK\n",
            "Length: 20619 (20K) [text/plain]\n",
            "Saving to: ‘cereals_mongodb.json’\n",
            "\n",
            "cereals_mongodb.jso 100%[===================>]  20.14K  --.-KB/s    in 0.001s  \n",
            "\n",
            "2023-11-29 23:13:59 (25.7 MB/s) - ‘cereals_mongodb.json’ saved [20619/20619]\n",
            "\n"
          ]
        }
      ]
    },
    {
      "cell_type": "markdown",
      "source": [
        "Pour importer la collection dans la base de données `sample`:"
      ],
      "metadata": {
        "id": "R-irZ7Wd4l27"
      }
    },
    {
      "cell_type": "code",
      "source": [
        "!mongoimport --drop --db sample --collection cereals --file cereals_mongodb.json"
      ],
      "metadata": {
        "id": "euv2rK0A4qoR",
        "colab": {
          "base_uri": "https://localhost:8080/"
        },
        "outputId": "db68a45c-339b-4018-d287-1501cd1f577f"
      },
      "execution_count": null,
      "outputs": [
        {
          "output_type": "stream",
          "name": "stdout",
          "text": [
            "2023-11-29T23:14:20.772+0000\tconnected to: mongodb://localhost/\n",
            "2023-11-29T23:14:20.772+0000\tdropping: sample.cereals\n",
            "2023-11-29T23:14:20.812+0000\t77 document(s) imported successfully. 0 document(s) failed to import.\n"
          ]
        }
      ]
    },
    {
      "cell_type": "markdown",
      "source": [
        "### Accès à la console\n",
        "\n",
        "Pour accéder à la console de MongoDB vous devez exécuter la cellule ci-dessous et taper **`mongo`**."
      ],
      "metadata": {
        "id": "3cPT9-Kf4zsE"
      }
    },
    {
      "cell_type": "code",
      "source": [
        "\"\"\"Pour installer et charger la bibliothèque\"\"\"\n",
        "!pip install colab-xterm\n",
        "%load_ext colabxterm"
      ],
      "metadata": {
        "id": "e0X9ozB5OK1Q"
      },
      "execution_count": null,
      "outputs": []
    },
    {
      "cell_type": "code",
      "source": [
        "%xterm"
      ],
      "metadata": {
        "id": "GPGrCx4s43jl"
      },
      "execution_count": null,
      "outputs": []
    },
    {
      "cell_type": "code",
      "source": [
        "%%mongo\n",
        "\n",
        "use sample;\n",
        "db.cereals.find({ calories: { $gte: 140 } }).forEach(cereal => { print(cereal.name, cereal.manufacturer, cereal.calories) });"
      ],
      "metadata": {
        "colab": {
          "base_uri": "https://localhost:8080/"
        },
        "id": "AjXDWKI_D3C4",
        "outputId": "4e029114-f3b8-4727-a0f0-3f97a35a2936"
      },
      "execution_count": null,
      "outputs": [
        {
          "output_type": "stream",
          "name": "stdout",
          "text": [
            "test> switched to db sample\n",
            "sample> Just Right Fruit & Nut K 140\n",
            "Muesli Raisins; Dates; & Almonds R 150\n",
            "Muesli Raisins; Peaches; & Pecans R 150\n",
            "Mueslix Crispy Blend K 160\n",
            "Nutri-Grain Almond-Raisin K 140\n",
            "Total Raisin Bran G 140\n",
            "\n",
            "sample> "
          ]
        }
      ]
    },
    {
      "cell_type": "markdown",
      "source": [
        "<!--\n",
        "## Solution\n",
        "\n",
        "```javascript\n",
        "use sample;\n",
        "db.cereals.find({ calories: { $gte: 140 } }).forEach(cereal => { print(cereal.name, cereal.manufacturer, cereal.calories) });\n",
        "```\n",
        "-->"
      ],
      "metadata": {
        "id": "QDRTOAskPALh"
      }
    },
    {
      "cell_type": "markdown",
      "source": [
        "# Informations Géospatiales dans MongoDB\n",
        "-------------\n",
        "\n",
        "Cette section propose quelques exemples illustrant l'utilisation de MongoDB pour stocker et manipuler des données géospatiales. Nous ferons usage de données géographiques de la ville de Toronto disponibles sur le site de la Ville de Toronto:\n",
        "\n",
        "* https://open.toronto.ca/dataset/neighbourhoods/\n",
        "* https://open.toronto.ca/dataset/places-of-interest-and-toronto-attractions/"
      ],
      "metadata": {
        "id": "nekZPUbhj6s_"
      }
    },
    {
      "cell_type": "code",
      "source": [
        "\"\"\"\n",
        "Pour changer le dossier de travail de Colab\n",
        "\"\"\"\n",
        "%cd /content/toronto\n",
        "!mkdir -p config"
      ],
      "metadata": {
        "id": "VnHvGa3VkAI3",
        "colab": {
          "base_uri": "https://localhost:8080/"
        },
        "outputId": "1baff4e6-0f33-4413-9751-191ee33d5a1e"
      },
      "execution_count": null,
      "outputs": [
        {
          "output_type": "stream",
          "name": "stdout",
          "text": [
            "/content/toronto\n"
          ]
        }
      ]
    },
    {
      "cell_type": "markdown",
      "source": [
        "Pour télécharger les fichiers GeoJSON avec les coordonnées des arrondissements de Toronto et des sites importants :"
      ],
      "metadata": {
        "id": "c6E8-cJ1VyAi"
      }
    },
    {
      "cell_type": "code",
      "source": [
        "!wget https://ckan0.cf.opendata.inter.prod-toronto.ca/dataset/neighbourhoods/resource/1d38e8b7-65a8-4dd0-88b0-ad2ce938126e/download/Neighbourhoods.geojson -O neighborhoods.geojson\n",
        "!wget https://ckan0.cf.opendata.inter.prod-toronto.ca/dataset/965247c0-c72e-49b4-bb1a-879cf98e1a32/resource/d3e9668a-1c2b-4250-8aba-32a80bb2266d/download/Places%20of%20Interest%20and%20Attractions.geojson -O sites.geojson"
      ],
      "metadata": {
        "id": "mz1W9VqVVNyc",
        "colab": {
          "base_uri": "https://localhost:8080/"
        },
        "outputId": "42464fee-20e5-4778-d9b4-fd9daa03f495"
      },
      "execution_count": null,
      "outputs": [
        {
          "output_type": "stream",
          "name": "stdout",
          "text": [
            "--2023-11-23 01:30:07--  https://ckan0.cf.opendata.inter.prod-toronto.ca/dataset/neighbourhoods/resource/1d38e8b7-65a8-4dd0-88b0-ad2ce938126e/download/Neighbourhoods.geojson\n",
            "Resolving ckan0.cf.opendata.inter.prod-toronto.ca (ckan0.cf.opendata.inter.prod-toronto.ca)... 18.65.3.102, 18.65.3.22, 18.65.3.11, ...\n",
            "Connecting to ckan0.cf.opendata.inter.prod-toronto.ca (ckan0.cf.opendata.inter.prod-toronto.ca)|18.65.3.102|:443... connected.\n",
            "HTTP request sent, awaiting response... 200 OK\n",
            "Length: 2140764 (2.0M) [application/octet-stream]\n",
            "Saving to: ‘neighborhoods.geojson’\n",
            "\n",
            "neighborhoods.geojs 100%[===================>]   2.04M  4.76MB/s    in 0.4s    \n",
            "\n",
            "2023-11-23 01:30:08 (4.76 MB/s) - ‘neighborhoods.geojson’ saved [2140764/2140764]\n",
            "\n",
            "--2023-11-23 01:30:08--  https://ckan0.cf.opendata.inter.prod-toronto.ca/dataset/965247c0-c72e-49b4-bb1a-879cf98e1a32/resource/d3e9668a-1c2b-4250-8aba-32a80bb2266d/download/Places%20of%20Interest%20and%20Attractions.geojson\n",
            "Resolving ckan0.cf.opendata.inter.prod-toronto.ca (ckan0.cf.opendata.inter.prod-toronto.ca)... 18.65.3.102, 18.65.3.22, 18.65.3.11, ...\n",
            "Connecting to ckan0.cf.opendata.inter.prod-toronto.ca (ckan0.cf.opendata.inter.prod-toronto.ca)|18.65.3.102|:443... connected.\n",
            "HTTP request sent, awaiting response... 200 OK\n",
            "Length: 182730 (178K) [application/octet-stream]\n",
            "Saving to: ‘sites.geojson’\n",
            "\n",
            "sites.geojson       100%[===================>] 178.45K  --.-KB/s    in 0.05s   \n",
            "\n",
            "2023-11-23 01:30:08 (3.48 MB/s) - ‘sites.geojson’ saved [182730/182730]\n",
            "\n"
          ]
        }
      ]
    },
    {
      "cell_type": "markdown",
      "source": [
        "Pour initialiser le projet et installer les dépendances :"
      ],
      "metadata": {
        "id": "Ab_GLM8dYTt_"
      }
    },
    {
      "cell_type": "code",
      "source": [
        "!npm init -y\n",
        "!npm install dotenv dotenv-expand mongodb --save"
      ],
      "metadata": {
        "id": "7DrByub0Yfhi",
        "colab": {
          "base_uri": "https://localhost:8080/"
        },
        "outputId": "ac834d13-27c2-4302-b647-30c60b5fd485"
      },
      "execution_count": null,
      "outputs": [
        {
          "output_type": "stream",
          "name": "stdout",
          "text": [
            "Wrote to /content/toronto/package.json:\n",
            "\n",
            "{\n",
            "  \"name\": \"toronto\",\n",
            "  \"version\": \"1.0.0\",\n",
            "  \"description\": \"\",\n",
            "  \"main\": \"index.js\",\n",
            "  \"scripts\": {\n",
            "    \"test\": \"echo \\\"Error: no test specified\\\" && exit 1\"\n",
            "  },\n",
            "  \"keywords\": [],\n",
            "  \"author\": \"\",\n",
            "  \"license\": \"ISC\"\n",
            "}\n",
            "\n",
            "\n",
            "\u001b[K\u001b[?25h\n",
            "added 14 packages, and audited 15 packages in 3s\n",
            "\n",
            "1 package is looking for funding\n",
            "  run `npm fund` for details\n",
            "\n",
            "found \u001b[32m\u001b[1m0\u001b[22m\u001b[39m vulnerabilities\n"
          ]
        }
      ]
    },
    {
      "cell_type": "markdown",
      "source": [
        "Le fichier `.env` de configuration du projet :"
      ],
      "metadata": {
        "id": "VfYD1wsPYFyq"
      }
    },
    {
      "cell_type": "code",
      "source": [
        "%%writefile .env\n",
        "MONGO_DATABASE=toronto\n",
        "MONGO_URI=mongodb://localhost:27017"
      ],
      "metadata": {
        "id": "0M9pbqnuYHnM",
        "colab": {
          "base_uri": "https://localhost:8080/"
        },
        "outputId": "dfe81689-8306-42ea-f322-425b6287b034"
      },
      "execution_count": null,
      "outputs": [
        {
          "output_type": "stream",
          "name": "stdout",
          "text": [
            "Writing .env\n"
          ]
        }
      ]
    },
    {
      "cell_type": "markdown",
      "source": [
        "Le module pour faire l'interface avec la base de données:"
      ],
      "metadata": {
        "id": "CvaPXQ8mXMAF"
      }
    },
    {
      "cell_type": "code",
      "source": [
        "%%javascript --target=disk --filename=config/db.mjs\n",
        "\n",
        "import { MongoClient } from 'mongodb';\n",
        "import dotenv from 'dotenv';\n",
        "import dotenvExpand from 'dotenv-expand';\n",
        "\n",
        "const dotEnv = dotenv.config();\n",
        "dotenvExpand.expand(dotEnv);\n",
        "\n",
        "class DBConnection {\n",
        "    static client = null;\n",
        "    static uri = null;\n",
        "    static dbName = null;\n",
        "\n",
        "    async connect() {\n",
        "        if (!this.client) {\n",
        "            try {\n",
        "                this.uri = process.env.MONGO_URI;\n",
        "                this.dbName = process.env.MONGO_DATABASE;\n",
        "                this.client = new MongoClient(this.uri);\n",
        "                await this.client.connect();\n",
        "            } catch (error) {\n",
        "                throw new Error(\"Erreur de connexion: \" + error.message);\n",
        "            }\n",
        "        }\n",
        "    }\n",
        "\n",
        "    getDatabase() {\n",
        "        return this.client.db(this.dbName);\n",
        "    }\n",
        "\n",
        "    async close() {\n",
        "        if (this.client) {\n",
        "            try {\n",
        "                await this.client.close();\n",
        "            } catch (error) {\n",
        "                throw new Error(\"Erreur pour fermer la connexion: \" + error.message);\n",
        "            }\n",
        "        }\n",
        "    }\n",
        "}\n",
        "\n",
        "const instance = new DBConnection();\n",
        "export default instance;"
      ],
      "metadata": {
        "id": "9RuYs2V8V7jP"
      },
      "execution_count": null,
      "outputs": []
    },
    {
      "cell_type": "markdown",
      "source": [
        "## Importer les données\n",
        "\n",
        "Le module ci-dessous importe le contenu des fichiers `neighborhoods.geojson` et `sites.geojson` qui contiennent les données géospatiales des quartiers et des sites importants de la ville de Toronto.\n",
        "\n",
        "* La fonction `importNeighborhoods()` insère les fichiers des quartiers dans la collection MongoDB `neighborhoods`. Pour chaque quartier représenté dans le GeoJSON, les propriétés telles que le nom, le code, et l'aire géographique sont extraites pour créer un document à insérer dans la collection `neighborhoods`. De plus, un index `2dsphere` est créé sur le champ de géolocalisation (`area`) pour permettre des requêtes géospatiales efficaces.\n",
        "\n",
        "* La fonction `importSites()` suit un processus similaire pour les données des sites contenus dans `sites.geojson`. Un index `2dsphere` est également créé pour permettre des recherches géospatiales sur les sites.\n"
      ],
      "metadata": {
        "id": "E_kJO4ziY8CW"
      }
    },
    {
      "cell_type": "code",
      "source": [
        "%%javascript --target=node --filename=import_data.mjs\n",
        "\n",
        "import dbConnection from './config/db.mjs';\n",
        "import { readFileSync } from 'node:fs';\n",
        "\n",
        "const neighborhoodsFile = './neighborhoods.geojson';\n",
        "const siteFiles = './sites.geojson';\n",
        "\n",
        "try {\n",
        "    await dbConnection.connect();\n",
        "    await importNeighborhoods();\n",
        "    await importSites();\n",
        "} catch (error) {\n",
        "    console.log(\"Erreur pour importer les données\", error.message);\n",
        "} finally {\n",
        "    await dbConnection.close();\n",
        "}\n",
        "\n",
        "async function importNeighborhoods() {\n",
        "    const db = dbConnection.getDatabase();\n",
        "    const geoJSONData = readFileSync(neighborhoodsFile, 'utf-8');\n",
        "    const geoCollection = JSON.parse(geoJSONData);\n",
        "    await db.collection(\"neighborhoods\").deleteMany({});\n",
        "\n",
        "    for (const {properties, geometry} of geoCollection.features) {\n",
        "        const name = properties.AREA_NAME;\n",
        "        const shortCode = properties.AREA_SHORT_CODE;\n",
        "        const _id = properties._id;\n",
        "        const area = geometry;\n",
        "\n",
        "        const neighborhoodDoc = {_id, shortCode, name, area};\n",
        "        await db.collection(\"neighborhoods\").insertOne(neighborhoodDoc);\n",
        "    }\n",
        "    await db.collection(\"neighborhoods\").createIndex({area: \"2dsphere\"});\n",
        "}\n",
        "\n",
        "async function importSites() {\n",
        "    const db = dbConnection.getDatabase();\n",
        "    const geoJSONData = readFileSync(siteFiles, 'utf-8');\n",
        "    const geoCollection = JSON.parse(geoJSONData);\n",
        "    await db.collection(\"sites\").deleteMany({});\n",
        "\n",
        "    for (const {properties, geometry} of geoCollection.features) {\n",
        "        const _id = properties._id;\n",
        "        const name = properties.NAME;\n",
        "        const category = properties.CATEGORY;\n",
        "        const website = properties.WEBSITE;\n",
        "        const location = geometry;\n",
        "\n",
        "        const siteDoc = {_id, name, category, website, location};\n",
        "        await db.collection(\"sites\").insertOne(siteDoc);\n",
        "    }\n",
        "    await db.collection(\"sites\").createIndex({location: \"2dsphere\"});\n",
        "}"
      ],
      "metadata": {
        "id": "SCULiS3OaeZp"
      },
      "execution_count": null,
      "outputs": []
    },
    {
      "cell_type": "markdown",
      "source": [
        "Pour vérifier si les données ont été importées :"
      ],
      "metadata": {
        "id": "JDBy9WilbiCV"
      }
    },
    {
      "cell_type": "code",
      "source": [
        "%%mongo\n",
        "\n",
        "use toronto;\n",
        "db.neighborhoods.findOne({});"
      ],
      "metadata": {
        "id": "BW36Ihyra2oT",
        "colab": {
          "base_uri": "https://localhost:8080/"
        },
        "outputId": "d355431a-dc64-4c50-b843-eda5b8d5c64d"
      },
      "execution_count": null,
      "outputs": [
        {
          "output_type": "stream",
          "name": "stdout",
          "text": [
            "test> switched to db toronto\n",
            "toronto> {\n",
            "  _id: 1,\n",
            "  shortCode: '174',\n",
            "  name: 'South Eglinton-Davisville',\n",
            "  area: {\n",
            "    type: 'MultiPolygon',\n",
            "    coordinates: [\n",
            "      [\n",
            "        [\n",
            "          [ -79.3863510515018, 43.6978312650188 ],\n",
            "          [ -79.3862291956072, 43.6975037220317 ],\n",
            "          [ -79.38638812454, 43.6975077326547 ],\n",
            "          [ -79.3864562999666, 43.6975192590321 ],\n",
            "          [ -79.3866606404473, 43.6975010721977 ],\n",
            "          [ -79.3870109672437, 43.6974685463247 ],\n",
            "          [ -79.3876455796026, 43.6973977736555 ],\n",
            "          [ -79.3895282148369, 43.6969911842496 ],\n",
            "          [ -79.3927549645318, 43.6962824893798 ],\n",
            "          [ -79.3950210963475, 43.6958404334629 ],\n",
            "          [ -79.3951285018801, 43.695814734359 ],\n",
            "          [ -79.3952833508039, 43.6957799963262 ],\n",
            "          [ -79.3954612917379, 43.6957424798034 ],\n",
            "          [ -79.3955690097916, 43.6957223523688 ],\n",
            "          [ -79.3957162937643, 43.6957001276303 ],\n",
            "          [ -79.3958852874049, 43.6956853665438 ],\n",
            "          [ -79.3961081541657, 43.6956666126055 ],\n",
            "          [ -79.3962045104245, 43.696127026043 ],\n",
            "          [ -79.3964710412413, 43.6973739370436 ],\n",
            "          [ -79.3966427138492, 43.6983012068135 ],\n",
            "          [ -79.3968612104594, 43.6993320241908 ],\n",
            "          [ -79.3969539406084, 43.6997866636074 ],\n",
            "          [ -79.3970391853112, 43.7002952858583 ],\n",
            "          [ -79.3971592350693, 43.7008534463644 ],\n",
            "          [ -79.3972192468958, 43.7011370226775 ],\n",
            "          [ -79.3973441683584, 43.7017941833586 ],\n",
            "          [ -79.3975054044563, 43.7025120540123 ],\n",
            "          [ -79.3976658049101, 43.7032930855612 ],\n",
            "          [ -79.3976842276121, 43.703396607736 ],\n",
            "          [ -79.3978256740733, 43.7041482958165 ],\n",
            "          [ -79.3978524656492, 43.7043508304571 ],\n",
            "          [ -79.3982396527772, 43.70614440059 ],\n",
            "          [ -79.3983665000037, 43.7067319904649 ],\n",
            "          [ -79.3974743277125, 43.706921885654 ],\n",
            "          [ -79.3974366551459, 43.7069299169967 ],\n",
            "          [ -79.3968292879592, 43.7070591777402 ],\n",
            "          [ -79.395492653728, 43.7073280196242 ],\n",
            "          [ -79.3941335157903, 43.7076013256594 ],\n",
            "          [ -79.3928193699344, 43.7078611558117 ],\n",
            "          [ -79.3915009075093, 43.7081344596479 ],\n",
            "          [ -79.3901971744214, 43.7084077534108 ],\n",
            "          [ -79.3892925148937, 43.7060846519996 ],\n",
            "          [ -79.3889339559755, 43.7051797212184 ],\n",
            "          [ -79.3885711062673, 43.7042927785364 ],\n",
            "          [ -79.3881569234653, 43.7032932683905 ],\n",
            "          [ -79.3878315978189, 43.7024693687261 ],\n",
            "          [ -79.3874950278364, 43.701645456951 ],\n",
            "          [ -79.3870311308924, 43.7005063734658 ],\n",
            "          [ -79.3869733311363, 43.700312788778 ],\n",
            "          [ -79.3868342671819, 43.6998356012474 ],\n",
            "          [ -79.3867441603874, 43.6992999536852 ],\n",
            "          [ -79.3865304289575, 43.6983276210595 ],\n",
            "          [ -79.386478759635, 43.6981745569168 ],\n",
            "          [ -79.3863510515018, 43.6978312650188 ]\n",
            "        ]\n",
            "      ]\n",
            "    ]\n",
            "  }\n",
            "}\n",
            "toronto> "
          ]
        }
      ]
    },
    {
      "cell_type": "code",
      "source": [
        "%%mongo\n",
        "\n",
        "use toronto;\n",
        "db.sites.findOne({});"
      ],
      "metadata": {
        "id": "klWQxqmHbd6v",
        "colab": {
          "base_uri": "https://localhost:8080/"
        },
        "outputId": "9869f0d8-198f-49a0-e246-564e635d2b82"
      },
      "execution_count": null,
      "outputs": [
        {
          "output_type": "stream",
          "name": "stdout",
          "text": [
            "test> switched to db toronto\n",
            "toronto> {\n",
            "  _id: 1,\n",
            "  name: 'BMO Field',\n",
            "  category: 'Sports / Entertainment Venue',\n",
            "  website: 'https://www.bmofield.com/',\n",
            "  location: {\n",
            "    type: 'MultiPoint',\n",
            "    coordinates: [ [ -79.4184156138918, 43.6346633567159 ] ]\n",
            "  }\n",
            "}\n",
            "toronto> "
          ]
        }
      ]
    },
    {
      "cell_type": "markdown",
      "source": [
        "## Trouver les quartiers dans une zone\n",
        "\n",
        "Prenons l'exemple de la recherche des quartiers de Toronto qui se trouvent dans une certaine zone. La zone définie par un polygone, délimité par de coordonnées géographiques, est utilisé pour une recherche géospatiale sur la collection MongoDB `neighborhoods`.\n"
      ],
      "metadata": {
        "id": "JbRzFc4sbv46"
      }
    },
    {
      "cell_type": "code",
      "source": [
        "%%javascript --target=node --filename=neighborhoods_within_zone.mjs\n",
        "\n",
        "import dbConnection from './config/db.mjs';\n",
        "\n",
        "const searchArea = {\n",
        "  \"type\": \"Polygon\",\n",
        "  \"coordinates\": [\n",
        "    [\n",
        "      [\n",
        "        -79.42960739135742,\n",
        "        43.66763568357462\n",
        "      ],\n",
        "      [\n",
        "        -79.39029693603517,\n",
        "        43.676078820191485\n",
        "      ],\n",
        "      [\n",
        "        -79.3865203857422,\n",
        "        43.66763568357462\n",
        "      ],\n",
        "      [\n",
        "        -79.35716629028322,\n",
        "        43.67297486391868\n",
        "      ],\n",
        "      [\n",
        "        -79.34514999389648,\n",
        "        43.651118468150905\n",
        "      ],\n",
        "      [\n",
        "        -79.38240051269533,\n",
        "        43.63633605549141\n",
        "      ],\n",
        "      [\n",
        "        -79.4220542907715,\n",
        "        43.63534214936342\n",
        "      ],\n",
        "      [\n",
        "        -79.42960739135742,\n",
        "        43.66763568357462\n",
        "      ]\n",
        "    ]\n",
        "  ]\n",
        "}\n",
        "\n",
        "let results = null;\n",
        "try {\n",
        "    await dbConnection.connect();\n",
        "    const db = dbConnection.getDatabase();\n",
        "\n",
        "    results = await db.collection(\"neighborhoods\").findOne({\n",
        "        area: {\n",
        "            $geoWithin: {\n",
        "                $geometry: searchArea\n",
        "            }\n",
        "        }\n",
        "    });\n",
        "} catch (error) {\n",
        "    console.log(`Erreur: ${error.message}`);\n",
        "} finally {\n",
        "    await dbConnection.close();\n",
        "}\n",
        "\n",
        "console.log(JSON.stringify(results));"
      ],
      "metadata": {
        "id": "cPRkU-sSeXox",
        "colab": {
          "base_uri": "https://localhost:8080/"
        },
        "outputId": "831077ca-9bc4-4c53-b377-954d88260aac"
      },
      "execution_count": null,
      "outputs": [
        {
          "output_type": "stream",
          "name": "stdout",
          "text": [
            "{\"_id\":80,\"shortCode\":\"079\",\"name\":\"University\",\"area\":{\"type\":\"MultiPolygon\",\"coordinates\":[[[[-79.3996291202247,43.6579849270663],[-79.3997574932814,43.6579682251901],[-79.3998357360842,43.657969229915],[-79.4000484228339,43.657948514946],[-79.4001811990201,43.6579680288694],[-79.4002799150582,43.6579666478056],[-79.4008107945437,43.6578582743696],[-79.4010338553577,43.6578163773924],[-79.4018459975341,43.6576528479972],[-79.4028268101971,43.6574585997046],[-79.4032003101458,43.6573828911912],[-79.4038111541181,43.6572617445708],[-79.404076430916,43.6572087695005],[-79.4045302282848,43.6571179837186],[-79.4052283509936,43.6569792867345],[-79.4058322439112,43.6568581865515],[-79.4065199054087,43.6567219484263],[-79.4077229391202,43.6564819597087],[-79.4084685378366,43.6582892020326],[-79.4090890590658,43.659806172143],[-79.4094366129669,43.6607056373901],[-79.4097692726385,43.6615148062126],[-79.4102496943578,43.6626691384885],[-79.4107165347888,43.6638302269134],[-79.4112129935224,43.6651157436919],[-79.4105942098506,43.6652543860771],[-79.4099926645823,43.6653891771101],[-79.4093189488455,43.6655251139253],[-79.4086808432393,43.6656765845221],[-79.4074731068106,43.6659145898168],[-79.4066729949202,43.6660784748123],[-79.406274120659,43.6661649573509],[-79.4053548050255,43.6663588717851],[-79.404518645863,43.6665237559916],[-79.4038707379121,43.6666572878663],[-79.402707177037,43.6669054424105],[-79.4015389554648,43.6671618623125],[-79.3998364772384,43.6675168720603],[-79.3983645780234,43.6678316276818],[-79.3973807918684,43.668033224743],[-79.3958757476091,43.6683327872883],[-79.3941414134514,43.6687202589369],[-79.3935262016282,43.6672650721979],[-79.3931507373503,43.6663725095808],[-79.3931687527279,43.6662475518782],[-79.393168833008,43.6662022842369],[-79.3931688932257,43.6661613372177],[-79.3931778879665,43.6661096329501],[-79.3931928307754,43.6660600765569],[-79.3932107075268,43.6660062202637],[-79.3932464389146,43.6659459176833],[-79.3932791561218,43.6659071614756],[-79.3933208039691,43.6658597813116],[-79.3933535220395,43.6658274880422],[-79.3933902014893,43.665791858962],[-79.3933922990298,43.6657907357512],[-79.3934167379271,43.6657772565359],[-79.393440792423,43.665763776957],[-79.3934644456778,43.665745796331],[-79.3934873345798,43.665732315656],[-79.3935098266817,43.6657188346067],[-79.3935315703474,43.6657008521877],[-79.3935528968579,43.6656873700442],[-79.3935738469202,43.6656693868781],[-79.3935940281904,43.6656514029925],[-79.3936138250589,43.6656334187454],[-79.3936324484003,43.6656199340712],[-79.3936506908353,43.665597447703],[-79.3936681689334,43.6655794612892],[-79.3936856222218,43.6655614748495],[-79.3937015379592,43.6655434779761],[-79.3937170772069,43.6655209980846],[-79.3937322241307,43.6655030094933],[-79.3937462134179,43.6654805191555],[-79.3937598103687,43.6654625291196],[-79.3937726261508,43.6654445293549],[-79.393784681068,43.6654220372146],[-79.3937937398602,43.665403970947],[-79.3937959548002,43.6653995443472],[-79.3938064349487,43.6653770507413],[-79.3938180975189,43.6653590589012],[-79.393828986839,43.6653365656732],[-79.3938303314854,43.6653334524595],[-79.3938387229881,43.6653140713732],[-79.3938480623427,43.6652915767037],[-79.3938566205161,43.6652690813081],[-79.3938644099086,43.6652465851979],[-79.3938714181215,43.6652240883619],[-79.3938772855681,43.6652015904663],[-79.3938823718371,43.6651790918452],[-79.393887061316,43.6651565928554],[-79.3938909775463,43.6651295924789],[-79.3938937202874,43.6651070916817],[-79.3938957066537,43.6650845901822],[-79.3938973041598,43.6650575876529],[-79.3938973437946,43.6650350843462],[-79.393897368162,43.6650212493133],[-79.3938973834135,43.6650125900408],[-79.3938958731222,43.664990076294],[-79.3938939784149,43.664967580193],[-79.3938913149542,43.6649450743769],[-79.3938874859406,43.6649225674787],[-79.3938828757603,43.6649000598552],[-79.3938778767274,43.6648730512015],[-79.3938721010009,43.6648505424953],[-79.393865172125,43.664828032718],[-79.393857462086,43.664805522215],[-79.3935882619796,43.664079205986],[-79.3932090700248,43.663068839051],[-79.393105976787,43.6627650914668],[-79.3929491732321,43.6624745884694],[-79.392909375276,43.662424098674],[-79.3924933624184,43.6618964095792],[-79.3924052568528,43.6617221957156],[-79.3922980251879,43.6614828660485],[-79.392278203349,43.6614460138757],[-79.3922147342505,43.6613279194362],[-79.392133985924,43.6612142823233],[-79.3920489842221,43.6611219113095],[-79.3919235097852,43.661003848144],[-79.3918127977572,43.6609230643744],[-79.3917398649559,43.6608698333898],[-79.3916930340672,43.6608427849973],[-79.3916450377451,43.6608157354808],[-79.3915970333847,43.6607931776071],[-79.3915482932255,43.6607661273444],[-79.3914991234507,43.6607435773251],[-79.3914495569719,43.6607210179065],[-79.3913992423088,43.6606939660847],[-79.3913489195748,43.6606714149052],[-79.3912978076442,43.6606533636251],[-79.3912161202688,43.6606217902146],[-79.3911965180963,43.6606148675279],[-79.3911644037739,43.6606090040858],[-79.3911394505749,43.6605992138671],[-79.3911142809596,43.6605856878788],[-79.3910898967322,43.6605766633054],[-79.3910654877148,43.6605676387031],[-79.3910418722165,43.660558614852],[-79.3910182524675,43.6605450903197],[-79.390995418098,43.6605360672036],[-79.3909729886352,43.6605225437969],[-79.3909509187421,43.6605090207288],[-79.3909292456145,43.6604954980349],[-79.3909083536088,43.6604819760824],[-79.3908878335705,43.6604684544811],[-79.3908681070519,43.6604549336335],[-79.3908487730521,43.6604369124851],[-79.3908301996217,43.6604233927319],[-79.3908123949123,43.66040987371],[-79.3907945983684,43.6603918540208],[-79.3907779797006,43.6603738354541],[-79.3907617372387,43.6603603179168],[-79.3907462840556,43.6603423004592],[-79.3907311822782,43.6603287840077],[-79.3907168821794,43.6603107676482],[-79.3907037475544,43.6602927524011],[-79.3906906087038,43.660270236476],[-79.3906757536705,43.6602574133566],[-79.3906394097913,43.6601774466499],[-79.3906303454686,43.6601574909973],[-79.3904946032768,43.65985884043],[-79.3925908604478,43.6593965758759],[-79.3934845254562,43.6591999405311],[-79.3940658139442,43.6590779993621],[-79.3946107754309,43.6589688576701],[-79.3946816947528,43.6589541248161],[-79.3952946903075,43.6588267517837],[-79.3959026105764,43.6587004239971],[-79.3962125210435,43.6586407838198],[-79.3970362797619,43.6584845002456],[-79.3981981104917,43.6582606331332],[-79.3990523349718,43.6580960629036],[-79.3996291202247,43.6579849270663]]]]}}\n"
          ]
        }
      ]
    },
    {
      "cell_type": "markdown",
      "source": [
        "# Activité en classe\n",
        "\n",
        "-----\n",
        "Implémentez un module qui affiche tous les sites importants de la ville de Toronto qui se trouvent dans une zone délimitée par un polygone.\n"
      ],
      "metadata": {
        "id": "2uj5YmrAsynt"
      }
    },
    {
      "cell_type": "code",
      "source": [
        "%%javascript --target=node --filename=important_sites.mjs\n",
        "\n",
        "// Implémentez le module...\n",
        "// La solution sera disponible sur l'entrepôt git du cours.\n"
      ],
      "metadata": {
        "id": "Tx-cAduos81M"
      },
      "execution_count": null,
      "outputs": []
    },
    {
      "cell_type": "markdown",
      "source": [
        "# Références\n",
        "-----------\n",
        "* Dan McCreary, Ann Kelly, *Making Sense of NoSQL* - Chapitre 1,  Manning Publications Co., NY, 2014.\n",
        "* Dan Sullivan, *NoSQL for Mere Mortals* - Chapitre 2,  Pearson Education, Inc., 2015.\n",
        "* Shannon Bradshaw, Eoin Brazil, Kristina Chodorow, *MongoDB: The Definitive Guide, 3rd Edition*, O'Reilly Media, 2019.\n",
        "* Documentation de MongoDB, https://www.mongodb.com/docs/.\n",
        "* Introduction to MongoDB, https://www.mongodb.com/docs/manual/introduction.\n",
        "* Query and Projection Operators, https://www.mongodb.com/docs/manual/reference/operator/query/\n",
        "* Update Operators, https://www.mongodb.com/docs/manual/reference/operator/update/\n",
        "* MongoDB CRUD Operations, https://www.mongodb.com/docs/manual/crud/\n",
        "* MongoDB Node Driver, https://mongodb.github.io/node-mongodb-native/4.4/\n",
        "* MongoDB Sample Dataset, https://github.com/neelabalan/mongodb-sample-dataset\n",
        "* Mongoose ODM, https://mongoosejs.com/\n",
        "* [Le grand livre Marabout de la cuisine du monde](https://www.leslibraires.ca/livres/le-grand-livre-marabout-de-la-9782501151634.html), Hachette Livre (Marabout), Paris, 2011."
      ],
      "metadata": {
        "id": "uqXrUVrva59_"
      }
    }
  ]
}