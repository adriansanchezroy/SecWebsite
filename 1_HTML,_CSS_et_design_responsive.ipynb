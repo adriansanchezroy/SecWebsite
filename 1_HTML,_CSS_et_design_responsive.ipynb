{
  "nbformat": 4,
  "nbformat_minor": 0,
  "metadata": {
    "colab": {
      "provenance": [],
      "toc_visible": true,
      "include_colab_link": true
    },
    "kernelspec": {
      "name": "python3",
      "display_name": "Python 3"
    },
    "language_info": {
      "name": "python"
    }
  },
  "cells": [
    {
      "cell_type": "markdown",
      "metadata": {
        "id": "view-in-github",
        "colab_type": "text"
      },
      "source": [
        "<a href=\"https://colab.research.google.com/github/adriansanchezroy/SecWebsite/blob/main/1_HTML%2C_CSS_et_design_responsive.ipynb\" target=\"_parent\"><img src=\"https://colab.research.google.com/assets/colab-badge.svg\" alt=\"Open In Colab\"/></a>"
      ]
    },
    {
      "cell_type": "markdown",
      "source": [
        "# Présentation\n",
        "--------------------\n",
        "Ce type de document sera utilisé lors des cours théoriques pour présenter les concepts enseignés et démontrer l’exécution de quelques exemples. Il vous permettra aussi de réviser le contenu présenté lors des cours théoriques, de tester les exemples donnés et de garder un cahier de notes."
      ],
      "metadata": {
        "id": "Z10CmXTSVbxW"
      }
    },
    {
      "cell_type": "markdown",
      "source": [
        "## Qu'est-ce que Google Colab ?\n",
        "[Colaboratory](https://research.google.com/colaboratory/intl/fr/faq.html), souvent raccourci en \"Colab\", est un produit de Google Research. Colab permet à n'importe qui d'écrire et d'exécuter le code Python de son choix par le biais du navigateur. C'est un environnement particulièrement adapté à l'apprentissage automatique, à l'analyse de données et à l'éducation.\n",
        "\n",
        "Les exemples sont exécutes par la machine virtuelle allouée au cahier Google Colab. Les machines virtuelles sont supprimées lorsqu'elles sont inactives pendant un certain temps. Nous nous servirons de cette fonctionnalité pour lancer l'exécution des exemples présentés durant les cours. Parfois il faudra exécuter quelques étapes au préalable pour customiser l'environnent pour bien permettre l'exécution des exemples. Si c'est le cas, les cellules à exécuter au préalable se trouveront dans la section **Configuration** du cahier."
      ],
      "metadata": {
        "id": "wn94jW5oXO5b"
      }
    },
    {
      "cell_type": "markdown",
      "source": [
        "## Pourquoi utiliser Google Colab ?\n",
        "\n",
        "Un document Google Colab contient essentiellement des cellules (cells en anglais) de deux types : texte markdown ou des commandes. Les cellules type texte sont formatées et rendues en HTML pour la visualisation par le navigateur. Par défaut, les cellules commande acceptent du code Python qui est exécuté par le noyau (kernel en anglais) de la plateforme qui tourne sur la machine virtuelle.\n",
        "\n",
        "Bien que Google Colab soit conçu principalement pour exécuter du code Python, son noyau ipython accepte aussi d'autres commandes, souvent appelées magies (magics en anglais), qui nous permettent : d'exécuter des commandes telles que pour enregistrer des fichiers sur le disque, pour exécuter des commandes Linux sur la console de la machine virtuelle, regarder la sortie d'exécution de ces commandes, et visualiser du code HTML. Nous profiterons de ces fonctionnalités pour enregistrer de fichiers sur le disque et les visualiser."
      ],
      "metadata": {
        "id": "m4KFPVJBY43d"
      }
    },
    {
      "cell_type": "markdown",
      "source": [
        "# Configuration\n",
        "-------------------\n",
        "\n",
        "Les cellules de cette section doivent être exécutées avant le reste du document. Si vous êtes déconnecté de l'engin d'exécution par Google Colab, il vous faudra exécuter cette section de nouveau."
      ],
      "metadata": {
        "id": "DUDFdA4wFjze"
      }
    },
    {
      "cell_type": "code",
      "source": [
        "def start_web_server():\n",
        "    \"\"\" Pour démarrer un serveur Web sur le conteneur \"\"\"\n",
        "    stop_web_server() # Stop any server that is currently running\n",
        "    get_ipython().system_raw('python3 -m http.server 8000 --directory /content/ &')\n",
        "\n",
        "def stop_web_server():\n",
        "    \"\"\" Pour arreter le serveur \"\"\"\n",
        "    !ps -x | grep \"[h]ttp.server\" | awk '{print $1}' | xargs -I {} kill {}\n",
        "\n",
        "start_web_server()"
      ],
      "metadata": {
        "id": "4G7nFs94_Iqq"
      },
      "execution_count": null,
      "outputs": []
    },
    {
      "cell_type": "markdown",
      "source": [
        "# HTML: Contenu et structure\n",
        "----------------"
      ],
      "metadata": {
        "id": "4gOoD-Two4aD"
      }
    },
    {
      "cell_type": "markdown",
      "source": [
        "## HTML: De quoi s’agit-il?\n",
        "\n",
        "<h4>Hyper-Text Markup Language</h4>\n",
        "\n",
        "* Langage permettant l’organisation hiérarchique de documents web permettant leur affichage (habituellement dans un navigateur).\n",
        "* Combine la sémantique (structure du document) avec certains éléments\n",
        "de la présentation visuelle.\n",
        "* Permet l'intercalage de balises (tags) avec le contenu du document.\n",
        "\n",
        "La balise `<head>` n'est pas affichée - elle fournit des directives au moteur de présentation (layout engine)."
      ],
      "metadata": {
        "id": "j0aqY6qHo-bV"
      }
    },
    {
      "cell_type": "markdown",
      "source": [
        "* Exemple:\n",
        "```html\n",
        "<!DOCTYPE html>\n",
        "<html lang=\"fr\">\n",
        "<head>\n",
        "  <meta charset=\"UTF-8\">\n",
        "  <title>Photo Gallery</title>\n",
        "  <link rel=\"stylesheet\" href=\"styles.css\" type=\"text/css\">\n",
        "</head>\n",
        "<body>\n",
        "  <div class=\"photo\">\n",
        "    <h3>My first photo</h3>\n",
        "    <img src=\"picture1.jpg\"/>\n",
        "    ...\n",
        "  </div>\n",
        "</body>\n",
        "</html>\n",
        "```"
      ],
      "metadata": {
        "id": "eXowjfwbpmmp"
      }
    },
    {
      "cell_type": "markdown",
      "source": [
        "Exemple avec [Materialize CSS](https://materializecss.com/):"
      ],
      "metadata": {
        "id": "-26RuO4WfJ2p"
      }
    },
    {
      "cell_type": "code",
      "source": [
        "%%html\n",
        "\n",
        "<!DOCTYPE html>\n",
        "<html lang=\"fr\">\n",
        "<head>\n",
        "  <meta charset=\"UTF-8\">\n",
        "  <title>Exemple image</title>\n",
        "  <link rel=\"stylesheet\" href=\"https://cdnjs.cloudflare.com/ajax/libs/materialize/1.0.0/css/materialize.min.css\">\n",
        "</head>\n",
        "<body>\n",
        "  <div class=\"row\">\n",
        "    <div class=\"card-panel orange lighten-4 col s12 m4\">\n",
        "      <h2 >Snoopy</h2>\n",
        "      <img alt=\"Snoopy\" src=\"https://upload.wikimedia.org/wikipedia/en/5/53/Snoopy_Peanuts.png\" width=\"200px\"/>\n",
        "      <p class=\"flow-text\"><strong>Snoopy</strong> est un chien, personnage principal du\n",
        "      comic strip <em>Peanuts</em>, de race beagle qui a fait sa première apparence le 4 octobre 1950.</p>\n",
        "    </div>\n",
        "  </div>\n",
        "</body>\n",
        "</html>"
      ],
      "metadata": {
        "id": "zdBuKTc2buIt",
        "colab": {
          "base_uri": "https://localhost:8080/",
          "height": 579
        },
        "outputId": "d50505a3-9390-4418-c729-f92df90a4f9c"
      },
      "execution_count": null,
      "outputs": [
        {
          "output_type": "display_data",
          "data": {
            "text/plain": [
              "<IPython.core.display.HTML object>"
            ],
            "text/html": [
              "\n",
              "<!DOCTYPE html>\n",
              "<html lang=\"fr\">\n",
              "<head>\n",
              "  <meta charset=\"UTF-8\">\n",
              "  <title>Exemple image</title>\n",
              "  <link rel=\"stylesheet\" href=\"https://cdnjs.cloudflare.com/ajax/libs/materialize/1.0.0/css/materialize.min.css\">\n",
              "</head>\n",
              "<body>\n",
              "  <div class=\"row\">\n",
              "    <div class=\"card-panel orange lighten-4 col s12 m4\">\n",
              "      <h2 >Snoopy</h2>\n",
              "      <img alt=\"Snoopy\" src=\"https://upload.wikimedia.org/wikipedia/en/5/53/Snoopy_Peanuts.png\" width=\"200px\"/>\n",
              "      <p class=\"flow-text\"><strong>Snoopy</strong> est un chien, personnage principal du\n",
              "      comic strip <em>Peanuts</em>, de race beagle qui a fait sa première apparence le 4 octobre 1950.</p>\n",
              "    </div>\n",
              "  </div>\n",
              "</body>\n",
              "</html>\n"
            ]
          },
          "metadata": {}
        }
      ]
    },
    {
      "cell_type": "markdown",
      "source": [
        "## HTML: balise `<head>` (en-tête)\n",
        "\n",
        "<h4>Contient des métadonnées utilisées pour décrire la page</h4>\n",
        "\n",
        "* N'est habituellement pas affichée par le navigateur\n",
        "\n",
        "* Exemples de balises :\n",
        "    - Titre de la page :\n",
        "    ```html\n",
        "    <title> Title </title>\n",
        "    ```\n",
        "    - Style de la page :\n",
        "    ```html\n",
        "    <style>/* règles de style */</style>\n",
        "    ```\n",
        "    - Liens vers des feuilles de styles CSS :\n",
        "      ```html\n",
        "      <link rel=\"stylesheet\" type=\"text/css\" href=\"fichier.css\">\n",
        "      ```\n",
        "    - Méta-données pour moteurs de recherche et *layout*:\n",
        "    ```html\n",
        "      <meta name=\"keywords\" content=\"HTML, CSS, GTI525\">\n",
        "      <meta name=\"author\" content=\"Marcos Assuncao\">\n",
        "      <meta name=\"viewport\" content=\"width=device-width, initial-scale=1.0\">\n",
        "      ```\n",
        "    - Inclusion de code JavaScript:\n",
        "        ```html\n",
        "        <script> // code Javascript </script>\n",
        "        ```\n",
        "        ```html\n",
        "        <script src=\"fichier Javascript.js\"></script>\n",
        "        ```"
      ],
      "metadata": {
        "id": "FE_Yoi-wpscD"
      }
    },
    {
      "cell_type": "markdown",
      "source": [
        "## HTML: balise `<body>` (corps)\n",
        "\n",
        "<h4>Contient le contenu de la page avec des balises HTML pour décrire la\n",
        "structure</h4>\n",
        "\n",
        "Balises typiquement utilisées en HTML:\n",
        "\n",
        "* `<div>` Regrouper des éléments sémantiquement liés dans une structure logique. Un `div` ajoute une ligne avant et après l'élément.\n",
        "* `<span>` Regrouper des éléments liés sur une seule ligne. Utile pour introduire un style CSS sur différents éléments d'une même ligne.\n",
        "* `<p>` Nouveau paragraphe\n",
        "* `<br>` Nouvelle ligne (une succession de `<br>` pour créer un espacement est une pratique archaïque)"
      ],
      "metadata": {
        "id": "6IzOeDULrO9u"
      }
    },
    {
      "cell_type": "code",
      "source": [
        "%%html\n",
        "\n",
        "<p>Ceci est un paragraphe</p>\n",
        "<p>Ceci est un nouveau paragraphe</p>\n",
        "<p>Ceci est un paragraphe <br> avec quelques <br> sauts <br> de ligne</p>"
      ],
      "metadata": {
        "id": "sDjazp5CmnJQ",
        "colab": {
          "base_uri": "https://localhost:8080/",
          "height": 145
        },
        "outputId": "588fac68-8c24-4e0d-b67f-6ee73c10f127"
      },
      "execution_count": null,
      "outputs": [
        {
          "output_type": "display_data",
          "data": {
            "text/plain": [
              "<IPython.core.display.HTML object>"
            ],
            "text/html": [
              "\n",
              "<p>Ceci est un paragraphe</p>\n",
              "<p>Ceci est un nouveau paragraphe</p>\n",
              "<p>Ceci est un paragraphe <br> avec quelques <br> sauts <br> de ligne</p>\n"
            ]
          },
          "metadata": {}
        }
      ]
    },
    {
      "cell_type": "markdown",
      "source": [
        "* `<h1>` (`<h2>`‚ ...‚ `<h6>`): Titre d'un niveau *n*"
      ],
      "metadata": {
        "id": "6qYgbXe8m8YB"
      }
    },
    {
      "cell_type": "code",
      "source": [
        "%%html\n",
        "\n",
        "<!--<link rel=\"stylesheet\" href=\"https://cdnjs.cloudflare.com/ajax/libs/materialize/1.0.0/css/materialize.min.css\"> -->\n",
        "\n",
        "<h1>Titre 1</h1>\n",
        "<h2>Titre 2</h2>\n",
        "<h3>Titre 3</h3>\n",
        "<h4>Titre 4</h4>\n",
        "<h5>Titre 5</h5>\n",
        "<h6>Titre 6</h6>"
      ],
      "metadata": {
        "colab": {
          "base_uri": "https://localhost:8080/",
          "height": 258
        },
        "id": "ujA9OGhTnzIR",
        "outputId": "60a3c640-d8d2-4b90-8848-57cdd13645fc"
      },
      "execution_count": null,
      "outputs": [
        {
          "output_type": "display_data",
          "data": {
            "text/plain": [
              "<IPython.core.display.HTML object>"
            ],
            "text/html": [
              "\n",
              "<!--<link rel=\"stylesheet\" href=\"https://cdnjs.cloudflare.com/ajax/libs/materialize/1.0.0/css/materialize.min.css\"> -->\n",
              "\n",
              "<h1>Titre 1</h1>\n",
              "<h2>Titre 2</h2>\n",
              "<h3>Titre 3</h3>\n",
              "<h4>Titre 4</h4>\n",
              "<h5>Titre 5</h5>\n",
              "<h6>Titre 6</h6>\n"
            ]
          },
          "metadata": {}
        }
      ]
    },
    {
      "cell_type": "markdown",
      "source": [
        "* `<img>` Image (src: source de l'image)\n"
      ],
      "metadata": {
        "id": "_joVhXBcnw-j"
      }
    },
    {
      "cell_type": "code",
      "source": [
        "%%html\n",
        "\n",
        "<img src=\"https://upload.wikimedia.org/wikipedia/en/2/22/Charlie_Brown.png\">"
      ],
      "metadata": {
        "id": "vwRyvcpVoD7U",
        "colab": {
          "base_uri": "https://localhost:8080/",
          "height": 347
        },
        "outputId": "dea2bf9e-ecba-4af4-caa2-e847c3fabcb0"
      },
      "execution_count": null,
      "outputs": [
        {
          "output_type": "display_data",
          "data": {
            "text/plain": [
              "<IPython.core.display.HTML object>"
            ],
            "text/html": [
              "\n",
              "<img src=\"https://upload.wikimedia.org/wikipedia/en/2/22/Charlie_Brown.png\">\n"
            ]
          },
          "metadata": {}
        }
      ]
    },
    {
      "cell_type": "markdown",
      "source": [
        "* `<a>` Lien hypertexte (`href`: adresse cible)"
      ],
      "metadata": {
        "id": "Rn3JeMPsoCvN"
      }
    },
    {
      "cell_type": "code",
      "source": [
        "%%html\n",
        "\n",
        "<a href=\"https://fr.wikipedia.org\">Wikipedia</a>\n"
      ],
      "metadata": {
        "id": "hmW9iBgQomSh",
        "colab": {
          "base_uri": "https://localhost:8080/",
          "height": 34
        },
        "outputId": "bc760ba6-1273-48be-ce12-8e3496ebd48f"
      },
      "execution_count": null,
      "outputs": [
        {
          "output_type": "display_data",
          "data": {
            "text/plain": [
              "<IPython.core.display.HTML object>"
            ],
            "text/html": [
              "\n",
              "<a href=\"https://fr.wikipedia.org\">Wikipedia</a>\n"
            ]
          },
          "metadata": {}
        }
      ]
    },
    {
      "cell_type": "markdown",
      "source": [
        "* `<table>` Tableau – contient un ensemble de rangées (`<tr>`) qui contiennent un ensemble de colonnes (`<td>`)"
      ],
      "metadata": {
        "id": "9PSpj6-Eo85i"
      }
    },
    {
      "cell_type": "code",
      "source": [
        "%%html\n",
        "<link rel=\"stylesheet\" href=\"https://cdnjs.cloudflare.com/ajax/libs/materialize/1.0.0/css/materialize.min.css\">\n",
        "\n",
        "<div class=\"container left\">\n",
        "\n",
        "<table class=\"striped centered\">\n",
        "  <thead>\n",
        "  <tr>\n",
        "    <th>Nom</th>\n",
        "    <th>Ville</th>\n",
        "  </tr>\n",
        "  </thead>\n",
        "\n",
        "  <tbody>\n",
        "  <tr>\n",
        "    <td>Célestine Deschamps</td>\n",
        "    <td>Toronto</td>\n",
        "  </tr>\n",
        "  <tr>\n",
        "    <td>Cornélie Thomas</td>\n",
        "    <td>Montréal</td>\n",
        "  </tr>\n",
        "  <tr>\n",
        "    <td>Dorothée Dupond</td>\n",
        "    <td>Ottawa</td>\n",
        "  </tr>\n",
        "  </tbody>\n",
        "</table>\n",
        "\n",
        "</div>"
      ],
      "metadata": {
        "id": "QuwnrwqMpAZV",
        "colab": {
          "base_uri": "https://localhost:8080/",
          "height": 206
        },
        "outputId": "76b09d9e-4b44-48f9-e51f-bd1e7759e5d1"
      },
      "execution_count": null,
      "outputs": [
        {
          "output_type": "display_data",
          "data": {
            "text/plain": [
              "<IPython.core.display.HTML object>"
            ],
            "text/html": [
              "<link rel=\"stylesheet\" href=\"https://cdnjs.cloudflare.com/ajax/libs/materialize/1.0.0/css/materialize.min.css\">\n",
              "\n",
              "<div class=\"container left\">\n",
              "\n",
              "<table class=\"striped centered\">\n",
              "  <thead>\n",
              "  <tr>\n",
              "    <th>Nom</th>\n",
              "    <th>Ville</th>\n",
              "  </tr>\n",
              "  </thead>\n",
              "\n",
              "  <tbody>\n",
              "  <tr>\n",
              "    <td>Célestine Deschamps</td>\n",
              "    <td>Toronto</td>\n",
              "  </tr>\n",
              "  <tr>\n",
              "    <td>Cornélie Thomas</td>\n",
              "    <td>Montréal</td>\n",
              "  </tr>\n",
              "  <tr>\n",
              "    <td>Dorothée Dupond</td>\n",
              "    <td>Ottawa</td>\n",
              "  </tr>\n",
              "  </tbody>\n",
              "</table>\n",
              "\n",
              "</div>\n"
            ]
          },
          "metadata": {}
        }
      ]
    },
    {
      "cell_type": "markdown",
      "source": [
        "\n",
        "* `<ul>` Liste non-ordonnée (item de liste: `<li>`)\n",
        "* `<ol>` Liste ordonnée (item de liste: `<li>`)"
      ],
      "metadata": {
        "id": "c-HKwsJSogRn"
      }
    },
    {
      "cell_type": "code",
      "source": [
        "%%html\n",
        "\n",
        "<link rel=\"stylesheet\" href=\"https://cdnjs.cloudflare.com/ajax/libs/materialize/1.0.0/css/materialize.min.css\">\n",
        "\n",
        "<h3>Exemple de liste non-ordonnée</h3>\n",
        "\n",
        "<ul>\n",
        "  <li>Célestine Deschamps</li>\n",
        "  <li>Cornélie Thomas</li>\n",
        "  <li>Dorothée Dupond</li>\n",
        "</ul>\n",
        "\n",
        "<h3>Exemple de liste ordonnée</h3>\n",
        "\n",
        "<ol>\n",
        "  <li>Célestine Deschamps</li>\n",
        "  <li>Cornélie Thomas</li>\n",
        "  <li>Dorothée Dupond</li>\n",
        "</ol>"
      ],
      "metadata": {
        "id": "Co0YZK87qpAz",
        "colab": {
          "base_uri": "https://localhost:8080/",
          "height": 325
        },
        "outputId": "577182dc-03d2-474b-d50b-55ac7a475eb1"
      },
      "execution_count": null,
      "outputs": [
        {
          "output_type": "display_data",
          "data": {
            "text/plain": [
              "<IPython.core.display.HTML object>"
            ],
            "text/html": [
              "\n",
              "<link rel=\"stylesheet\" href=\"https://cdnjs.cloudflare.com/ajax/libs/materialize/1.0.0/css/materialize.min.css\">\n",
              "\n",
              "<h3>Exemple de liste non-ordonnée</h3>\n",
              "\n",
              "<ul>\n",
              "  <li>Célestine Deschamps</li>\n",
              "  <li>Cornélie Thomas</li>\n",
              "  <li>Dorothée Dupond</li>\n",
              "</ul>\n",
              "\n",
              "<h3>Exemple de liste ordonnée</h3>\n",
              "\n",
              "<ol>\n",
              "  <li>Célestine Deschamps</li>\n",
              "  <li>Cornélie Thomas</li>\n",
              "  <li>Dorothée Dupond</li>\n",
              "</ol>\n"
            ]
          },
          "metadata": {}
        }
      ]
    },
    {
      "cell_type": "markdown",
      "source": [
        "* `<form>` Formulaire HTML‚ qui peut contenir un ensemble de champs (`<input>`)\n",
        "\n",
        "**Exemple:**"
      ],
      "metadata": {
        "id": "2p59Ixdsqnr_"
      }
    },
    {
      "cell_type": "code",
      "source": [
        "%%html\n",
        "\n",
        "<style>\n",
        " form { display: table; }\n",
        " form.div { display: table-row; }\n",
        " label, input {\n",
        "   display: table-cell;\n",
        "   margin-bottom: 10px;\n",
        " }\n",
        " label { padding-right: 10px; }\n",
        "</style>\n",
        "\n",
        "<div>\n",
        "  <form action=\"#\">\n",
        "    <div>\n",
        "      <label for=\"firstname\">Prénom</label>\n",
        "      <input id=\"firstname\" type=\"text\">\n",
        "    </div>\n",
        "    <div>\n",
        "      <label for=\"lastname\">Nom</label>\n",
        "      <input id=\"lastname\" type=\"text\">\n",
        "    </div>\n",
        "    <div>\n",
        "      <label for=\"password\">Mot de passe</label>\n",
        "      <input id=\"password\" type=\"password\">\n",
        "    </div>\n",
        "    <div>\n",
        "      <label for=\"email\">Courriel</label>\n",
        "      <input id=\"email\" type=\"email\">\n",
        "    </div>\n",
        "    <div>\n",
        "      <button type=\"submit\" name=\"action\">Submit</button>\n",
        "    </div>\n",
        "  </form>\n",
        "</div>"
      ],
      "metadata": {
        "id": "h2D2G7Uslaa-",
        "colab": {
          "base_uri": "https://localhost:8080/",
          "height": 228
        },
        "outputId": "3afac584-5172-4256-ed6d-b325b185c619"
      },
      "execution_count": null,
      "outputs": [
        {
          "output_type": "display_data",
          "data": {
            "text/plain": [
              "<IPython.core.display.HTML object>"
            ],
            "text/html": [
              "\n",
              "<style>\n",
              " form { display: table; }\n",
              " form.div { display: table-row; }\n",
              " label, input {\n",
              "   display: table-cell;\n",
              "   margin-bottom: 10px;\n",
              " }\n",
              " label { padding-right: 10px; }\n",
              "</style>\n",
              "\n",
              "<div>\n",
              "  <form action=\"#\">\n",
              "    <div>\n",
              "      <label for=\"firstname\">Prénom</label>\n",
              "      <input id=\"firstname\" type=\"text\" class=\"validate\">\n",
              "    </div>\n",
              "    <div>\n",
              "      <label for=\"lastname\">Nom</label>\n",
              "      <input id=\"lastname\" type=\"text\" class=\"validate\">\n",
              "    </div>\n",
              "    <div>\n",
              "      <label for=\"password\">Mot de passe</label>\n",
              "      <input id=\"password\" type=\"password\" class=\"validate\">\n",
              "    </div>\n",
              "    <div>\n",
              "      <label for=\"email\">Courriel</label>\n",
              "      <input id=\"email\" type=\"email\" class=\"validate\">\n",
              "    </div>\n",
              "    <div>\n",
              "      <button type=\"submit\" name=\"action\">Submit</button>\n",
              "    </div>\n",
              "  </form>\n",
              "</div>\n"
            ]
          },
          "metadata": {}
        }
      ]
    },
    {
      "cell_type": "markdown",
      "source": [
        "* Le même exemple avec [Materialize](https://materializecss.com/text-inputs.html)."
      ],
      "metadata": {
        "id": "wrByC99Dlh4Y"
      }
    },
    {
      "cell_type": "code",
      "source": [
        "%%html\n",
        "\n",
        "<link rel=\"stylesheet\" href=\"https://cdnjs.cloudflare.com/ajax/libs/materialize/1.0.0/css/materialize.min.css\">\n",
        "\n",
        "<div class=\"container left\">\n",
        "  <form class=\"col s12\">\n",
        "    <div class=\"row\">\n",
        "      <div class=\"input-field col s6\">\n",
        "         <input id=\"firstname\" type=\"text\" class=\"validate\">\n",
        "         <label for=\"firstname\">Prénom</label>\n",
        "      </div>\n",
        "      <div class=\"input-field col s6\">\n",
        "         <input id=\"lastname\" type=\"text\" class=\"validate\">\n",
        "         <label for=\"lastname\">Nom</label>\n",
        "      </div>\n",
        "    </div>\n",
        "    <div class=\"row\">\n",
        "      <div class=\"input-field col s12\">\n",
        "        <input id=\"password\" type=\"password\" class=\"validate\">\n",
        "        <label for=\"password\">Mot de passe</label>\n",
        "      </div>\n",
        "    </div>\n",
        "    <div class=\"row\">\n",
        "      <div class=\"input-field col s12\">\n",
        "        <input id=\"email\" type=\"email\" class=\"validate\">\n",
        "        <label for=\"email\">Courriel</label>\n",
        "      </div>\n",
        "    </div>\n",
        "    <div class=\"row\">\n",
        "      <button class=\"btn waves-effect waves-light\" type=\"submit\" name=\"action\">Submit</button>\n",
        "    </div>\n",
        "  </form>\n",
        "</div>"
      ],
      "metadata": {
        "id": "GaOSVriYlspM",
        "colab": {
          "base_uri": "https://localhost:8080/",
          "height": 385
        },
        "outputId": "06df012c-a322-409b-e56d-041b4e0a6044"
      },
      "execution_count": null,
      "outputs": [
        {
          "output_type": "display_data",
          "data": {
            "text/plain": [
              "<IPython.core.display.HTML object>"
            ],
            "text/html": [
              "\n",
              "<link rel=\"stylesheet\" href=\"https://cdnjs.cloudflare.com/ajax/libs/materialize/1.0.0/css/materialize.min.css\">\n",
              "\n",
              "<div class=\"container left\">\n",
              "  <form class=\"col s12\">\n",
              "    <div class=\"row\">\n",
              "      <div class=\"input-field col s6\">\n",
              "         <input id=\"firstname\" type=\"text\" class=\"validate\">\n",
              "         <label for=\"firstname\">Prénom</label>\n",
              "      </div>\n",
              "      <div class=\"input-field col s6\">\n",
              "         <input id=\"lastname\" type=\"text\" class=\"validate\">\n",
              "         <label for=\"lastname\">Nom</label>\n",
              "      </div>\n",
              "    </div>\n",
              "    <div class=\"row\">\n",
              "      <div class=\"input-field col s12\">\n",
              "        <input id=\"password\" type=\"password\" class=\"validate\">\n",
              "        <label for=\"password\">Mot de passe</label>\n",
              "      </div>\n",
              "    </div>\n",
              "    <div class=\"row\">\n",
              "      <div class=\"input-field col s12\">\n",
              "        <input id=\"email\" type=\"email\" class=\"validate\">\n",
              "        <label for=\"email\">Courriel</label>\n",
              "      </div>\n",
              "    </div>\n",
              "    <div class=\"row\">\n",
              "      <button class=\"btn waves-effect waves-light\" type=\"submit\" name=\"action\">Submit</button>\n",
              "    </div>\n",
              "  </form>\n",
              "</div>\n"
            ]
          },
          "metadata": {}
        }
      ]
    },
    {
      "cell_type": "markdown",
      "source": [
        "Les balises de formattages de type \"pré-CSS\" (p. ex.‚ `<b>`‚ `<i>`‚ `<u>`‚\n",
        "`<font>`) sont obsolètes - elles ne devraient plus être utilisées. Il vaut\n",
        "mieux utiliser les règles CSS en combinaison avec `<span>` et `<div>`."
      ],
      "metadata": {
        "id": "BxD918e8lgn0"
      }
    },
    {
      "cell_type": "markdown",
      "source": [
        "## La balise `div`\n",
        "\n",
        "* Mécanisme permettant de séparer les différentes sections d'une page web\n",
        "    - Utilisée pour regrouper différents éléments sémantiquement reliés dans la même portion d'un document\n",
        "    - Permet l'application de styles CSS ou de code JavaScript à un sous-ensemble logique d'éléments\n",
        "    - Ne génère aucune \"présentation\" visuelle spécifique\n",
        "    - Possibilité d'imbriquer plusieurs éléments `div`\n",
        "* Peuvent aider à réduire la complexité et introduire un meilleur découplage entre la sémantique et le contenu\n",
        "\n",
        "### Exemple\n",
        "\n",
        "Balise `div` pour regrouper des éléments de menu\n",
        "\n",
        "* `id`: peut être utilisé via le code JavaScript pour accéder au `div` - doit être unique\n",
        "* `class`: peut être utilisé pour spécifier le type d'éléments - pas d'obligation d'être unique; plusieurs éléments peuvent avoir une même classe\n",
        "* `style`: exemple de définition de style CSS qui s'applique à tous les\n",
        "sous-éléments (il est préférable de définir via la classe)"
      ],
      "metadata": {
        "id": "W-oL5HrVrifE"
      }
    },
    {
      "cell_type": "code",
      "source": [
        "%%html\n",
        "<link rel=\"stylesheet\" href=\"https://cdnjs.cloudflare.com/ajax/libs/materialize/1.0.0/css/materialize.min.css\">\n",
        "\n",
        "<div id=\"menu1\" class=\"collection\" style=\"background: #d3e7dd; width: 500px;\">\n",
        "  <a class=\"collection-item\" href=\"index.html\">Home</a>\n",
        "  <a class=\"collection-item active\" href=\"about.html\">About Us</a>\n",
        "  <a class=\"collection-item\" href=\"faq.html\">FAQ</a>\n",
        "  <a class=\"collection-item\" href=\"contact.html\">Contact Us</a>\n",
        "</div>"
      ],
      "metadata": {
        "id": "RlzPRXT4etZV",
        "colab": {
          "base_uri": "https://localhost:8080/",
          "height": 215
        },
        "outputId": "81142f9b-9bd9-4dc2-b0f1-4ae99a683c56"
      },
      "execution_count": null,
      "outputs": [
        {
          "output_type": "display_data",
          "data": {
            "text/plain": [
              "<IPython.core.display.HTML object>"
            ],
            "text/html": [
              "<link rel=\"stylesheet\" href=\"https://cdnjs.cloudflare.com/ajax/libs/materialize/1.0.0/css/materialize.min.css\">\n",
              "\n",
              "<div id=\"menu1\" class=\"collection\" style=\"background: #d3e7dd; width: 500px;\">\n",
              "  <a class=\"collection-item\" href=\"index.html\">Home</a>\n",
              "  <a class=\"collection-item active\" href=\"about.html\">About Us</a>\n",
              "  <a class=\"collection-item\" href=\"faq.html\">FAQ</a>\n",
              "  <a class=\"collection-item\" href=\"contact.html\">Contact Us</a>\n",
              "</div>\n"
            ]
          },
          "metadata": {}
        }
      ]
    },
    {
      "cell_type": "markdown",
      "source": [
        "Pour plus d'informations sur [les collections](https://materializecss.com/collections.html) de Materialize."
      ],
      "metadata": {
        "id": "H89k89mahzYo"
      }
    },
    {
      "cell_type": "markdown",
      "source": [
        "## Balise `span` : un \"`div` inline\"\n",
        "\n",
        "La balise `span` est une version \"inline\" de la balise `div`\n",
        "\n",
        "* Permet de grouper sémantiquement différentes portions d’un document\n",
        "sans introduire une fin de ligne.\n",
        "    - Par exemple‚ pour introduire des règles de styles CSS à quelques mots ou à\n",
        "une phrase d'un paragraphe.\n",
        "* Ne peut contenir des balises `div` imbriquées"
      ],
      "metadata": {
        "id": "4-QzwpttseuP"
      }
    },
    {
      "cell_type": "code",
      "source": [
        "%%html\n",
        "<link rel=\"stylesheet\" href=\"https://cdnjs.cloudflare.com/ajax/libs/materialize/1.0.0/css/materialize.min.css\">\n",
        "<div class=\"row\">\n",
        "<div class=\"col s12 m4\">\n",
        "\n",
        "<p class=\"flow-text\">Lorem ipsum dolor sit amet, <span class=\"blue-text text-darken-2\">consectetur adipiscing elit.</span>\n",
        "  Phasellus bibendum imperdiet purus vel elementum. Praesent mattis, nulla porttitor placerat placerat,\n",
        "  <span class=\"orange-text darken-4\">arcu lacus finibus ex, et posuere elit</span>\n",
        "  tellus eget lacus. Morbi lobortis tincidunt arcu et facilisis. In arcu orci, mollis varius ex ut,\n",
        "  ultrices tempor lectus. Nulla ac mi pharetra, pharetra enim vitae, accumsan libero.\n",
        "  Morbi accumsan nunc sagittis, rutrum odio vitae, <span class=\"light-green-text darken-4\">accumsan diam. Sed pharetra sed eros et hendrerit.</span>\n",
        "  Integer malesuada, sem non rhoncus bibendum, orci massa varius dolor, non scelerisque\n",
        "  velit mi sed tellus. Ut pellentesque laoreet auctor. Sed tempor fermentum dui, sed rhoncus quam\n",
        "  fringilla in. <span class=\"pink-text accent-3\">Phasellus at odio commodo</span>, iaculis lacus ac, tempor risus. Donec ultrices lectus\n",
        "  tortor. Sed fringilla, ligula sit amet ornare semper, mi eros efficitur urna, eu lobortis\n",
        "  turpis ex et dui. Aenean congue ipsum velit, pretium malesuada enim porta maximus.\n",
        "  Mauris consequat justo ac eleifend iaculis.</p>\n",
        "\n",
        "</div>\n",
        "</div>"
      ],
      "metadata": {
        "id": "cSgmkTmMthb7",
        "colab": {
          "base_uri": "https://localhost:8080/",
          "height": 1000
        },
        "outputId": "327192cb-28e0-493c-87ec-67d908b76bae"
      },
      "execution_count": null,
      "outputs": [
        {
          "output_type": "display_data",
          "data": {
            "text/plain": [
              "<IPython.core.display.HTML object>"
            ],
            "text/html": [
              "<link rel=\"stylesheet\" href=\"https://cdnjs.cloudflare.com/ajax/libs/materialize/1.0.0/css/materialize.min.css\">\n",
              "<div class=\"row\">\n",
              "<div class=\"col s12 m4\">\n",
              "\n",
              "<p class=\"flow-text\">Lorem ipsum dolor sit amet, <span class=\"blue-text text-darken-2\">consectetur adipiscing elit.</span>\n",
              "  Phasellus bibendum imperdiet purus vel elementum. Praesent mattis, nulla porttitor placerat placerat,\n",
              "  <span class=\"orange-text darken-4\">arcu lacus finibus ex, et posuere elit</span>\n",
              "  tellus eget lacus. Morbi lobortis tincidunt arcu et facilisis. In arcu orci, mollis varius ex ut,\n",
              "  ultrices tempor lectus. Nulla ac mi pharetra, pharetra enim vitae, accumsan libero.\n",
              "  Morbi accumsan nunc sagittis, rutrum odio vitae, <span class=\"light-green-text darken-4\">accumsan diam. Sed pharetra sed eros et hendrerit.</span>\n",
              "  Integer malesuada, sem non rhoncus bibendum, orci massa varius dolor, non scelerisque\n",
              "  velit mi sed tellus. Ut pellentesque laoreet auctor. Sed tempor fermentum dui, sed rhoncus quam\n",
              "  fringilla in. <span class=\"pink-text accent-3\">Phasellus at odio commodo</span>, iaculis lacus ac, tempor risus. Donec ultrices lectus\n",
              "  tortor. Sed fringilla, ligula sit amet ornare semper, mi eros efficitur urna, eu lobortis\n",
              "  turpis ex et dui. Aenean congue ipsum velit, pretium malesuada enim porta maximus.\n",
              "  Mauris consequat justo ac eleifend iaculis.</p>\n",
              "\n",
              "</div>\n",
              "</div>\n"
            ]
          },
          "metadata": {}
        }
      ]
    },
    {
      "cell_type": "markdown",
      "source": [
        "## Pourquoi utiliser les balises `div` et `span`?\n",
        "\n",
        "* Ces balises sont utiles pour découpler la page en éléments sémantiques reliés\n",
        "    - Permet de mieux découpler le contenu de la sémantique (surtout pour balises `<div>`)\n",
        "    - Permet d'éviter l'utilisation de vieilles balises rétrogrades (`<b>`, `<i>`, `<u>`, `<font>`, etc.)\n",
        "    - Peut faciliter la manipulation du DOM via du code JavaScript (à venir)\n",
        "    - Peut faciliter la mise en page avancée, en combinaison avec des styles CSS\n",
        "    - Peut améliorer le rendu à travers différentes plate-formes\n",
        "\n",
        "**Attention !**\n",
        "\n",
        "La sur-utilisation peut introduire des artifacts de rendu indésirables, ralentir l'affichage et rendre difficile le raisonnement sur l'organisation logique de la page (nous verrons plus tard - DOM)"
      ],
      "metadata": {
        "id": "nSJ-G5mOtWZm"
      }
    },
    {
      "cell_type": "markdown",
      "source": [
        "## DOM (Document Object Model)"
      ],
      "metadata": {
        "id": "MpAlGux3vX8n"
      }
    },
    {
      "cell_type": "markdown",
      "source": [
        "### Rendu d'une page HTML par le navigateur\n",
        "\n",
        "<h4>Transformation du code HTML en arbre - le DOM (Document Object Model)</h4>\n",
        "\n",
        "![render(1).png](data:image/png;base64,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)"
      ],
      "metadata": {
        "id": "7OHEDbwdt4MT"
      }
    },
    {
      "cell_type": "markdown",
      "source": [
        "### DOM Exemple\n",
        "\n",
        "![notebooks(1).png](data:image/png;base64,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)"
      ],
      "metadata": {
        "id": "GrPDyHrhuAJB"
      }
    },
    {
      "cell_type": "markdown",
      "source": [
        "### Pourquoi est-ce important?\n",
        "\n",
        "<h4>Structure de données universelle qui regroupe et hiérarchise les éléments\n",
        "d’une page web (HTML‚ CSS‚ JavaScript‚ etc.)</h4>\n",
        "\n",
        "* Nul besoin de se soucier de traiter (\"parser\") le code HTML‚ CSS‚ etc.\n",
        "* Correspond presque exactement à la présentation du document par le navigateur\n",
        "    - Les changements au DOM sont (presque) immédiatements reflétés dans la version rendue de la page\n",
        "    - Très utilisé par JavaScript pour effectuer des changements à la page‚ et par CSS pour altérer la présentation"
      ],
      "metadata": {
        "id": "Gj0c3g9yur4f"
      }
    },
    {
      "cell_type": "markdown",
      "source": [
        "### Inconvénients\n",
        "\n",
        "* Pas d'isolation entre les différentes composantes de l'arbre DOM pour un\n",
        "script donné (appartenant à la même origine)\n",
        "    - Tous les scripts d'une même origine (\"domaine\") peuvent accéder à l'arbre DOM en entier\n",
        "    - Les scripts peuvent \"polluer\" l'arbre\n",
        "    - Le DOM est très dynamique – il peut être difficile de \"suivre l'évolution\" de l'état du DOM\n",
        "* Certaines portions du DOM (e.g.‚ attributs‚ balises‚ etc.) peuvent être spécifiques à différents navigateurs (non-standard)\n",
        "* Peut ralentir grandement le rendu des pages web puisqu'il s'agit d'une\n",
        "seule structure globale (difficilement parallélisable)"
      ],
      "metadata": {
        "id": "khJJKeFFvHhH"
      }
    },
    {
      "cell_type": "markdown",
      "source": [
        "## Processus de rendu (engin WebKit – Chrome/Safari)"
      ],
      "metadata": {
        "id": "PvhPmaANv_fZ"
      }
    },
    {
      "cell_type": "markdown",
      "source": [
        "<!--img src=\"https://web-dev.imgix.net/image/T4FyVKpzu4WKF1kBNvXepbi08t52/S9TJhnMX1cu1vrYuQRqM.png?auto=format&w=850\" width=\"85%\"/-->\n",
        "\n",
        "![notebooks(2).png](data:image/png;base64,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)\n",
        "\n",
        "Source: [www.html5rocks.com](https://www.html5rocks.com/en/tutorials/internals/howbrowserswork/)"
      ],
      "metadata": {
        "id": "C0KdG65IN3WS"
      }
    },
    {
      "cell_type": "markdown",
      "source": [
        "# Activité en classe\n",
        "---------"
      ],
      "metadata": {
        "id": "7rB48eygs5R3"
      }
    },
    {
      "cell_type": "markdown",
      "source": [
        "## Visualisation du Document Object Model (DOM)\n",
        "\n",
        "* **Objectif :** comprendre la structure hiérarchique du DOM en utilisant HTML et une simple visualisation.\n",
        "  \n",
        "* Dessinez un diagramme en forme d'arbre qui représente la structure hiérarchique des éléments HTML dans la page donnée. La racine de l'arbre doit être l'élément html, et chaque branche doit représenter des éléments imbriqués.\n",
        "```html\n",
        "<!DOCTYPE html>\n",
        "<html lang=\"fr\">\n",
        "<head>\n",
        "    <title>Exercice de Visualisation du DOM</title>\n",
        "</head>\n",
        "<body>\n",
        "<header>\n",
        "    <h1>Bienvenue sur Mon Site Web</h1>\n",
        "    <nav>\n",
        "        <ul>\n",
        "            <li><a href=\"#\">Accueil</a></li>\n",
        "            <li><a href=\"#\">À Propos</a></li>\n",
        "            <li><a href=\"#\">Services</a></li>\n",
        "            <li><a href=\"#\">Contact</a></li>\n",
        "        </ul>\n",
        "    </nav>\n",
        "</header>\n",
        "<main>\n",
        "    <section>\n",
        "        <h2>À Propos de Nous</h2>\n",
        "        <p>Nous sommes une équipe de passionnés...</p>\n",
        "    </section>\n",
        "    <section>\n",
        "        <h2>Nos Services</h2>\n",
        "        <p>Nous offrons une gamme de services incluant...</p>\n",
        "    </section>\n",
        "</main>\n",
        "<footer>\n",
        "    <p>&copy; 2023 MonSiteWeb. Tous droits réservés.</p>\n",
        "</footer>\n",
        "</body>\n",
        "</html>\n",
        "```\n",
        "\n",
        "* Pour [visualiser le DOM d'une page](https://fritscher.ch/dom-css/)\n"
      ],
      "metadata": {
        "id": "hN4_jM5fwYkf"
      }
    },
    {
      "cell_type": "markdown",
      "source": [
        "\n",
        "\n",
        "\n",
        "## Solution:\n",
        "\n",
        "![Screenshot from 2023-08-27 12-48-58.png](data:image/png;base64,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)\n"
      ],
      "metadata": {
        "id": "g5vcBX3MafXi"
      }
    },
    {
      "cell_type": "markdown",
      "source": [
        "# CSS: Présentation et mise en page\n",
        "--------------------"
      ],
      "metadata": {
        "id": "LZio0IOuwwDl"
      }
    },
    {
      "cell_type": "markdown",
      "source": [
        "## Philosophie et motivation\n",
        "\n",
        "* Le CSS (*Cascading Style Sheets*), ou feuilles de style en cascade en français, est un langage de programmation utilisé pour définir la présentation et le style visuel des éléments d'une page web.\n",
        "\n",
        "* En séparant la structure du contenu de son apparence, le CSS permet de créer des mises en page attrayantes et cohérentes sur différents appareils et navigateurs.\n",
        "\n",
        "* **Les règles CSS sont appliquées en cascade**, ce qui signifie que les styles peuvent être spécifiés au niveau de l'élément, de la classe ou de l'ID, et les styles plus spécifiques prévalent sur les styles généraux.\n",
        "  - En utilisant des propriétés telles que la couleur, la typographie, les marges et les bordures, le CSS offre un contrôle précis sur l'apparence des pages web, améliorant ainsi l'expérience utilisateur et facilitant la création d'interfaces esthétiques et fonctionnelles."
      ],
      "metadata": {
        "id": "5bCwgY-nw9RM"
      }
    },
    {
      "cell_type": "markdown",
      "source": [
        "## Exemple de CSS inclut dans un document HTML"
      ],
      "metadata": {
        "id": "b5X7xTOWxvVS"
      }
    },
    {
      "cell_type": "code",
      "source": [
        "%%html\n",
        "\n",
        "<!DOCTYPE html>\n",
        "<html>\n",
        "<head>\n",
        "  <meta charset=\"UTF-8\">\n",
        "  <style>\n",
        "    .blue_div {\n",
        "      background-color: lightgreen;\n",
        "      width: 600px;\n",
        "      height: 150px;\n",
        "      padding: 50px;\n",
        "    }\n",
        "    h1 {\n",
        "      color: white;\n",
        "      font-weight: bold;\n",
        "      text-align: center;\n",
        "    }\n",
        "    p {\n",
        "      color: brown;\n",
        "      font-weight: bold;\n",
        "      text-align: center;\n",
        "    }\n",
        "  </style>\n",
        "</head>\n",
        "<body>\n",
        "  <div class=\"blue_div\">\n",
        "  <h1>Salut tout le monde!</h1>\n",
        "  <p>Ces paragraphes sont formatés avec CSS.</p>\n",
        "  <p>Ces paragraphes sont aussi formatés avec CSS.</p>\n",
        "  </div>\n",
        "</body>\n",
        "</html>"
      ],
      "metadata": {
        "id": "MOo_RpBbxdmv",
        "colab": {
          "base_uri": "https://localhost:8080/",
          "height": 267
        },
        "outputId": "d484285c-36de-462b-ecfe-7e007b91f2f6"
      },
      "execution_count": null,
      "outputs": [
        {
          "output_type": "display_data",
          "data": {
            "text/plain": [
              "<IPython.core.display.HTML object>"
            ],
            "text/html": [
              "\n",
              "<!DOCTYPE html>\n",
              "<html>\n",
              "<head>\n",
              "  <meta charset=\"UTF-8\">\n",
              "  <style>\n",
              "    .blue_div {\n",
              "      background-color: lightgreen;\n",
              "      width: 600px;\n",
              "      height: 150px;\n",
              "      padding: 50px;\n",
              "    }\n",
              "    h1 {\n",
              "      color: white;\n",
              "      font-weight: bold;\n",
              "      text-align: center;\n",
              "    }\n",
              "    p {\n",
              "      color: brown;\n",
              "      font-weight: bold;\n",
              "      text-align: center;\n",
              "    }\n",
              "  </style>\n",
              "</head>\n",
              "<body>\n",
              "  <div class=\"blue_div\">\n",
              "  <h1>Salut tout le monde!</h1>\n",
              "  <p>Ces paragraphes sont formatés avec CSS.</p>\n",
              "  <p>Ces paragraphes sont aussi formatés avec CSS.</p>\n",
              "  </div>\n",
              "</body>\n",
              "</html>\n"
            ]
          },
          "metadata": {}
        }
      ]
    },
    {
      "cell_type": "markdown",
      "source": [
        "## Exemple de document HTML avec CSS en fichier externe\n",
        "\n",
        "Fichier `external_style.css` :\n",
        "\n",
        "```css\n",
        ".blue_div {\n",
        "  background-color: lightblue;\n",
        "  width: 500px;\n",
        "  height: 300px;\n",
        "  padding: 50px;\n",
        "}\n",
        "h1 {\n",
        "  color: white;\n",
        "  font-weight: bold;\n",
        "  text-align: center;\n",
        "}\n",
        "p {\n",
        "  color: brown;\n",
        "  font-weight: bold;\n",
        "  text-align: center;\n",
        "}\n",
        "```\n",
        "\n",
        "Fichier `external_css.html` :\n",
        "\n",
        "```html\n",
        "<!DOCTYPE html>\n",
        "<html>\n",
        "<head>\n",
        "  <meta charset=\"UTF-8\">\n",
        "  <link rel=\"stylesheet\" href=\"external_style.css\">\n",
        "</head>\n",
        "<body>\n",
        "  <h1>Salut tout le monde!</h1>\n",
        "  <p>Ces paragraphes sont formatés\n",
        "    avec CSS.</p>\n",
        "</body>\n",
        "</html>\n",
        "```\n",
        "\n"
      ],
      "metadata": {
        "id": "aMyfcQm7xg8D"
      }
    },
    {
      "cell_type": "markdown",
      "source": [
        "## Syntaxe CSS\n",
        "\n",
        "* Applique des styles à l’arbre DOM de la page\n",
        "* Les sélecteurs CSS sont utilisés pour \"trouver\" les éléments HTML à\n",
        "styliser\n",
        "* Les règles CSS s’appliquent aux noeuds du DOM qui correspondent à la balise recherchée‚ et à leurs descendants (sauf si une règle plus spécifique s’applique)\n",
        "* Dans l’exemple‚ toutes les balises `h1` seront ciblées ; le style\n",
        "s’appliquera à l’ensemble des balises `h1`."
      ],
      "metadata": {
        "id": "F0GKBUhQzj0Y"
      }
    },
    {
      "cell_type": "markdown",
      "source": [
        "![notebooks(4).png](data:image/png;base64,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)"
      ],
      "metadata": {
        "id": "6OhvhVZof-jP"
      }
    },
    {
      "cell_type": "markdown",
      "source": [
        "## Sélecteurs CSS simples\n",
        "\n",
        "* Sélecteurs par classe :\n",
        "```css\n",
        ".center {\n",
        "    text-align: center;\n",
        "}\n",
        "p.large {\n",
        "    font-size: 32px;\n",
        "}\n",
        "```\n",
        "\n",
        "* Sélecteur par balise :\n",
        "```css\n",
        "strong {\n",
        "    color: darkred;\n",
        "}\n",
        "```\n",
        "\n",
        "* Sélecteur par identifiant (id) :\n",
        "```css\n",
        "#main {\n",
        "    font-weight: bold;\n",
        "}\n",
        "```\n",
        "\n",
        "* Sélecteur universel:\n",
        "```css\n",
        "  * {\n",
        "    background-color: lightgreen;\n",
        "}\n",
        "```\n",
        "\n",
        "* Regroupement de sélecteurs :\n",
        "```css\n",
        "h1, h2, h3 {\n",
        "    color: darkgoldenrod;\n",
        "    font-weight: bold;\n",
        "    font-size: 36px;\n",
        "}\n",
        "```\n",
        "\n"
      ],
      "metadata": {
        "id": "cEUrOFZj1IXi"
      }
    },
    {
      "cell_type": "markdown",
      "source": [
        "### Exemple de CSS et HTML avec des sélecteurs simples\n",
        "\n",
        "Dans cet exemple nous utilisons les magics python (`%%writefile`) pour sauvegarder le fichier `simple_selector.css` en disque et le serveur Web en Python pour le servir au code HTML que nous allons \"exécuter\" ensuite.\n",
        "\n",
        "La cellule qui suit le code HTML affiche le résultat de la visualisation."
      ],
      "metadata": {
        "id": "stnisp9y3RfK"
      }
    },
    {
      "cell_type": "code",
      "source": [
        "%%writefile /content/simple-selectors.css\n",
        "\n",
        ".center {\n",
        "    text-align: center;\n",
        "    width: 500px;\n",
        "    background-color: lightgreen;\n",
        "    padding: 50px;\n",
        "}\n",
        "\n",
        "p.large {\n",
        "    font-size: 32px;\n",
        "}\n",
        "\n",
        "strong {\n",
        "    color: darkred;\n",
        "    font-size: 42px;\n",
        "}\n",
        "\n",
        "#main {\n",
        "    font-weight: bold;\n",
        "    color: blue;\n",
        "    font-size: 24px;\n",
        "}\n",
        "\n",
        "h1, h2, h3 {\n",
        "    color: darkgoldenrod;\n",
        "    font-weight: bold;\n",
        "    font-size: 36px;\n",
        "}"
      ],
      "metadata": {
        "id": "-zy6dKzP31hN",
        "colab": {
          "base_uri": "https://localhost:8080/"
        },
        "outputId": "80f3fa80-5bbf-4b6e-a6f1-49d4ba39cdc7"
      },
      "execution_count": null,
      "outputs": [
        {
          "output_type": "stream",
          "name": "stdout",
          "text": [
            "Overwriting /content/simple-selectors.css\n"
          ]
        }
      ]
    },
    {
      "cell_type": "code",
      "source": [
        "!ls -l"
      ],
      "metadata": {
        "colab": {
          "base_uri": "https://localhost:8080/"
        },
        "id": "JCR0yMER22-c",
        "outputId": "562518b9-5194-4c1e-8559-c6fc02999675"
      },
      "execution_count": null,
      "outputs": [
        {
          "output_type": "stream",
          "name": "stdout",
          "text": [
            "total 8\n",
            "drwxr-xr-x 1 root root 4096 Sep  8 13:24 sample_data\n",
            "-rw-r--r-- 1 root root  353 Sep 12 00:47 simple-selectors.css\n"
          ]
        }
      ]
    },
    {
      "cell_type": "code",
      "source": [
        "!cat simple-selectors.css"
      ],
      "metadata": {
        "id": "QCRzMHxL28y_"
      },
      "execution_count": null,
      "outputs": []
    },
    {
      "cell_type": "code",
      "source": [
        "%%html\n",
        "\n",
        "<!DOCTYPE html>\n",
        "<html lang=\"fr\">\n",
        "<head>\n",
        "    <meta charset=\"UTF-8\">\n",
        "    <title>Document qui utilise des sélecteurs simples</title>\n",
        "    <link rel=\"stylesheet\" href=\"https://localhost:8000/simple-selectors.css\">\n",
        "</head>\n",
        "<body>\n",
        "  <div class=\"center\">\n",
        "    <h1>Un titre pour cette section</h1>\n",
        "    <p class=\"large\">La taille de ce premier paragraph est <strong>grande.</strong></p>\n",
        "    <p>La taille de celui-ci est plutot normale.</p>\n",
        "    <p id=\"main\">Celui-ci contient des caractères en gras et bleus.</p>\n",
        "  </div>\n",
        "</body>\n",
        "</html>"
      ],
      "metadata": {
        "id": "K6fqshQo3ZdD",
        "colab": {
          "resources": {
            "http://localhost:8000/simple-selectors.css": {
              "data": "Ci5jZW50ZXIgewogICAgdGV4dC1hbGlnbjogY2VudGVyOwogICAgd2lkdGg6IDUwMHB4OwogICAgYmFja2dyb3VuZC1jb2xvcjogbGlnaHRncmVlbjsKICAgIHBhZGRpbmc6IDUwcHg7Cn0KCnAubGFyZ2UgewogICAgZm9udC1zaXplOiAzMnB4Owp9CgpzdHJvbmcgewogICAgY29sb3I6IGRhcmtyZWQ7CiAgICBmb250LXNpemU6IDQycHg7Cn0KCiNtYWluIHsKICAgIGZvbnQtd2VpZ2h0OiBib2xkOwogICAgY29sb3I6IGJsdWU7CiAgICBmb250LXNpemU6IDI0cHg7Cn0KCmgxLCBoMiwgaDMgewogICAgY29sb3I6IGRhcmtnb2xkZW5yb2Q7CiAgICBmb250LXdlaWdodDogYm9sZDsKICAgIGZvbnQtc2l6ZTogMzZweDsKfQo=",
              "ok": true,
              "headers": [
                [
                  "content-type",
                  "text/css"
                ]
              ],
              "status": 200,
              "status_text": "OK"
            }
          },
          "base_uri": "https://localhost:8080/",
          "height": 423
        },
        "outputId": "e425d24f-ddc2-48c5-ed42-570ff493939d"
      },
      "execution_count": null,
      "outputs": [
        {
          "output_type": "display_data",
          "data": {
            "text/plain": [
              "<IPython.core.display.HTML object>"
            ],
            "text/html": [
              "\n",
              "<!DOCTYPE html>\n",
              "<html lang=\"fr\">\n",
              "<head>\n",
              "    <meta charset=\"UTF-8\">\n",
              "    <title>Document qui utilise des sélecteurs simples</title>\n",
              "    <link rel=\"stylesheet\" href=\"https://localhost:8000/simple-selectors.css\">\n",
              "</head>\n",
              "<body>\n",
              "  <div class=\"center\">\n",
              "    <h1>Un titre pour cette section</h1>\n",
              "    <p class=\"large\">La taille de ce premier paragraph est <strong>grande.</strong></p>\n",
              "    <p>La taille de celui-ci est plutot normale.</p>\n",
              "    <p id=\"main\">Celui-ci contient des caractères en gras et bleus.</p>\n",
              "  </div>\n",
              "</body>\n",
              "</html>\n"
            ]
          },
          "metadata": {}
        }
      ]
    },
    {
      "cell_type": "markdown",
      "source": [
        "## Combinateurs CSS\n",
        "\n",
        "<h4>Contient plusieurs sélecteurs simples parmi lesquels il peut avoir un\n",
        "combinateur.</h4>\n",
        "\n",
        "* Sélecteur descendant (espace)\n",
        "    - Exemple: `div p`\n",
        "* Sélecteur enfant (`>`)\n",
        "    - Exemple: `div > span`\n",
        "* Sélecteur de frère adjacent (`+`)\n",
        "    - Exemple: div + p\n",
        "* Sélecteur général de frères ( `∼` )\n",
        "    - Exemple: `div ∼ p`"
      ],
      "metadata": {
        "id": "r8JZ9saqFS3M"
      }
    },
    {
      "cell_type": "markdown",
      "source": [
        "### Exemple de HTML et CSS avec combinateurs\n",
        "\n",
        "Nous utilisons encore une fois les magics python pour sauvegarder `combined.css` sur disque et le serveur python pour le fournir au code HTML à exécuter ensuite."
      ],
      "metadata": {
        "id": "vmfftmElJeTO"
      }
    },
    {
      "cell_type": "code",
      "source": [
        "%%writefile /content/combined.css\n",
        "\n",
        ".frame {\n",
        "    width: 500px;\n",
        "    padding: 50px;\n",
        "}\n",
        "\n",
        "div span {\n",
        "    background-color: lightblue;\n",
        "}\n",
        "\n",
        "div span > p {\n",
        "    background-color: red;\n",
        "    color: white;\n",
        "}\n",
        "\n",
        "span + p {\n",
        "    font-weight: bold;\n",
        "}\n",
        "\n",
        "div ~ p {\n",
        "    font-weight: bold;\n",
        "    background-color: lightgrey;\n",
        "    color: blue;\n",
        "    width: 500px;\n",
        "}"
      ],
      "metadata": {
        "id": "8VUglwuZKMxb",
        "colab": {
          "base_uri": "https://localhost:8080/"
        },
        "outputId": "a639cd1c-9896-4f01-8822-7d03cec0fae8"
      },
      "execution_count": null,
      "outputs": [
        {
          "output_type": "stream",
          "name": "stdout",
          "text": [
            "Writing /content/combined.css\n"
          ]
        }
      ]
    },
    {
      "cell_type": "code",
      "source": [
        "%%html\n",
        "\n",
        "<!DOCTYPE html>\n",
        "<html lang=\"fr\">\n",
        "<head>\n",
        "  <meta charset=\"UTF-8\">\n",
        "  <title>Ce document utilise des combinateurs CSS </title>\n",
        "  <link rel=\"stylesheet\" href=\"https://localhost:8000/combined.css\">\n",
        "</head>\n",
        "<body>\n",
        "  <div class=\"frame\">\n",
        "    <span>Paragraphe avec un fond bleu clair.</span>\n",
        "    <span><p>Paragraphe blanc avec un fond rouge.</p></span>\n",
        "    <p>Paragraphe avec des caractères en gras.</p>\n",
        "  </div>\n",
        "  <p>Moi, je suis frère du div, donc j'ai un fond\n",
        "    gris et des caractères blues.</p>\n",
        "  <p>Et moi aussi!</p>\n",
        "</body>\n",
        "</html>"
      ],
      "metadata": {
        "id": "xDPB6qltKWVx",
        "colab": {
          "resources": {
            "http://localhost:8000/combined.css": {
              "data": "Ci5mcmFtZSB7CiAgICB3aWR0aDogNTAwcHg7CiAgICBwYWRkaW5nOiA1MHB4Owp9CgpkaXYgc3BhbiB7CiAgICBiYWNrZ3JvdW5kLWNvbG9yOiBsaWdodGJsdWU7Cn0KCmRpdiBzcGFuID4gcCB7CiAgICBiYWNrZ3JvdW5kLWNvbG9yOiByZWQ7CiAgICBjb2xvcjogd2hpdGU7Cn0KCnNwYW4gKyBwIHsKICAgIGZvbnQtd2VpZ2h0OiBib2xkOwp9CgpkaXYgfiBwIHsKICAgIGZvbnQtd2VpZ2h0OiBib2xkOwogICAgYmFja2dyb3VuZC1jb2xvcjogbGlnaHRncmV5OwogICAgY29sb3I6IGJsdWU7CiAgICB3aWR0aDogNTAwcHg7Cn0K",
              "ok": true,
              "headers": [
                [
                  "content-type",
                  "text/css"
                ]
              ],
              "status": 200,
              "status_text": "OK"
            }
          },
          "base_uri": "https://localhost:8080/",
          "height": 257
        },
        "outputId": "f4948bd4-1e53-4fb6-e0df-487b1c42cfd6"
      },
      "execution_count": null,
      "outputs": [
        {
          "output_type": "display_data",
          "data": {
            "text/plain": [
              "<IPython.core.display.HTML object>"
            ],
            "text/html": [
              "\n",
              "<!DOCTYPE html>\n",
              "<html lang=\"fr\">\n",
              "<head>\n",
              "  <meta charset=\"UTF-8\">\n",
              "  <title>Ce document utilise des combinateurs CSS </title>\n",
              "  <link rel=\"stylesheet\" href=\"https://localhost:8000/combined.css\">\n",
              "</head>\n",
              "<body>\n",
              "  <div class=\"frame\">\n",
              "    <span>Paragraphe avec un fond bleu clair.</span>\n",
              "    <span><p>Paragraphe blanc avec un fond rouge.</p></span>\n",
              "    <p>Paragraphe avec des caractères en gras.</p>\n",
              "  </div>\n",
              "  <p>Moi, je suis frère du div, donc j'ai un fond\n",
              "    gris et des caractères blues.</p>\n",
              "  <p>Et moi aussi!</p>\n",
              "</body>\n",
              "</html>\n"
            ]
          },
          "metadata": {}
        }
      ]
    },
    {
      "cell_type": "markdown",
      "source": [
        "## Pseudo-sélecteurs de classes CSS\n",
        "\n",
        "Les sélecteurs CSS peuvent également impliquer des actions externes au\n",
        "DOM (sélecteurs pseudo-classes).\n",
        "\n",
        "Exemples:\n",
        "\n",
        "* `visited`: page déjà visitée dans l’historique du navigateur\n",
        "* `hover`: l’utilisateur a placé le curseur de la souris sur un lien\n",
        "* `checked`: une case à cocher a été activée\n",
        "* `ﬁrst-child`: tout élément E qui est le premier enfant de son parent"
      ],
      "metadata": {
        "id": "ztsm2XSSKeTV"
      }
    },
    {
      "cell_type": "markdown",
      "source": [
        "### Exemple de CSS avec des pseudo-sélecteurs et un HTML\n",
        "\n",
        "Comme précédemment, nous utilisons les magics python pour enregistrer `pseudo_selectors.css` sur disque et le serveur python pour le fournir au code HTML à exécuter ensuite."
      ],
      "metadata": {
        "id": "8TcZwce6LReW"
      }
    },
    {
      "cell_type": "code",
      "source": [
        "%%writefile /content/pseudo-selectors.css\n",
        "\n",
        "a:link {\n",
        "    color: red;\n",
        "}\n",
        "\n",
        "a:visited {\n",
        "    color: green;\n",
        "}\n",
        "\n",
        "a:hover {\n",
        "    color: darkred;\n",
        "}\n",
        "\n",
        "a:active {\n",
        "    color: blue;\n",
        "}\n",
        "\n",
        "li:first-child {\n",
        "    font-weight: bolder;\n",
        "}\n",
        "\n",
        "p {\n",
        "    display: none;\n",
        "}\n",
        "\n",
        "span:hover p {\n",
        "    display: block;\n",
        "}"
      ],
      "metadata": {
        "id": "2eMvd_JgLqth",
        "colab": {
          "base_uri": "https://localhost:8080/"
        },
        "outputId": "0a130987-2463-409f-ecca-010197a9b051"
      },
      "execution_count": null,
      "outputs": [
        {
          "output_type": "stream",
          "name": "stdout",
          "text": [
            "Writing /content/pseudo-selectors.css\n"
          ]
        }
      ]
    },
    {
      "cell_type": "code",
      "source": [
        "%%html\n",
        "\n",
        "<!DOCTYPE html>\n",
        "<html lang=\"fr\">\n",
        "<head>\n",
        "  <meta charset=\"UTF-8\">\n",
        "  <title>Ce document utilise des pseudo-sélecteurs CSS</title>\n",
        "  <link rel=\"stylesheet\" href=\"https://localhost:8000/pseudo-selectors.css\" type=\"text/css\">\n",
        "</head>\n",
        "<body>\n",
        "  <nav>\n",
        "    <ul>\n",
        "      <li><a href=\"https://en.wikipedia.org/wiki/Google\">Info sur Google</a></li>\n",
        "      <li><a href=\"https://en.wikipedia.org/wiki/Facebook\">Info sur Facebook</a></li>\n",
        "      <li><a href=\"https://en.wikipedia.org/wiki/Instagram\">Info sur Instagram</a></li>\n",
        "      <li><span>Voir le texte caché<p>Texte caché...</p></span></li>\n",
        "    </ul>\n",
        "  </nav>\n",
        "</body>\n",
        "</html>"
      ],
      "metadata": {
        "id": "K1V9pifUL07L",
        "colab": {
          "resources": {
            "http://localhost:8000/pseudo-selectors.css": {
              "data": "CmE6bGluayB7CiAgICBjb2xvcjogcmVkOwp9CgphOnZpc2l0ZWQgewogICAgY29sb3I6IGdyZWVuOwp9CgphOmhvdmVyIHsKICAgIGNvbG9yOiBkYXJrcmVkOwp9CgphOmFjdGl2ZSB7CiAgICBjb2xvcjogYmx1ZTsKfQoKbGk6Zmlyc3QtY2hpbGQgewogICAgZm9udC13ZWlnaHQ6IGJvbGRlcjsKfQoKcCB7CiAgICBkaXNwbGF5OiBub25lOwp9CgpzcGFuOmhvdmVyIHAgewogICAgZGlzcGxheTogYmxvY2s7Cn0K",
              "ok": true,
              "headers": [
                [
                  "content-type",
                  "text/css"
                ]
              ],
              "status": 200,
              "status_text": "OK"
            }
          },
          "base_uri": "https://localhost:8080/",
          "height": 102
        },
        "outputId": "b00b3d35-6744-42c9-bbb6-9076dc86121b"
      },
      "execution_count": null,
      "outputs": [
        {
          "output_type": "display_data",
          "data": {
            "text/plain": [
              "<IPython.core.display.HTML object>"
            ],
            "text/html": [
              "\n",
              "<!DOCTYPE html>\n",
              "<html lang=\"fr\">\n",
              "<head>\n",
              "  <meta charset=\"UTF-8\">\n",
              "  <title>Ce document utilise des pseudo-sélecteurs CSS</title>\n",
              "  <link rel=\"stylesheet\" href=\"https://localhost:8000/pseudo-selectors.css\" type=\"text/css\">\n",
              "</head>\n",
              "<body>\n",
              "  <nav>\n",
              "    <ul>\n",
              "      <li><a href=\"https://en.wikipedia.org/wiki/Google\">Info sur Google</a></li>\n",
              "      <li><a href=\"https://en.wikipedia.org/wiki/Facebook\">Info sur Facebook</a></li>\n",
              "      <li><a href=\"https://en.wikipedia.org/wiki/Instagram\">Info sur Instagram</a></li>\n",
              "      <li><span>Voir le texte caché<p>Texte caché...</p></span></li>\n",
              "    </ul>\n",
              "  </nav>\n",
              "</body>\n",
              "</html>\n"
            ]
          },
          "metadata": {}
        }
      ]
    },
    {
      "cell_type": "markdown",
      "source": [
        "## Modèle de boîte CSS (Box Model)\n",
        "\n",
        "![css_box_model.png](data:image/png;base64,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)\n",
        "\n",
        "* **contenu** : le contenu de la boîte‚ où le texte et les images apparaissent\n",
        "* **padding** : remplissage transparent autour du contenu\n",
        "* **border** : bordure qui contourne le remplissage et le contenu\n",
        "* **margin** : zone transparente à l’extérieur de la bordure"
      ],
      "metadata": {
        "id": "1YsymDbYL9z4"
      }
    },
    {
      "cell_type": "markdown",
      "source": [
        "## Exemple de HTML et CSS"
      ],
      "metadata": {
        "id": "PLFuZ45ONGkY"
      }
    },
    {
      "cell_type": "code",
      "source": [
        "%%writefile /content/boxmodel.css\n",
        "\n",
        ".box {\n",
        "    width: 350px;\n",
        "    border: darkblue solid 20px;\n",
        "    padding: 30px;\n",
        "    margin: 15px;\n",
        "}\n",
        "\n",
        "p {\n",
        "    font-size: 24px;\n",
        "}"
      ],
      "metadata": {
        "id": "-JoCQVV7NfIv",
        "colab": {
          "base_uri": "https://localhost:8080/"
        },
        "outputId": "f518cd9e-19ec-441e-8433-3f05b15eb8d7"
      },
      "execution_count": null,
      "outputs": [
        {
          "output_type": "stream",
          "name": "stdout",
          "text": [
            "Writing /content/boxmodel.css\n"
          ]
        }
      ]
    },
    {
      "cell_type": "code",
      "source": [
        "%%html\n",
        "\n",
        "<!DOCTYPE html>\n",
        "<html lang=\"fr\">\n",
        "<head>\n",
        "  <meta charset=\"UTF-8\">\n",
        "  <title>Demonstration du modèle de boites</title>\n",
        "  <link rel=\"stylesheet\" href=\"https://localhost:8000/boxmodel.css\" type=\"text/css\">\n",
        "</head>\n",
        "<body>\n",
        "  <div class=\"box\">\n",
        "    <p> Cet élément a une largeur de 350 px, un remplissage de 30 px,\n",
        "      une bordure solide bleue d'une largeur de 20 px et enfin\n",
        "      une marge de 15 px.\n",
        "    </p>\n",
        "  </div>\n",
        "</body>\n",
        "</html>"
      ],
      "metadata": {
        "id": "6eN-2uHsNnCU",
        "colab": {
          "resources": {
            "http://localhost:8000/boxmodel.css": {
              "data": "Ci5ib3ggewogICAgd2lkdGg6IDM1MHB4OwogICAgYm9yZGVyOiBkYXJrYmx1ZSBzb2xpZCAyMHB4OwogICAgcGFkZGluZzogMzBweDsKICAgIG1hcmdpbjogMTVweDsKfQoKcCB7CiAgICBmb250LXNpemU6IDI0cHg7Cn0K",
              "ok": true,
              "headers": [
                [
                  "content-type",
                  "text/css"
                ]
              ],
              "status": 200,
              "status_text": "OK"
            }
          },
          "base_uri": "https://localhost:8080/",
          "height": 338
        },
        "outputId": "4865b7b1-7542-43ae-a2ca-315216fa5043"
      },
      "execution_count": null,
      "outputs": [
        {
          "output_type": "display_data",
          "data": {
            "text/plain": [
              "<IPython.core.display.HTML object>"
            ],
            "text/html": [
              "\n",
              "<!DOCTYPE html>\n",
              "<html lang=\"fr\">\n",
              "<head>\n",
              "  <meta charset=\"UTF-8\">\n",
              "  <title>Demonstration du modèle de boites</title>\n",
              "  <link rel=\"stylesheet\" href=\"https://localhost:8000/boxmodel.css\" type=\"text/css\">\n",
              "</head>\n",
              "<body>\n",
              "  <div class=\"box\">\n",
              "    <p> Cet élément a une largeur de 350 px, un remplissage de 30 px,\n",
              "      une bordure solide bleue d'une largeur de 20 px et enfin\n",
              "      une marge de 15 px.\n",
              "    </p>\n",
              "  </div>\n",
              "</body>\n",
              "</html>\n"
            ]
          },
          "metadata": {}
        }
      ]
    },
    {
      "cell_type": "markdown",
      "source": [
        "## Modèles de mise en page (*layout models*)\n",
        "\n",
        "* Il existe plusieurs types de mises en page en CSS qui permettent de structurer et de positionner les éléments sur une page web de différentes manières.\n",
        "  - Le **positionnement statique** est le comportement par défaut, où les éléments sont affichés dans l'ordre où ils apparaissent dans le flux HTML.\n",
        "  - Le **positionnement relatif** permet aux éléments de conserver leur position d'origine dans le flux, mais de les déplacer en utilisant des propriétés comme `top` et `left`.\n",
        "  - Le **positionnement absolu** permet de retirer complètement un élément du flux, lui permettant d'être positionné avec précision par rapport à son conteneur ou à la fenêtre du navigateur.\n",
        "\n",
        "\n",
        "* Il existe également des modèles de mise en page tels que **Flexbox** et **Grid Layout**, qui offrent des options plus puissantes pour créer des dispositions complexes.\n",
        "  - **Flexbox** facilite la création de mises en page flexibles et adaptables.\n",
        "  - **Grid Layout** permet de diviser une page en une grille pour un placement précis des éléments.\n",
        "\n",
        "### Exemple de mise en page Flexbox"
      ],
      "metadata": {
        "id": "nk5Kb_OppAyF"
      }
    },
    {
      "cell_type": "code",
      "source": [
        "%%writefile /content/flex_layout.css\n",
        "\n",
        "body {\n",
        "    margin: 0;\n",
        "    padding: 0;\n",
        "    font-family: Arial, sans-serif;\n",
        "}\n",
        "\n",
        ".container {\n",
        "    display: flex;\n",
        "    justify-content: space-between;\n",
        "}\n",
        "\n",
        ".box {\n",
        "    flex: 1;\n",
        "    padding: 20px;\n",
        "    border: 1px solid #ccc;\n",
        "    background-color: #f2f2f2;\n",
        "    margin: 10px;\n",
        "}"
      ],
      "metadata": {
        "id": "3AERI95pr6EW",
        "colab": {
          "base_uri": "https://localhost:8080/"
        },
        "outputId": "fbaf59f0-de3a-4ff2-f9f2-c2f61abd974c"
      },
      "execution_count": null,
      "outputs": [
        {
          "output_type": "stream",
          "name": "stdout",
          "text": [
            "Writing /content/flex_layout.css\n"
          ]
        }
      ]
    },
    {
      "cell_type": "markdown",
      "source": [
        "* Le fichier CSS applique le modèle de mise en page Flexbox au `.container`. La propriété `display: flex;` transforme le conteneur en un conteneur flex, et `justify-content: space-between;` répartit uniformément les boîtes le long de l'axe principal avec de l'espace entre elles.\n",
        "\n",
        "* Les éléments `.box` reçoivent `flex: 1;`, ce qui signifie qu'ils partageront l'espace disponible de manière égale, créant ainsi une mise en page flexible."
      ],
      "metadata": {
        "id": "j58jNzYNsuk1"
      }
    },
    {
      "cell_type": "code",
      "source": [
        "%%html\n",
        "\n",
        "<!DOCTYPE html>\n",
        "<html lang=\"fr\">\n",
        "<head>\n",
        "    <meta charset=\"UTF-8\">\n",
        "    <title>Exemple de Mise en Page Flexbox</title>\n",
        "    <link rel=\"stylesheet\" type=\"text/css\" href=\"https://localhost:8000/flex_layout.css\">\n",
        "</head>\n",
        "<body>\n",
        "<div class=\"container\">\n",
        "    <div class=\"box\">Boîte 1</div>\n",
        "    <div class=\"box\">Boîte 2</div>\n",
        "    <div class=\"box\">Boîte 3</div>\n",
        "</div>\n",
        "</body>\n",
        "</html>"
      ],
      "metadata": {
        "id": "DLZ5XOqxsQU8",
        "colab": {
          "resources": {
            "http://localhost:8000/flex_layout.css": {
              "data": "CmJvZHkgewogICAgbWFyZ2luOiAwOwogICAgcGFkZGluZzogMDsKICAgIGZvbnQtZmFtaWx5OiBBcmlhbCwgc2Fucy1zZXJpZjsKfQoKLmNvbnRhaW5lciB7CiAgICBkaXNwbGF5OiBmbGV4OwogICAganVzdGlmeS1jb250ZW50OiBzcGFjZS1iZXR3ZWVuOwp9CgouYm94IHsKICAgIGZsZXg6IDE7CiAgICBwYWRkaW5nOiAyMHB4OwogICAgYm9yZGVyOiAxcHggc29saWQgI2NjYzsKICAgIGJhY2tncm91bmQtY29sb3I6ICNmMmYyZjI7CiAgICBtYXJnaW46IDEwcHg7Cn0K",
              "ok": true,
              "headers": [
                [
                  "content-type",
                  "text/css"
                ]
              ],
              "status": 200,
              "status_text": "OK"
            }
          },
          "base_uri": "https://localhost:8080/",
          "height": 79
        },
        "outputId": "7735fd28-eccd-4372-d609-a595f883d05a"
      },
      "execution_count": null,
      "outputs": [
        {
          "output_type": "display_data",
          "data": {
            "text/plain": [
              "<IPython.core.display.HTML object>"
            ],
            "text/html": [
              "\n",
              "<!DOCTYPE html>\n",
              "<html lang=\"fr\">\n",
              "<head>\n",
              "    <meta charset=\"UTF-8\">\n",
              "    <title>Exemple de Mise en Page Flexbox</title>\n",
              "    <link rel=\"stylesheet\" type=\"text/css\" href=\"https://localhost:8000/flex_layout.css\">\n",
              "</head>\n",
              "<body>\n",
              "<div class=\"container\">\n",
              "    <div class=\"box\">Boîte 1</div>\n",
              "    <div class=\"box\">Boîte 2</div>\n",
              "    <div class=\"box\">Boîte 3</div>\n",
              "</div>\n",
              "</body>\n",
              "</html>\n"
            ]
          },
          "metadata": {}
        }
      ]
    },
    {
      "cell_type": "markdown",
      "source": [
        "## Exemple de mise en page Grid"
      ],
      "metadata": {
        "id": "e1WsfJ5yt928"
      }
    },
    {
      "cell_type": "code",
      "source": [
        "%%writefile /content/grid_layout.css\n",
        "\n",
        "body {\n",
        "    margin: 0;\n",
        "    padding: 0;\n",
        "    font-family: Arial, sans-serif;\n",
        "}\n",
        "\n",
        ".container {\n",
        "    display: grid;\n",
        "    grid-template-columns: repeat(3, 1fr);\n",
        "    grid-gap: 10px;\n",
        "}\n",
        "\n",
        ".box {\n",
        "    padding: 20px;\n",
        "    border: 1px solid #ccc;\n",
        "    background-color: #f2f2f2;\n",
        "}"
      ],
      "metadata": {
        "id": "t43i3ixSuDJV",
        "colab": {
          "base_uri": "https://localhost:8080/"
        },
        "outputId": "68ad5045-ce9c-492f-a0bc-afa051e5706f"
      },
      "execution_count": null,
      "outputs": [
        {
          "output_type": "stream",
          "name": "stdout",
          "text": [
            "Writing /content/grid_layout.css\n"
          ]
        }
      ]
    },
    {
      "cell_type": "markdown",
      "source": [
        "* Le fichier CSS applique le modèle de mise en page Grid au `.container`. La propriété `display: grid;` transforme le conteneur en une grille, et `grid-template-columns: repeat(3, 1fr);` définit trois colonnes égales.\n",
        "  - La syntaxe de [grid-template-columns](https://developer.mozilla.org/fr/docs/Web/CSS/grid-template-columns)\n",
        "* La propriété `grid-gap: 10px;` ajoute un espace de 10 pixels entre les boîtes dans la grille."
      ],
      "metadata": {
        "id": "jkmt0MYquTeM"
      }
    },
    {
      "cell_type": "code",
      "source": [
        "%%html\n",
        "\n",
        "<!DOCTYPE html>\n",
        "<html lang=\"fr\">\n",
        "<head>\n",
        "    <meta charset=\"UTF-8\">\n",
        "    <title>Exemple de Mise en Page Grid</title>\n",
        "    <link rel=\"stylesheet\" type=\"text/css\" href=\"https://localhost:8000/grid_layout.css\">\n",
        "</head>\n",
        "<body>\n",
        "<div class=\"container\">\n",
        "    <div class=\"box\">Boîte 1</div>\n",
        "    <div class=\"box\">Boîte 2</div>\n",
        "    <div class=\"box\">Boîte 3</div>\n",
        "</div>\n",
        "</body>\n",
        "</html>"
      ],
      "metadata": {
        "id": "FrK6X0reuKA4",
        "colab": {
          "resources": {
            "http://localhost:8000/grid_layout.css": {
              "data": "CmJvZHkgewogICAgbWFyZ2luOiAwOwogICAgcGFkZGluZzogMDsKICAgIGZvbnQtZmFtaWx5OiBBcmlhbCwgc2Fucy1zZXJpZjsKfQoKLmNvbnRhaW5lciB7CiAgICBkaXNwbGF5OiBncmlkOwogICAgZ3JpZC10ZW1wbGF0ZS1jb2x1bW5zOiByZXBlYXQoMywgMWZyKTsKICAgIGdyaWQtZ2FwOiAxMHB4Owp9CgouYm94IHsKICAgIHBhZGRpbmc6IDIwcHg7CiAgICBib3JkZXI6IDFweCBzb2xpZCAjY2NjOwogICAgYmFja2dyb3VuZC1jb2xvcjogI2YyZjJmMjsKfQo=",
              "ok": true,
              "headers": [
                [
                  "content-type",
                  "text/css"
                ]
              ],
              "status": 200,
              "status_text": "OK"
            }
          },
          "base_uri": "https://localhost:8080/",
          "height": 59
        },
        "outputId": "2dc2ca91-c02b-4e58-ee18-38e1bfcd723c"
      },
      "execution_count": null,
      "outputs": [
        {
          "output_type": "display_data",
          "data": {
            "text/plain": [
              "<IPython.core.display.HTML object>"
            ],
            "text/html": [
              "\n",
              "<!DOCTYPE html>\n",
              "<html lang=\"fr\">\n",
              "<head>\n",
              "    <meta charset=\"UTF-8\">\n",
              "    <title>Exemple de Mise en Page Grid</title>\n",
              "    <link rel=\"stylesheet\" type=\"text/css\" href=\"https://localhost:8000/grid_layout.css\">\n",
              "</head>\n",
              "<body>\n",
              "<div class=\"container\">\n",
              "    <div class=\"box\">Boîte 1</div>\n",
              "    <div class=\"box\">Boîte 2</div>\n",
              "    <div class=\"box\">Boîte 3</div>\n",
              "</div>\n",
              "</body>\n",
              "</html>\n"
            ]
          },
          "metadata": {}
        }
      ]
    },
    {
      "cell_type": "markdown",
      "source": [
        "* Mise en page Grid offerte par quelques cadriciels:\n",
        "  * [Materialize - Grid](https://materializecss.com/grid.html)\n",
        "  * [Bootstrap - Grid System](https://getbootstrap.com/docs/5.0/layout/grid/)"
      ],
      "metadata": {
        "id": "5rJRFQLvvSEB"
      }
    },
    {
      "cell_type": "markdown",
      "source": [
        "# Activités en classe\n",
        "-----\n",
        "\n",
        "* Vous pouvez utiliser [codepen.io](https://codepen.io) pour tester votre code pour les exercices de cette section.\n",
        "* D'autres sites, souvent appelés *playgrounds*, sont aussi disponibles:\n",
        "  - https://jsbin.com/\n",
        "  - https://jsfiddle.net/\n",
        "  - https://cssdeck.com/\n",
        "  - https://codesandbox.io/\n"
      ],
      "metadata": {
        "id": "Syj084TwsYU3"
      }
    },
    {
      "cell_type": "markdown",
      "source": [
        "## Menu CSS - 1\n",
        "\n",
        "* Quel est l’effet de la spécification CSS suivante sur le code HTML qui suit?\n",
        "```css\n",
        "body { font-family: Arial, sans-serif; }\n",
        "h1 { color: dimgrey; margin-bottom: 15px; }\n",
        ".nav { list-style-type: none; padding: 0px; }\n",
        ".nav li { display: inline-block; }\n",
        ".nav li a { color: white; background-color: grey;\n",
        "    padding: 10px; text-decoration: none; }\n",
        ".nav li a.featured { background-color: darkred; }\n",
        "```\n",
        "```html\n",
        "<!DOCTYPE html>\n",
        "<html lang=\"fr\">\n",
        "<head>\n",
        "  <meta charset=\"UTF-8\">\n",
        "  <title>Activité en classe</title>\n",
        "  <link rel=\"stylesheet\" href=\"styles/menu_css1.css\" type=\"text/css\">\n",
        "</head>\n",
        "<body>\n",
        "<div>\n",
        "  <h1 id=\"page-title\">Faites-le vous-même: Atelliers collectifs</h1>\n",
        "  <ul id=\"main-nav\" class=\"nav\">\n",
        "    <li><a href=\"/\">Page principale</a></li>\n",
        "    <li><a href=\"/bois\">Atelliers bois</a></li>\n",
        "    <li><a href=\"/couture\">Atelliers couture</a></li>\n",
        "    <li><a href=\"/renovation\">Atelliers renovation</a></li>\n",
        "  </ul>\n",
        "</div>\n",
        "</body>\n",
        "</html>\n",
        "```\n",
        "\n",
        "Pour tester:\n",
        "\n"
      ],
      "metadata": {
        "id": "oKfY9zerNyLP"
      }
    },
    {
      "cell_type": "code",
      "source": [
        "%%writefile menu.css\n",
        "\n",
        "body { font-family: Helvetica; }\n",
        "h1 { color: dimgrey; margin-bottom: 15px; }\n",
        ".nav { list-style-type: none; padding: 0px; }\n",
        ".nav li { display: inline-block; }\n",
        ".nav li a { color: white; background-color: grey;\n",
        "    padding: 5px; text-decoration: none; }\n",
        ".nav li a.featured { background-color: darkred; }"
      ],
      "metadata": {
        "id": "fbvGRFL0HzPd",
        "colab": {
          "base_uri": "https://localhost:8080/"
        },
        "outputId": "4ac05758-5a6e-4742-fffb-ed519aa0f3fe"
      },
      "execution_count": null,
      "outputs": [
        {
          "output_type": "stream",
          "name": "stdout",
          "text": [
            "Writing menu.css\n"
          ]
        }
      ]
    },
    {
      "cell_type": "code",
      "source": [
        "%%html\n",
        "\n",
        "<!DOCTYPE html>\n",
        "<html lang=\"fr\">\n",
        "<head>\n",
        "  <meta charset=\"UTF-8\">\n",
        "  <title>Activité en classe</title>\n",
        "  <link rel=\"stylesheet\" href=\"http://localhost:8000/menu.css\" type=\"text/css\">\n",
        "</head>\n",
        "<body>\n",
        "  <div>\n",
        "  <h1 id=\"page-title\">Faites-le vous-même: Atelliers collectifs</h1>\n",
        "    <ul id=\"main-nav\" class=\"nav\">\n",
        "      <li><a href=\"/\">Page Principale</a></li>\n",
        "      <li><a href=\"/bois\">Atelliers bois</a></li>\n",
        "      <li><a href=\"/couture\">Atelliers couture</a></li>\n",
        "      <li><a href=\"/renovation\">Atelliers renovation</a></li>\n",
        "    </ul>\n",
        "  </div>\n",
        "</body>\n",
        "</html>"
      ],
      "metadata": {
        "id": "TrRwuD77IKM8",
        "colab": {
          "resources": {
            "http://localhost:8000/menu.css": {
              "data": "CmJvZHkgeyBmb250LWZhbWlseTogSGVsdmV0aWNhOyB9CmgxIHsgY29sb3I6IGRpbWdyZXk7IG1hcmdpbi1ib3R0b206IDE1cHg7IH0KLm5hdiB7IGxpc3Qtc3R5bGUtdHlwZTogbm9uZTsgcGFkZGluZzogMHB4OyB9Ci5uYXYgbGkgeyBkaXNwbGF5OiBpbmxpbmUtYmxvY2s7IH0KLm5hdiBsaSBhIHsgY29sb3I6IHdoaXRlOyBiYWNrZ3JvdW5kLWNvbG9yOiBncmV5OwogICAgcGFkZGluZzogNXB4OyB0ZXh0LWRlY29yYXRpb246IG5vbmU7IH0KLm5hdiBsaSBhLmZlYXR1cmVkIHsgYmFja2dyb3VuZC1jb2xvcjogZGFya3JlZDsgfQo=",
              "ok": true,
              "headers": [
                [
                  "content-type",
                  "text/css"
                ]
              ],
              "status": 200,
              "status_text": "OK"
            }
          },
          "base_uri": "https://localhost:8080/",
          "height": 109
        },
        "outputId": "bc2d2bd5-26b8-4353-d982-6f94a79ce04e"
      },
      "execution_count": null,
      "outputs": [
        {
          "output_type": "display_data",
          "data": {
            "text/plain": [
              "<IPython.core.display.HTML object>"
            ],
            "text/html": [
              "\n",
              "<!DOCTYPE html>\n",
              "<html lang=\"fr\">\n",
              "<head>\n",
              "  <meta charset=\"UTF-8\">\n",
              "  <title>Activité en classe</title>\n",
              "  <link rel=\"stylesheet\" href=\"http://localhost:8000/menu.css\" type=\"text/css\">\n",
              "</head>\n",
              "<body>\n",
              "  <div>\n",
              "  <h1 id=\"page-title\">Faites-le vous-même: Atelliers collectifs</h1>\n",
              "    <ul id=\"main-nav\" class=\"nav\">\n",
              "      <li><a href=\"/\">Page Principale</a></li>\n",
              "      <li><a href=\"/bois\">Atelliers bois</a></li>\n",
              "      <li><a href=\"/couture\">Atelliers couture</a></li>\n",
              "      <li><a href=\"/renovation\">Atelliers renovation</a></li>\n",
              "    </ul>\n",
              "  </div>\n",
              "</body>\n",
              "</html>\n"
            ]
          },
          "metadata": {}
        }
      ]
    },
    {
      "cell_type": "markdown",
      "source": [
        "## Menu CSS - 2\n",
        "\n",
        "* Quel est l’effet de la spécification CSS présentée précédemment sur le code HTML ci-dessous ?\n",
        "```html\n",
        "<!DOCTYPE html>\n",
        "<html lang=\"fr\">\n",
        "<head>\n",
        "  <meta charset=\"UTF-8\">\n",
        "  <title>Activité en classe</title>\n",
        "  <link rel=\"stylesheet\" href=\"menu_css2.css\" type=\"text/css\">\n",
        "</head>\n",
        "<body>\n",
        "  <div>\n",
        "  <h1 id=\"page-title\">Faites-le vous-même: Atelliers collectifs</h1>\n",
        "    <ul id=\"main-nav\" class=\"nav\">\n",
        "      <li><a href=\"/\">Page Principale</a></li>\n",
        "      <li><a href=\"/bois\">Atelliers bois</a></li>\n",
        "      <li><a href=\"/couture\" class=\"featured\">Atelliers couture</a></li>\n",
        "      <li><a href=\"/renovation\">Atelliers renovation</a></li>\n",
        "    </ul>\n",
        "  </div>\n",
        "</body>\n",
        "</html>\n",
        "```\n",
        "\n",
        "Pour tester:"
      ],
      "metadata": {
        "id": "tKxtLhF4OuDS"
      }
    },
    {
      "cell_type": "code",
      "source": [
        "%%html\n",
        "\n",
        "<!DOCTYPE html>\n",
        "<html lang=\"fr\">\n",
        "<head>\n",
        "  <meta charset=\"UTF-8\">\n",
        "  <title>Activité en classe</title>\n",
        "  <link rel=\"stylesheet\" href=\"https://localhost:8000/menu.css\" type=\"text/css\">\n",
        "</head>\n",
        "<body>\n",
        "  <div>\n",
        "  <h1 id=\"page-title\">Faites-le vous-même: Atelliers collectifs</h1>\n",
        "    <ul id=\"main-nav\" class=\"nav\">\n",
        "      <li><a href=\"/\">Page Principale</a></li>\n",
        "      <li><a href=\"/bois\">Atelliers bois</a></li>\n",
        "      <li><a href=\"/couture\" class=\"featured\">Atelliers couture</a></li>\n",
        "      <li><a href=\"/renovation\">Atelliers renovation</a></li>\n",
        "    </ul>\n",
        "  </div>\n",
        "</body>\n",
        "</html>"
      ],
      "metadata": {
        "id": "ha9l7HI8K30E",
        "colab": {
          "resources": {
            "http://localhost:8000/menu.css": {
              "data": "CmJvZHkgeyBmb250LWZhbWlseTogSGVsdmV0aWNhOyB9CmgxIHsgY29sb3I6IGRpbWdyZXk7IG1hcmdpbi1ib3R0b206IDE1cHg7IH0KLm5hdiB7IGxpc3Qtc3R5bGUtdHlwZTogbm9uZTsgcGFkZGluZzogMHB4OyB9Ci5uYXYgbGkgeyBkaXNwbGF5OiBpbmxpbmUtYmxvY2s7IH0KLm5hdiBsaSBhIHsgY29sb3I6IHdoaXRlOyBiYWNrZ3JvdW5kLWNvbG9yOiBncmV5OwogICAgcGFkZGluZzogNXB4OyB0ZXh0LWRlY29yYXRpb246IG5vbmU7IH0KLm5hdiBsaSBhLmZlYXR1cmVkIHsgYmFja2dyb3VuZC1jb2xvcjogZGFya3JlZDsgfQo=",
              "ok": true,
              "headers": [
                [
                  "content-type",
                  "text/css"
                ]
              ],
              "status": 200,
              "status_text": "OK"
            }
          },
          "base_uri": "https://localhost:8080/",
          "height": 109
        },
        "outputId": "d2cf8314-5f87-4123-b302-2048b3696bd7"
      },
      "execution_count": null,
      "outputs": [
        {
          "output_type": "display_data",
          "data": {
            "text/plain": [
              "<IPython.core.display.HTML object>"
            ],
            "text/html": [
              "\n",
              "<!DOCTYPE html>\n",
              "<html lang=\"fr\">\n",
              "<head>\n",
              "  <meta charset=\"UTF-8\">\n",
              "  <title>Activité en classe</title>\n",
              "  <link rel=\"stylesheet\" href=\"https://localhost:8000/menu.css\" type=\"text/css\">\n",
              "</head>\n",
              "<body>\n",
              "  <div>\n",
              "  <h1 id=\"page-title\">Faites-le vous-même: Atelliers collectifs</h1>\n",
              "    <ul id=\"main-nav\" class=\"nav\">\n",
              "      <li><a href=\"/\">Page Principale</a></li>\n",
              "      <li><a href=\"/bois\">Atelliers bois</a></li>\n",
              "      <li><a href=\"/couture\" class=\"featured\">Atelliers couture</a></li>\n",
              "      <li><a href=\"/renovation\">Atelliers renovation</a></li>\n",
              "    </ul>\n",
              "  </div>\n",
              "</body>\n",
              "</html>\n"
            ]
          },
          "metadata": {}
        }
      ]
    },
    {
      "cell_type": "markdown",
      "source": [
        "## Menu vertical\n",
        "\n",
        "* Modifiez la spécification CSS présentée précédemment pour créer l’effet suivant :\n",
        "\n",
        "![Screenshot from 2023-08-28 12-48-59.png](data:image/png;base64,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)"
      ],
      "metadata": {
        "id": "yeLZgiTUP7_c"
      }
    },
    {
      "cell_type": "markdown",
      "source": [
        "* Menu vertical d'une largeur de 200px.\n",
        "* Les régles dans `.nav li a.featured` sont appliquées quand le curseur de la souris est placé sur un item du menu."
      ],
      "metadata": {
        "id": "G6P3G-ZQCJts"
      }
    },
    {
      "cell_type": "code",
      "source": [
        "%%writefile menu_vertical.css\n",
        "\n",
        "body { font-family: Arial, sans-serif; }\n",
        "h1 { color: dimgrey; margin-bottom: 15px; }\n",
        ".nav { list-style-type: none; padding: 0px; width: 200px; }\n",
        ".nav li a { display: block; color: white; background-color: grey;\n",
        "    padding: 5px; text-decoration: none; }\n",
        ".nav li a:hover { background-color: darkred; }"
      ],
      "metadata": {
        "id": "UbtI2FjDLfmH",
        "colab": {
          "base_uri": "https://localhost:8080/"
        },
        "outputId": "8ceba2ae-cfa6-40c0-fee9-5197da37299f"
      },
      "execution_count": null,
      "outputs": [
        {
          "output_type": "stream",
          "name": "stdout",
          "text": [
            "Writing menu_vertical.css\n"
          ]
        }
      ]
    },
    {
      "cell_type": "markdown",
      "source": [
        "<!--\n",
        "body { font-family: Arial, sans-serif; }\n",
        "h1 { color: dimgrey; margin-bottom: 15px; }\n",
        ".nav { list-style-type: none; padding: 0px; width: 200px; }\n",
        ".nav li a { display: block; color: white; background-color: grey;\n",
        "    padding: 5px; text-decoration: none; }\n",
        ".nav li a:hover { background-color: darkred; }\n",
        "-->"
      ],
      "metadata": {
        "id": "Va1rAsMN9nV8"
      }
    },
    {
      "cell_type": "code",
      "source": [
        "%%html\n",
        "\n",
        "<!DOCTYPE html>\n",
        "<html lang=\"fr\">\n",
        "<head>\n",
        "  <meta charset=\"UTF-8\">\n",
        "  <title>Activité en classe</title>\n",
        "  <link rel=\"stylesheet\" href=\"https://localhost:8000/menu_vertical.css\" type=\"text/css\">\n",
        "</head>\n",
        "<body>\n",
        "  <div>\n",
        "  <h1 id=\"page-title\">Faites-le vous-même - Atelliers collectifs</h1>\n",
        "    <ul id=\"main-nav\" class=\"nav\">\n",
        "      <li><a href=\"/\">Page Principale</a></li>\n",
        "      <li><a href=\"/bois\">Atelliers bois</a></li>\n",
        "      <li><a href=\"/couture\">Atelliers couture</a></li>\n",
        "      <li><a href=\"/renovation\">Atelliers renovation</a></li>\n",
        "    </ul>\n",
        "  </div>\n",
        "</body>\n",
        "</html>"
      ],
      "metadata": {
        "id": "L4dTmFD0LyfL",
        "colab": {
          "resources": {
            "http://localhost:8000/menu_vertical.css": {
              "data": "CmJvZHkgeyBmb250LWZhbWlseTogQXJpYWwsIHNhbnMtc2VyaWY7IH0KaDEgeyBjb2xvcjogZGltZ3JleTsgbWFyZ2luLWJvdHRvbTogMTVweDsgfQoubmF2IHsgbGlzdC1zdHlsZS10eXBlOiBub25lOyBwYWRkaW5nOiAwcHg7IHdpZHRoOiAyMDBweDsgfQoubmF2IGxpIGEgeyBkaXNwbGF5OiBibG9jazsgY29sb3I6IHdoaXRlOyBiYWNrZ3JvdW5kLWNvbG9yOiBncmV5OwogICAgcGFkZGluZzogNXB4OyB0ZXh0LWRlY29yYXRpb246IG5vbmU7IH0KLm5hdiBsaSBhOmhvdmVyIHsgYmFja2dyb3VuZC1jb2xvcjogZGFya3JlZDsgfQo=",
              "ok": true,
              "headers": [
                [
                  "content-type",
                  "text/css"
                ]
              ],
              "status": 200,
              "status_text": "OK"
            }
          },
          "base_uri": "https://localhost:8080/",
          "height": 201
        },
        "outputId": "f8d4033e-1f97-403c-8700-2995ea2d7d69"
      },
      "execution_count": null,
      "outputs": [
        {
          "output_type": "display_data",
          "data": {
            "text/plain": [
              "<IPython.core.display.HTML object>"
            ],
            "text/html": [
              "\n",
              "<!DOCTYPE html>\n",
              "<html lang=\"fr\">\n",
              "<head>\n",
              "  <meta charset=\"UTF-8\">\n",
              "  <title>Activité en classe</title>\n",
              "  <link rel=\"stylesheet\" href=\"https://localhost:8000/menu_vertical.css\" type=\"text/css\">\n",
              "</head>\n",
              "<body>\n",
              "  <div>\n",
              "  <h1 id=\"page-title\">Faites-le vous-même - Atelliers collectifs</h1>\n",
              "    <ul id=\"main-nav\" class=\"nav\">\n",
              "      <li><a href=\"/\">Page Principale</a></li>\n",
              "      <li><a href=\"/bois\">Atelliers bois</a></li>\n",
              "      <li><a href=\"/couture\">Atelliers couture</a></li>\n",
              "      <li><a href=\"/renovation\">Atelliers renovation</a></li>\n",
              "    </ul>\n",
              "  </div>\n",
              "</body>\n",
              "</html>\n"
            ]
          },
          "metadata": {}
        }
      ]
    },
    {
      "cell_type": "markdown",
      "source": [
        "## Version horizontale du menu avec [Materialize](https://materializecss.com/navbar.html):"
      ],
      "metadata": {
        "id": "Myc8do2kp_hL"
      }
    },
    {
      "cell_type": "code",
      "source": [
        "%%html\n",
        "\n",
        "<!DOCTYPE html>\n",
        "<html lang=\"fr\">\n",
        "<head>\n",
        "  <meta charset=\"UTF-8\">\n",
        "  <title>Activité en classe</title>\n",
        "  <link rel=\"stylesheet\" href=\"https://cdnjs.cloudflare.com/ajax/libs/materialize/1.0.0/css/materialize.min.css\">\n",
        "</head>\n",
        "<body>\n",
        "  <h4 id=\"page-title\">Faites-le vous-même - Atelliers collectifs</h4>\n",
        "  <nav class=\"container left\">\n",
        "    <div class=\"nav-wrapper\">\n",
        "      <ul id=\"nav-mobile\" class=\"left hide-on-med-and-down\">\n",
        "      <li><a href=\"/\">Page Principale</a></li>\n",
        "      <li><a href=\"/bois\">Atelliers bois</a></li>\n",
        "      <li><a href=\"/couture\">Atelliers couture</a></li>\n",
        "      <li><a href=\"/renovation\">Atelliers renovation</a></li>\n",
        "      </ul>\n",
        "    </div>\n",
        "  </nav>\n",
        "\n",
        "</body>\n",
        "</html>"
      ],
      "metadata": {
        "id": "YDIkY0Xrp7Vh",
        "colab": {
          "base_uri": "https://localhost:8080/",
          "height": 155
        },
        "outputId": "b9142899-37ae-4b79-e897-d1d3bf9acc6c"
      },
      "execution_count": null,
      "outputs": [
        {
          "output_type": "display_data",
          "data": {
            "text/plain": [
              "<IPython.core.display.HTML object>"
            ],
            "text/html": [
              "\n",
              "<!DOCTYPE html>\n",
              "<html lang=\"fr\">\n",
              "<head>\n",
              "  <meta charset=\"UTF-8\">\n",
              "  <title>Activité en classe</title>\n",
              "  <link rel=\"stylesheet\" href=\"https://cdnjs.cloudflare.com/ajax/libs/materialize/1.0.0/css/materialize.min.css\">\n",
              "</head>\n",
              "<body>\n",
              "  <h4 id=\"page-title\">Faites-le vous-même - Atelliers collectifs</h4>\n",
              "  <nav class=\"container left\">\n",
              "    <div class=\"nav-wrapper\">\n",
              "      <ul id=\"nav-mobile\" class=\"left hide-on-med-and-down\">\n",
              "      <li><a href=\"/\">Page Principale</a></li>\n",
              "      <li><a href=\"/bois\">Atelliers bois</a></li>\n",
              "      <li><a href=\"/couture\">Atelliers couture</a></li>\n",
              "      <li><a href=\"/renovation\">Atelliers renovation</a></li>\n",
              "      </ul>\n",
              "    </div>\n",
              "  </nav>\n",
              "\n",
              "</body>\n",
              "</html>\n"
            ]
          },
          "metadata": {}
        }
      ]
    },
    {
      "cell_type": "markdown",
      "source": [
        "# Le design responsive\n",
        "-----------------\n",
        "\n",
        "* Le design responsive, également connu sous le nom de conception adaptable ou design réactif, est une approche essentielle en développement web qui permet de créer des sites internet capables de s'adapter automatiquement à différents types d'appareils et de tailles d'écran.\n",
        "\n",
        "* Grâce à cette approche, les sites web peuvent offrir une expérience utilisateur optimale, quelle que soit la plateforme utilisée, que ce soit un ordinateur de bureau, une tablette ou un téléphone portable.\n",
        "\n",
        "* Grâce à des techniques telles que la mise en page fluide et les media queries, les concepteurs et développeurs peuvent créer des sites web qui s'adaptent parfaitement aux besoins de chaque utilisateur, quel que soit le périphérique utilisé. C'est une approche indispensable dans le monde moderne de la navigation web multiplateforme.\n"
      ],
      "metadata": {
        "id": "Zjg2NK8XY8vd"
      }
    },
    {
      "cell_type": "markdown",
      "source": [
        "## Quelques exemples de requêtes média CSS\n",
        "\n",
        "* Cibler les petits appareils (mobiles) :\n",
        "```css\n",
        "/*\n",
        "  Styles pour les écrans ayant une largeur maximale de 768 pixels\n",
        "  (typiquement les appareils mobiles)\n",
        " */\n",
        "@media screen and (max-width: 768px) {\n",
        "    body {\n",
        "      font-size: 16px;\n",
        "      /* Ajuster la taille de police pour une meilleure\n",
        "         lisibilité sur les petits écrans */\n",
        "    }\n",
        "  \n",
        "    .header {\n",
        "       display: none; /* Masquer l'en-tête sur les appareils mobiles */\n",
        "    }\n",
        "\n",
        "    .mobile-menu {\n",
        "       display: block;\n",
        "       /* Afficher une icône de menu adaptée aux mobiles\n",
        "          sur les petits écrans */\n",
        "    }\n",
        "}\n",
        "```"
      ],
      "metadata": {
        "id": "keQ9AWHJbpXq"
      }
    },
    {
      "cell_type": "markdown",
      "source": [
        "* Cibler les grands appareils (ordinateurs de bureau) :\n",
        "```css\n",
        " /* Styles pour les écrans ayant une largeur minimale de 1024 pixels\n",
        "    (typiquement les écrans d'ordinateurs de bureau) */\n",
        "@media screen and (min-width: 1024px) {\n",
        "    body {\n",
        "      background-color: #f1f1f1;\n",
        "      /* Appliquer une couleur de fond différente pour\n",
        "         les ordinateurs de bureau */\n",
        "    }\n",
        "\n",
        "    .header {\n",
        "      display: block; /* Afficher l'en-tête sur les grands écrans */\n",
        "    }\n",
        "\n",
        "    .mobile-menu {\n",
        "       display: none;\n",
        "       /* Masquer l'icône de menu adaptée aux mobiles\n",
        "          sur les grands écrans */\n",
        "    }\n",
        "}\n",
        "```"
      ],
      "metadata": {
        "id": "5KkyjgoGcDaK"
      }
    },
    {
      "cell_type": "markdown",
      "source": [
        "* Cibler les orientations paysage et portrait :\n",
        "```css\n",
        "/* Styles pour les écrans en orientation paysage */\n",
        "@media screen and (orientation: landscape) {\n",
        "    /* Ajouter des styles spécifiques pour l'orientation paysage */\n",
        "    /* Par exemple, ajuster la mise en page ou la taille de police */\n",
        "}\n",
        "\n",
        "  /* Styles pour les écrans en orientation portrait */\n",
        "@media screen and (orientation: portrait) {\n",
        "     /* Ajouter des styles spécifiques pour l'orientation portrait */\n",
        "     /* Par exemple, réorganiser les éléments ou modifier les marges */\n",
        "}\n",
        "```"
      ],
      "metadata": {
        "id": "oQZVzNrTcDiY"
      }
    },
    {
      "cell_type": "markdown",
      "source": [
        "*  Combinaison de fonctionnalités média :\n",
        "```css\n",
        " /* Styles pour les écrans ayant une largeur\n",
        "    entre 768 pixels et 1023 pixels */\n",
        "@media screen and (min-width: 768px) and (max-width: 1023px) {\n",
        "    /* Ajouter des styles pour les tablettes ou les petits\n",
        "       écrans d'ordinateur. Par exemple, ajuster la mise\n",
        "       en page ou la taille de police */\n",
        "}\n",
        "```"
      ],
      "metadata": {
        "id": "q026w-57cjb3"
      }
    },
    {
      "cell_type": "markdown",
      "source": [
        "## Viewport\n",
        "\n",
        "* La balise méta `viewport` est utilisée pour contrôler la manière dont une page web est affichée sur différents appareils, en particulier sur les appareils mobiles avec des tailles d'écran variables. Elle permet aux développeurs de définir les dimensions initiales et le comportement de mise à l'échelle du viewport.\n",
        "\n",
        "* La syntaxe typique de `viewport` est la suivante :\n",
        "```html\n",
        "<meta name=\"viewport\" content=\"width=device-width, initial-scale=1.0\">\n",
        "```\n"
      ],
      "metadata": {
        "id": "LeAYILrCdRvM"
      }
    },
    {
      "cell_type": "markdown",
      "source": [
        "**Explication des attributs :**\n",
        "\n",
        "* `name` : Spécifie le nom de la balise méta (`viewport`).\n",
        "\n",
        "* `content` : Fournit la configuration pour le viewport composée de plusieurs options séparées par des virgules.\n",
        "\n",
        "**Options courantes :**\n",
        "\n",
        "* `width=device-width` : Définit la largeur du viewport selon la largeur de l'appareil. Cela garantit que la page web s'adapte à la largeur de l'écran et n'apparaît pas zoomée.\n",
        "\n",
        "* `initial-scale` : Spécifie le niveau de zoom initial lors du chargement de la page.\n",
        "\n",
        "**Options supplémentaires (facultatives) :**\n",
        "\n",
        "* `minimum-scale` : Spécifie le niveau de zoom minimum autorisé. Utile pour éviter un zoom excessif sur les petits écrans.\n",
        "\n",
        "* `maximum-scale` : Spécifie le niveau de zoom maximum autorisé.\n",
        "\n",
        "* `user-scalable` : Détermine si l'utilisateur peut effectuer un zoom avant ou arrière manuellement sur la page web.\n",
        "\n",
        "**Exemple d'utilisation :**\n",
        "```html\n",
        "<!DOCTYPE html>\n",
        "<html>\n",
        "<head>\n",
        "  <meta name=\"viewport\" content=\"width=device-width, initial-scale=1.0, minimum-scale=1.0, maximum-scale=2.0, user-scalable=yes\">\n",
        "  <title>Site Web Adaptatif</title>\n",
        "</head>\n",
        "<body>\n",
        "  <!-- Le contenu web ici -->\n",
        "</body>\n",
        "</html>\n",
        "\n",
        "```"
      ],
      "metadata": {
        "id": "kb0JTFhvek3L"
      }
    },
    {
      "cell_type": "markdown",
      "source": [
        "### Viewport Width (vw) et Viewport Height (vh)\n",
        "\n",
        "* Il est possible de définir la taille des éléments en fonction des proportions du `viewport` en utilisant CSS.\n",
        "\n",
        "* L'unité `vw` représente un pourcentage de la largeur du `viewport`, tandis que l'unité `vh` représente un pourcentage de la hauteur du `viewport`.\n",
        "\n",
        "* Ces unités vous permettent de rendre les éléments réactifs à la largeur ou à la hauteur du `viewport`.\n",
        "```css\n",
        "  .heading {\n",
        "     font-size: 5vw;\n",
        "     /* La taille de la police sera de 5 % de la largeur du viewport */\n",
        "   }\n",
        "\n",
        "   .section {\n",
        "      height: 60vh;\n",
        "      /* La hauteur de la section sera de 60 % de\n",
        "      la hauteur du viewport */\n",
        "}\n",
        "```"
      ],
      "metadata": {
        "id": "Zfy8bTIefxHB"
      }
    },
    {
      "cell_type": "markdown",
      "source": [
        "### Viewport Minimum (vmin) et Viewport Maximum (vmax)\n",
        "\n",
        "* L'unité `vmin` représente la plus petite valeur entre `vw` et `vh`, tandis que l'unité `vmax` représente la plus grande valeur entre `vw` et `vh`.\n",
        "\n",
        "* Ces unités peuvent être utiles lorsque vous souhaitez conserver des proportions à la fois en mode portrait et paysage.\n",
        "```css\n",
        "   .square {\n",
        "      width: 30vmin;\n",
        "        /* La largeur du carré sera de 30 % de la plus\n",
        "            petite valeur entre la largeur et la hauteur du viewport */\n",
        "      height: 30vmin;\n",
        "        /* La hauteur du carré sera également de 30 % de la\n",
        "           plus petite valeur entre la largeur et la hauteur du viewport */\n",
        "   }\n",
        "```\n"
      ],
      "metadata": {
        "id": "ZhdX3HhZgdrn"
      }
    },
    {
      "cell_type": "markdown",
      "source": [
        "# Activité en classe\n",
        "-------------\n",
        "\n",
        "* Considérez le fichier HTML ci-dessous nommé `design_reactif.html`:\n",
        "```html\n",
        "<!DOCTYPE html>\n",
        "<html lang=\"fr\">\n",
        "<head>\n",
        "    <meta charset=\"UTF-8\">\n",
        "    <title>Exercice Design Réactif</title>\n",
        "    <link rel=\"stylesheet\" type=\"text/css\" href=\"styles/design_reactif.css\">\n",
        "</head>\n",
        "<body>\n",
        "<div class=\"container\">\n",
        "    <div class=\"box\">Boîte 1</div>\n",
        "    <div class=\"box\">Boîte 2</div>\n",
        "    <div class=\"box\">Boîte 3</div>\n",
        "</div>\n",
        "</body>\n",
        "</html>\n",
        "```\n",
        "\n",
        "* Complétez le fichier CSS `design_reactif.css`ci-dessous pour créer un design réactif qui modifie la mise en page et le style des boîtes en fonction de la taille d'écran en utilisant les requêtes média.\n",
        "\n",
        "* Si la taille de l'écran est inférieure à `768px`, cache boit devra occuper la largeur totale de la fenètre moins `20px` de marge.\n",
        "```css\n",
        " body {\n",
        "    margin: 0;\n",
        "    padding: 0;\n",
        "    font-family: Arial, sans-serif;\n",
        "}\n",
        ".container {\n",
        "    display: flex;\n",
        "    justify-content: space-between;\n",
        "}\n",
        ".box {\n",
        "    flex: 1;\n",
        "    padding: 20px;\n",
        "    border: 1px solid #ccc;\n",
        "    background-color: #f2f2f2;\n",
        "    margin: 10px;\n",
        "    text-align: center;\n",
        "}\n",
        "```"
      ],
      "metadata": {
        "id": "tAuav7HO6lkd"
      }
    },
    {
      "cell_type": "markdown",
      "source": [
        "<!--\n",
        "body {\n",
        "    margin: 0;\n",
        "    padding: 0;\n",
        "    font-family: Arial, sans-serif;\n",
        "}\n",
        "\n",
        ".container {\n",
        "    display: flex;\n",
        "    justify-content: space-between;\n",
        "    flex-wrap: wrap;\n",
        "}\n",
        "\n",
        ".box {\n",
        "    flex: 1;\n",
        "    padding: 20px;\n",
        "    border: 1px solid #ccc;\n",
        "    background-color: #f2f2f2;\n",
        "    margin: 10px;\n",
        "    text-align: center;\n",
        "}\n",
        "\n",
        "@media screen and (max-width: 768px) {\n",
        "    .box {\n",
        "        flex-basis: calc(100% - 20px);\n",
        "    }\n",
        "}\n",
        "-->"
      ],
      "metadata": {
        "id": "I--lgYh6_6Zl"
      }
    },
    {
      "cell_type": "code",
      "source": [
        "%%writefile design_reactif.css\n",
        "\n",
        "body {\n",
        "    margin: 0;\n",
        "    padding: 0;\n",
        "    font-family: Arial, sans-serif;\n",
        "}\n",
        "\n",
        ".container {\n",
        "    display: flex;\n",
        "    justify-content: space-between;\n",
        "    flex-wrap: wrap;\n",
        "}\n",
        "\n",
        ".box {\n",
        "    flex: 1;\n",
        "    padding: 20px;\n",
        "    border: 1px solid #ccc;\n",
        "    background-color: #f2f2f2;\n",
        "    margin: 10px;\n",
        "    text-align: center;\n",
        "}\n",
        "\n",
        "@media screen and (max-width: 768px) {\n",
        "    .box {\n",
        "        flex-basis: calc(100% - 20px);\n",
        "    }\n",
        "}"
      ],
      "metadata": {
        "colab": {
          "base_uri": "https://localhost:8080/"
        },
        "id": "lemQ4Lg-plSb",
        "outputId": "cd5defa4-ef8c-4247-fc5c-c10ce87a4fca"
      },
      "execution_count": null,
      "outputs": [
        {
          "output_type": "stream",
          "name": "stdout",
          "text": [
            "Writing design_reactif.css\n"
          ]
        }
      ]
    },
    {
      "cell_type": "code",
      "source": [
        "%%html\n",
        "\n",
        "<!DOCTYPE html>\n",
        "<html lang=\"fr\">\n",
        "<head>\n",
        "  <meta charset=\"UTF-8\">\n",
        "  <title>Exercice Design Réactif</title>\n",
        "  <link rel=\"stylesheet\" type=\"text/css\" href=\"http://localhost:8000/design_reactif.css\">\n",
        "</head>\n",
        "<body>\n",
        "<div class=\"container\">\n",
        "  <div class=\"box\">Boîte 1</div>\n",
        "  <div class=\"box\">Boîte 2</div>\n",
        "  <div class=\"box\">Boîte 3</div>\n",
        "</div>\n",
        "</body>\n",
        "</html>"
      ],
      "metadata": {
        "colab": {
          "resources": {
            "http://localhost:8000/design_reactif.css": {
              "data": "CmJvZHkgewogICAgbWFyZ2luOiAwOwogICAgcGFkZGluZzogMDsKICAgIGZvbnQtZmFtaWx5OiBBcmlhbCwgc2Fucy1zZXJpZjsKfQoKLmNvbnRhaW5lciB7CiAgICBkaXNwbGF5OiBmbGV4OwogICAganVzdGlmeS1jb250ZW50OiBzcGFjZS1iZXR3ZWVuOwogICAgZmxleC13cmFwOiB3cmFwOwp9CgouYm94IHsKICAgIGZsZXg6IDE7CiAgICBwYWRkaW5nOiAyMHB4OwogICAgYm9yZGVyOiAxcHggc29saWQgI2NjYzsKICAgIGJhY2tncm91bmQtY29sb3I6ICNmMmYyZjI7CiAgICBtYXJnaW46IDEwcHg7CiAgICB0ZXh0LWFsaWduOiBjZW50ZXI7Cn0KCkBtZWRpYSBzY3JlZW4gYW5kIChtYXgtd2lkdGg6IDc2OHB4KSB7CiAgICAuYm94IHsKICAgICAgICBmbGV4LWJhc2lzOiBjYWxjKDEwMCUgLSAyMHB4KTsKICAgIH0KfQo=",
              "ok": true,
              "headers": [
                [
                  "content-type",
                  "text/css"
                ]
              ],
              "status": 200,
              "status_text": "OK"
            }
          },
          "base_uri": "https://localhost:8080/",
          "height": 238
        },
        "id": "-H2YrKu8ptG3",
        "outputId": "86fdd2a8-5bc2-414c-be5a-87ea27420774"
      },
      "execution_count": null,
      "outputs": [
        {
          "output_type": "display_data",
          "data": {
            "text/plain": [
              "<IPython.core.display.HTML object>"
            ],
            "text/html": [
              "\n",
              "<!DOCTYPE html>\n",
              "<html lang=\"fr\">\n",
              "<head>\n",
              "  <meta charset=\"UTF-8\">\n",
              "  <title>Exercice Design Réactif</title>\n",
              "  <link rel=\"stylesheet\" type=\"text/css\" href=\"http://localhost:8000/design_reactif.css\">\n",
              "</head>\n",
              "<body>\n",
              "<div class=\"container\">\n",
              "  <div class=\"box\">Boîte 1</div>\n",
              "  <div class=\"box\">Boîte 2</div>\n",
              "  <div class=\"box\">Boîte 3</div>\n",
              "</div>\n",
              "</body>\n",
              "</html>\n"
            ]
          },
          "metadata": {}
        }
      ]
    },
    {
      "cell_type": "markdown",
      "source": [
        "# Références / Pour aller plus loin\n",
        "-----------------\n",
        "\n",
        "* HTML Tutorial, https://www.w3schools.com/html/default.asp\n",
        "* CSS Tutorial, https://www.w3schools.com/css/default.asp\n",
        "* Bootstrap 5 Tutorial, https://www.w3schools.com/bootstrap5/index.php\n",
        "* Bootstrap, Getting started, https://getbootstrap.com/docs/5.0/getting-started/introduction/\n",
        "* Bootstrap, Navbar, https://getbootstrap.com/docs/5.0/components/navbar/\n",
        "* Materialize - Getting Started, https://materializecss.com/getting-started.html\n",
        "* Tailwind CSS, https://tailwindcss.com/\n",
        "* Skeleton: Responsive CSS, http://getskeleton.com/"
      ],
      "metadata": {
        "id": "2kOv_ar2vt5K"
      }
    }
  ]
}