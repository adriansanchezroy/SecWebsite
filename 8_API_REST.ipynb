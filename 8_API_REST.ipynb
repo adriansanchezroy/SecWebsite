{
  "nbformat": 4,
  "nbformat_minor": 0,
  "metadata": {
    "colab": {
      "provenance": [],
      "toc_visible": true
    },
    "kernelspec": {
      "name": "python3",
      "display_name": "Python 3"
    },
    "language_info": {
      "name": "python"
    }
  },
  "cells": [
    {
      "cell_type": "markdown",
      "source": [
        "# Configuration\n",
        "-------------------\n",
        "\n",
        "\n",
        "Les cellules de cette section doivent être exécutées avant le reste du document. Si vous êtes déconnecté de l'engin d'exécution par Google Colab, il vous faudra exécuter cette section de nouveau.\n",
        "\n",
        "Le code de cette section a pour fin customiser la commande magique `%%javascript` et ajouter quelques paramètres qui permettent que le code fourni soit exécuté côté conteneur Colab:\n",
        "\n",
        "\n",
        "* `--target=[ node | browser | disk ]` :\n",
        "  - `node`: indique que le code JavaScript fourni dans la cellule sera sauvegardé dans un fichier `.js` et exécuté par Node.js.\n",
        "  - `browser`: la valeur browser correspond au comportement défaut de la commande `%%javascript`\n",
        "  - `disk`: le contenu de la cellule sera seulement stocké dans le fichier `.js`.\n",
        "\n",
        "* `--filename=FILENAME` : le nome du fichier qui sera créé sur le disque de la machine virtuelle\n",
        "\n",
        "* `--port=PORT` : (optionnel) Node.js sera exécuté en *background* pour éviter que l'exécution de la cellule bloque le reste du cahier. Le numéro de port fourni sera exporté dans la variable d'environnement `NODE_PORT`."
      ],
      "metadata": {
        "id": "O9w09Ji7QeYX"
      }
    },
    {
      "cell_type": "code",
      "source": [
        "\"\"\"\n",
        "Le code de cette cellule ira créer quelques dossiers\n",
        "pour mieux organiser les fichiers JavaScript du cours, installer\n",
        "les extensions et mettre à jour la version de Node.js\n",
        "utilisée par Colab.\n",
        "\"\"\"\n",
        "directories = (\n",
        "    'json-mock-api', 'express-mock-api'\n",
        "    )\n",
        "for dir in directories:\n",
        "  !mkdir -p /content/$dir\n",
        "\n",
        "!pip3 install classroom-extensions\n",
        "%load_ext classroom_extensions.node_install\n",
        "%install_nodejs\n",
        "%load_ext classroom_extensions.web"
      ],
      "metadata": {
        "id": "QHo35vfiyhyp"
      },
      "execution_count": null,
      "outputs": []
    },
    {
      "cell_type": "markdown",
      "source": [
        "# API REST (Representational State Transfer)\n",
        "---------\n",
        "\n",
        "* Une [API REST](https://www.redhat.com/fr/topics/api/what-is-a-rest-api) (également appelée API RESTful) est une interface de programmation d'application qui respecte les contraintes du style d'architecture REST et permet d'interagir avec les services web RESTful.\n",
        "\n",
        "* L'architecture REST a été proposée par Roy Fielding à l'Université UC Irvine en tant que partie intégrante de [sa dissertation](https://www.ics.uci.edu/~fielding/pubs/dissertation/rest_arch_style.htm)."
      ],
      "metadata": {
        "id": "jkm9hcQgceka"
      }
    },
    {
      "cell_type": "markdown",
      "source": [
        "## REST\n",
        "\n",
        "* REST n'est pas une norme ni un protocole, mais plutôt un ensemble d'architectures pour les API.\n",
        "\n",
        "* Lorsqu'un client envoie une requête à une API RESTful, l'API crée une représentation de la ressource demandée et la rend accessible via un point d'accès (endpoint).\n",
        "\n",
        "* La représentation, transmise via HTTP, est généralement au format JSON, bien que d'autres formats soient possibles.\n",
        "\n",
        "* Les en-têtes HTTP et les paramètres d'URL sont essentiels pour les API REST, car ils contiennent des informations pour identifier les ressources et autoriser les utilisateurs, entre autres."
      ],
      "metadata": {
        "id": "RSTWebwmmOLG"
      }
    },
    {
      "cell_type": "markdown",
      "source": [
        "## Les principes de REST\n",
        "\n",
        "Pour être considerée une API REST, une API doit respecter [les critères suivants](https://restfulapi.net/rest-architectural-constraints/):\n",
        "\n",
        "1. **Architecture client-serveur** : Des ressources, des clients et des serveurs communiquent via HTTP, avec une séparation nette entre ces rôles. Les clients et les serveurs sont interchangeables et évoluent indépendamment tant que l'interface reste constante.\n",
        "\n",
        "2. **Communication client-serveur sans état (*stateless*) :** Les données du client ne sont jamais stockées par le serveur, chaque requête `GET` est traitée indépendamment. Le serveur ne conserve aucun état de l'application client, et les informations d'état sont transmises par le client via les requêtes REST. Bien qu'un concept de *session* puisse exister, le client doit fournir les informations nécessaires pour identifier cette session au serveur. Le serveur est interchangeable et peut transférer l'état de la session vers d'autres serveurs ou systèmes, comme une base de données.\n",
        "\n",
        "3. **Mise en cache des données :** La mise en cache, bien qu'utile pour améliorer les performances de la communication client-serveur, peut compromettre la cohérence des données. Afin d'éviter la mise en cache lorsque nécessaire, les réponses peuvent spécifier cette exigence, par exemple en utilisant des [en-têtes HTTP appropriés](https://developer.mozilla.org/fr/docs/Web/HTTP/Headers/Cache-Control).\n",
        "\n",
        "4. **Système à couches :** La hiérarchisation des serveurs dans le service API est cruciale pour garantir que le client ne distingue pas une connexion directe d'une connexion via un nœud intermédiaire, tel qu'un *proxy* ou un pare-feu. Ce modèle à couches offre la possibilité de mettre en place une scalabilité, notamment par le biais d'un équilibreur de charge.\n",
        "\n",
        "5. **Interface uniforme :** Une interface standardisée est essentielle pour faciliter la communication entre clients et serveurs. Les développeurs familiers avec votre API devraient pouvoir appliquer des approches similaires à d'autres APIs. Cela suppose de respecter notamment l'identification des ressources via l'URL, la manipulation des ressources via leurs représentations, l'utilisation de messages auto-descriptifs, l'adoption de formats standards tels que JSON ou XML, et la mise en œuvre des concepts HATEOAS (*Hypermedia As The Engine Of the Application State*).\n",
        "\n",
        "6. **Code à la demande (facultatif) :** Il offre la flexibilité d'envoyer du code exécutable du serveur vers le client, permettant ainsi d'étendre les fonctionnalités du client en déplaçant la logique depuis le serveur.\n"
      ],
      "metadata": {
        "id": "cRJK6xNhuKpm"
      }
    },
    {
      "cell_type": "markdown",
      "source": [
        "### HATEOAS (*Hypermedia As The Engine Of the Application State*)\n",
        "\n",
        "HATEOAS est une contrainte et un style architecturaux qui préconisent l'inclusion de liens hypermédias dans les réponses d'une API pour faciliter la navigation vers des ressources connexes en suivant les liens fournis.\n",
        "\n",
        "Ce principe est similaire à la navigation web elle-même : une page contenant divers liens vers d'autres pages. Les liens hypermédias sont utilisés pour piloter l'état de l'application, plutôt que l'inverse.\n",
        "\n",
        "\n",
        "**Exemple:**\n",
        "\n",
        "Un appel au point de terminaison `https://api.example.com/users/123`, pour obtenir les details sur l'utilisateur dont l'identifiant est `123`, pourrait retourner:\n",
        "\n",
        "```javascript\n",
        "{\n",
        "  \"user\": {\n",
        "    \"id\": 123,\n",
        "    \"name\": \"Jean Dupont\",\n",
        "    \"links\": [\n",
        "      {\n",
        "        \"rel\": \"self\",\n",
        "        \"href\": \"https://api.example.com/users/123\",\n",
        "        \"method\": \"GET\"\n",
        "      },\n",
        "      {\n",
        "        \"rel\": \"posts\",\n",
        "        \"href\": \"https://api.example.com/users/123/posts\",\n",
        "        \"method\": \"GET\"\n",
        "      },\n",
        "      {\n",
        "        \"rel\": \"friends\",\n",
        "        \"href\": \"https://api.example.com/users/123/friends\",\n",
        "        \"method\": \"GET\"\n",
        "      },\n",
        "      {\n",
        "        \"rel\": \"new-post\",\n",
        "        \"href\": \"https://api.example.com/users/123/posts\",\n",
        "        \"method\": \"POST\"\n",
        "      }\n",
        "    ]\n",
        "  }\n",
        "}\n",
        "\n",
        "```"
      ],
      "metadata": {
        "id": "Ef2Tq0rVDlCM"
      }
    },
    {
      "cell_type": "markdown",
      "source": [
        "## Anatomie d'une API REST\n",
        "\n",
        "**En pratique, qu'est-ce qu'une API REST ?** Nous avons déjà utilisé plusieurs APIs dans les cahiers précédents pour obtenir des informations sur des images, des lauréats du Prix Nobel, des planètes de la série *Star Wars*, et plus encore.\n",
        "* Du point de vue de l'utilisation, une API REST se compose essentiellement de quatre éléments :\n",
        "  - **Le point de terminaison** (également appelé *endpoint* en anglais).\n",
        "  - **La méthode HTTP** utilisée pour effectuer une requête.\n",
        "  - **Les en-têtes** des requêtes et des réponses HTTP.\n",
        "  - **Les données** envoyées dans le corps des requêtes/réponses HTTP.\n",
        "\n",
        "* Le point de terminaison correspond à l'URL par laquelle l'API est accessible. Par exemple, le point de terminaison racine de l'API [Star Wars](https://swapi.dev/api/) est: `https://swapi.dev/api` et celui de l'API de Twitter est: `https://api.twitter.com`\n",
        "\n",
        "* Le chemin indiqué après le point de terminaison racine d'une API REST correspond à la ressource demandée. Par exemple, dans l'appel:\n",
        "  ```\n",
        "  GET https://swapi.dev/api/planets/1\n",
        "  ```\n",
        "  le chemin `planets/1` représente la ressource associée à la première planète de la liste de planètes de *Star Wars*.\n",
        "\n",
        "* Pour déterminer le chemin à utiliser, il est nécessaire de consulter la documentation de l'API. Par exemple, [la documentation](https://swapi.dev/documentation#base) de l'API *Star Wars* explique que pour obtenir des informations sur un personnage spécifique, il faut utiliser la ressource `people` suivie de l'identifiant du personnage :\n",
        "```\n",
        "people/:id/ -- get a specific people resource\n",
        "```\n",
        "L'utilisation de `:` dans un chemin, comme illustré dans le routage d'Express, indique que `id` est une variable dont la valeur sera fournie lors de l'envoi de la requête.\n",
        "\n",
        "* Une API REST peut également permettre aux utilisateurs de spécifier des paramètres pour des requêtes de recherche. Bien que les paramètres ne fassent pas nécessairement partie intégrante de toutes les APIs REST, ils sont fréquemment présents dans de nombreuses APIs. Dans l'[API Prix Nobel](https://www.nobelprize.org/about/developer-zone-2) que nous avons utilisé pour obtenir des informations sur les lauréats du Prix Nobel, nous avons utilisé des paramètres pour affiner nos recherches. Par exemple, nous avons utilisé :\n",
        "```\n",
        "http://api.nobelprize.org/2.1/laureates?name=Alice&birthCountry=Canada\n",
        "```\n",
        "pour obtenir la liste des lauréats nés au Canada et dont le nom contient `Alice`.\n",
        "\n",
        "* Les paramètres de recherche suivent la ressource demandée et sont introduits par `?`, séparés par `&`."
      ],
      "metadata": {
        "id": "rdsw-EjzS-b_"
      }
    },
    {
      "cell_type": "markdown",
      "source": [
        "## Tester les API REST avec `curl`\n",
        "\n",
        "On peut utiliser des API disponibles dans divers langages pour créer un client HTTP qui envoie des requêtes à une API REST, comme nous l'avons vu avec l'API `fetch` dans les cahiers précédents.\n",
        "\n",
        "\n",
        "Une option plus simple consiste à utiliser l'outil [curl](https://curl.se/), compatible avec Linux, MacOS et Windows, ou des outils tels que [Postman](https://www.postman.com/).\n",
        "\n",
        "\n",
        "De nombreuses documentations d'API REST utilisent `curl` pour illustrer les appels aux ressources. Si vous maîtrisez `curl` pour tester une API, vous saurez l'utiliser pour tester d'autres API.\n",
        "\n",
        "\n",
        "**Exemples :**\n",
        "\n",
        "Les exemples ci-dessous vous montrent comment utiliser `curl` pour envoyer des requêtes et obtenir des informations de l'API *Star Wars*. Pour lancer une requête et récupérer des informations sur les vaisseaux spatiaux :\n"
      ],
      "metadata": {
        "id": "3_5ZoVH_6N7g"
      }
    },
    {
      "cell_type": "code",
      "source": [
        "!curl https://swapi.dev/api/starships/"
      ],
      "metadata": {
        "id": "MbEwPJh-6Zh3",
        "colab": {
          "base_uri": "https://localhost:8080/"
        },
        "outputId": "e344bfa2-fa06-4315-ff28-2aa688201366"
      },
      "execution_count": null,
      "outputs": [
        {
          "output_type": "stream",
          "name": "stdout",
          "text": [
            "{\"count\":36,\"next\":\"https://swapi.dev/api/starships/?page=2\",\"previous\":null,\"results\":[{\"name\":\"CR90 corvette\",\"model\":\"CR90 corvette\",\"manufacturer\":\"Corellian Engineering Corporation\",\"cost_in_credits\":\"3500000\",\"length\":\"150\",\"max_atmosphering_speed\":\"950\",\"crew\":\"30-165\",\"passengers\":\"600\",\"cargo_capacity\":\"3000000\",\"consumables\":\"1 year\",\"hyperdrive_rating\":\"2.0\",\"MGLT\":\"60\",\"starship_class\":\"corvette\",\"pilots\":[],\"films\":[\"https://swapi.dev/api/films/1/\",\"https://swapi.dev/api/films/3/\",\"https://swapi.dev/api/films/6/\"],\"created\":\"2014-12-10T14:20:33.369000Z\",\"edited\":\"2014-12-20T21:23:49.867000Z\",\"url\":\"https://swapi.dev/api/starships/2/\"},{\"name\":\"Star Destroyer\",\"model\":\"Imperial I-class Star Destroyer\",\"manufacturer\":\"Kuat Drive Yards\",\"cost_in_credits\":\"150000000\",\"length\":\"1,600\",\"max_atmosphering_speed\":\"975\",\"crew\":\"47,060\",\"passengers\":\"n/a\",\"cargo_capacity\":\"36000000\",\"consumables\":\"2 years\",\"hyperdrive_rating\":\"2.0\",\"MGLT\":\"60\",\"starship_class\":\"Star Destroyer\",\"pilots\":[],\"films\":[\"https://swapi.dev/api/films/1/\",\"https://swapi.dev/api/films/2/\",\"https://swapi.dev/api/films/3/\"],\"created\":\"2014-12-10T15:08:19.848000Z\",\"edited\":\"2014-12-20T21:23:49.870000Z\",\"url\":\"https://swapi.dev/api/starships/3/\"},{\"name\":\"Sentinel-class landing craft\",\"model\":\"Sentinel-class landing craft\",\"manufacturer\":\"Sienar Fleet Systems, Cyngus Spaceworks\",\"cost_in_credits\":\"240000\",\"length\":\"38\",\"max_atmosphering_speed\":\"1000\",\"crew\":\"5\",\"passengers\":\"75\",\"cargo_capacity\":\"180000\",\"consumables\":\"1 month\",\"hyperdrive_rating\":\"1.0\",\"MGLT\":\"70\",\"starship_class\":\"landing craft\",\"pilots\":[],\"films\":[\"https://swapi.dev/api/films/1/\"],\"created\":\"2014-12-10T15:48:00.586000Z\",\"edited\":\"2014-12-20T21:23:49.873000Z\",\"url\":\"https://swapi.dev/api/starships/5/\"},{\"name\":\"Death Star\",\"model\":\"DS-1 Orbital Battle Station\",\"manufacturer\":\"Imperial Department of Military Research, Sienar Fleet Systems\",\"cost_in_credits\":\"1000000000000\",\"length\":\"120000\",\"max_atmosphering_speed\":\"n/a\",\"crew\":\"342,953\",\"passengers\":\"843,342\",\"cargo_capacity\":\"1000000000000\",\"consumables\":\"3 years\",\"hyperdrive_rating\":\"4.0\",\"MGLT\":\"10\",\"starship_class\":\"Deep Space Mobile Battlestation\",\"pilots\":[],\"films\":[\"https://swapi.dev/api/films/1/\"],\"created\":\"2014-12-10T16:36:50.509000Z\",\"edited\":\"2014-12-20T21:26:24.783000Z\",\"url\":\"https://swapi.dev/api/starships/9/\"},{\"name\":\"Millennium Falcon\",\"model\":\"YT-1300 light freighter\",\"manufacturer\":\"Corellian Engineering Corporation\",\"cost_in_credits\":\"100000\",\"length\":\"34.37\",\"max_atmosphering_speed\":\"1050\",\"crew\":\"4\",\"passengers\":\"6\",\"cargo_capacity\":\"100000\",\"consumables\":\"2 months\",\"hyperdrive_rating\":\"0.5\",\"MGLT\":\"75\",\"starship_class\":\"Light freighter\",\"pilots\":[\"https://swapi.dev/api/people/13/\",\"https://swapi.dev/api/people/14/\",\"https://swapi.dev/api/people/25/\",\"https://swapi.dev/api/people/31/\"],\"films\":[\"https://swapi.dev/api/films/1/\",\"https://swapi.dev/api/films/2/\",\"https://swapi.dev/api/films/3/\"],\"created\":\"2014-12-10T16:59:45.094000Z\",\"edited\":\"2014-12-20T21:23:49.880000Z\",\"url\":\"https://swapi.dev/api/starships/10/\"},{\"name\":\"Y-wing\",\"model\":\"BTL Y-wing\",\"manufacturer\":\"Koensayr Manufacturing\",\"cost_in_credits\":\"134999\",\"length\":\"14\",\"max_atmosphering_speed\":\"1000km\",\"crew\":\"2\",\"passengers\":\"0\",\"cargo_capacity\":\"110\",\"consumables\":\"1 week\",\"hyperdrive_rating\":\"1.0\",\"MGLT\":\"80\",\"starship_class\":\"assault starfighter\",\"pilots\":[],\"films\":[\"https://swapi.dev/api/films/1/\",\"https://swapi.dev/api/films/2/\",\"https://swapi.dev/api/films/3/\"],\"created\":\"2014-12-12T11:00:39.817000Z\",\"edited\":\"2014-12-20T21:23:49.883000Z\",\"url\":\"https://swapi.dev/api/starships/11/\"},{\"name\":\"X-wing\",\"model\":\"T-65 X-wing\",\"manufacturer\":\"Incom Corporation\",\"cost_in_credits\":\"149999\",\"length\":\"12.5\",\"max_atmosphering_speed\":\"1050\",\"crew\":\"1\",\"passengers\":\"0\",\"cargo_capacity\":\"110\",\"consumables\":\"1 week\",\"hyperdrive_rating\":\"1.0\",\"MGLT\":\"100\",\"starship_class\":\"Starfighter\",\"pilots\":[\"https://swapi.dev/api/people/1/\",\"https://swapi.dev/api/people/9/\",\"https://swapi.dev/api/people/18/\",\"https://swapi.dev/api/people/19/\"],\"films\":[\"https://swapi.dev/api/films/1/\",\"https://swapi.dev/api/films/2/\",\"https://swapi.dev/api/films/3/\"],\"created\":\"2014-12-12T11:19:05.340000Z\",\"edited\":\"2014-12-20T21:23:49.886000Z\",\"url\":\"https://swapi.dev/api/starships/12/\"},{\"name\":\"TIE Advanced x1\",\"model\":\"Twin Ion Engine Advanced x1\",\"manufacturer\":\"Sienar Fleet Systems\",\"cost_in_credits\":\"unknown\",\"length\":\"9.2\",\"max_atmosphering_speed\":\"1200\",\"crew\":\"1\",\"passengers\":\"0\",\"cargo_capacity\":\"150\",\"consumables\":\"5 days\",\"hyperdrive_rating\":\"1.0\",\"MGLT\":\"105\",\"starship_class\":\"Starfighter\",\"pilots\":[\"https://swapi.dev/api/people/4/\"],\"films\":[\"https://swapi.dev/api/films/1/\"],\"created\":\"2014-12-12T11:21:32.991000Z\",\"edited\":\"2014-12-20T21:23:49.889000Z\",\"url\":\"https://swapi.dev/api/starships/13/\"},{\"name\":\"Executor\",\"model\":\"Executor-class star dreadnought\",\"manufacturer\":\"Kuat Drive Yards, Fondor Shipyards\",\"cost_in_credits\":\"1143350000\",\"length\":\"19000\",\"max_atmosphering_speed\":\"n/a\",\"crew\":\"279,144\",\"passengers\":\"38000\",\"cargo_capacity\":\"250000000\",\"consumables\":\"6 years\",\"hyperdrive_rating\":\"2.0\",\"MGLT\":\"40\",\"starship_class\":\"Star dreadnought\",\"pilots\":[],\"films\":[\"https://swapi.dev/api/films/2/\",\"https://swapi.dev/api/films/3/\"],\"created\":\"2014-12-15T12:31:42.547000Z\",\"edited\":\"2014-12-20T21:23:49.893000Z\",\"url\":\"https://swapi.dev/api/starships/15/\"},{\"name\":\"Rebel transport\",\"model\":\"GR-75 medium transport\",\"manufacturer\":\"Gallofree Yards, Inc.\",\"cost_in_credits\":\"unknown\",\"length\":\"90\",\"max_atmosphering_speed\":\"650\",\"crew\":\"6\",\"passengers\":\"90\",\"cargo_capacity\":\"19000000\",\"consumables\":\"6 months\",\"hyperdrive_rating\":\"4.0\",\"MGLT\":\"20\",\"starship_class\":\"Medium transport\",\"pilots\":[],\"films\":[\"https://swapi.dev/api/films/2/\",\"https://swapi.dev/api/films/3/\"],\"created\":\"2014-12-15T12:34:52.264000Z\",\"edited\":\"2014-12-20T21:23:49.895000Z\",\"url\":\"https://swapi.dev/api/starships/17/\"}]}"
          ]
        }
      ]
    },
    {
      "cell_type": "markdown",
      "source": [
        "Le JSON retourné par l'API n'est pas formaté. Sur Linux, pour le formater on va utiliser `json_pp`. On ajoute aussi l'argument `-s` pour la commande `curl`  pour ignorer les informations de téléchargement du JSON:  "
      ],
      "metadata": {
        "id": "3bLLvv6O6YWC"
      }
    },
    {
      "cell_type": "code",
      "source": [
        "!curl -s https://swapi.dev/api/starships/10/ | json_pp"
      ],
      "metadata": {
        "id": "wyfhAQuR620x",
        "colab": {
          "base_uri": "https://localhost:8080/"
        },
        "outputId": "e12d9a4e-97f3-4548-ce1c-d0146b44ae91"
      },
      "execution_count": null,
      "outputs": [
        {
          "output_type": "stream",
          "name": "stdout",
          "text": [
            "{\n",
            "   \"MGLT\" : \"75\",\n",
            "   \"cargo_capacity\" : \"100000\",\n",
            "   \"consumables\" : \"2 months\",\n",
            "   \"cost_in_credits\" : \"100000\",\n",
            "   \"created\" : \"2014-12-10T16:59:45.094000Z\",\n",
            "   \"crew\" : \"4\",\n",
            "   \"edited\" : \"2014-12-20T21:23:49.880000Z\",\n",
            "   \"films\" : [\n",
            "      \"https://swapi.dev/api/films/1/\",\n",
            "      \"https://swapi.dev/api/films/2/\",\n",
            "      \"https://swapi.dev/api/films/3/\"\n",
            "   ],\n",
            "   \"hyperdrive_rating\" : \"0.5\",\n",
            "   \"length\" : \"34.37\",\n",
            "   \"manufacturer\" : \"Corellian Engineering Corporation\",\n",
            "   \"max_atmosphering_speed\" : \"1050\",\n",
            "   \"model\" : \"YT-1300 light freighter\",\n",
            "   \"name\" : \"Millennium Falcon\",\n",
            "   \"passengers\" : \"6\",\n",
            "   \"pilots\" : [\n",
            "      \"https://swapi.dev/api/people/13/\",\n",
            "      \"https://swapi.dev/api/people/14/\",\n",
            "      \"https://swapi.dev/api/people/25/\",\n",
            "      \"https://swapi.dev/api/people/31/\"\n",
            "   ],\n",
            "   \"starship_class\" : \"Light freighter\",\n",
            "   \"url\" : \"https://swapi.dev/api/starships/10/\"\n",
            "}\n"
          ]
        }
      ]
    },
    {
      "cell_type": "markdown",
      "source": [
        "Pour afficher les en-têtes de requête et de réponse HTTP, on ajoute l'argument `-v` (*verbose*):"
      ],
      "metadata": {
        "id": "DJzqnHDQ61r-"
      }
    },
    {
      "cell_type": "code",
      "source": [
        "!curl -s -v https://swapi.dev/api/starships/10/"
      ],
      "metadata": {
        "id": "cRwX5bE47K2p",
        "colab": {
          "base_uri": "https://localhost:8080/"
        },
        "outputId": "2a9a0fa9-bd39-44af-ccca-46517a5c37a7"
      },
      "execution_count": null,
      "outputs": [
        {
          "output_type": "stream",
          "name": "stdout",
          "text": [
            "*   Trying 52.58.110.120:443...\n",
            "* Connected to swapi.dev (52.58.110.120) port 443 (#0)\n",
            "* ALPN, offering h2\n",
            "* ALPN, offering http/1.1\n",
            "*  CAfile: /etc/ssl/certs/ca-certificates.crt\n",
            "*  CApath: /etc/ssl/certs\n",
            "* TLSv1.0 (OUT), TLS header, Certificate Status (22):\n",
            "* TLSv1.3 (OUT), TLS handshake, Client hello (1):\n",
            "* TLSv1.2 (IN), TLS header, Certificate Status (22):\n",
            "* TLSv1.3 (IN), TLS handshake, Server hello (2):\n",
            "* TLSv1.2 (IN), TLS header, Certificate Status (22):\n",
            "* TLSv1.2 (IN), TLS handshake, Certificate (11):\n",
            "* TLSv1.2 (IN), TLS header, Certificate Status (22):\n",
            "* TLSv1.2 (IN), TLS handshake, Server key exchange (12):\n",
            "* TLSv1.2 (IN), TLS header, Certificate Status (22):\n",
            "* TLSv1.2 (IN), TLS handshake, Server finished (14):\n",
            "* TLSv1.2 (OUT), TLS header, Certificate Status (22):\n",
            "* TLSv1.2 (OUT), TLS handshake, Client key exchange (16):\n",
            "* TLSv1.2 (OUT), TLS header, Finished (20):\n",
            "* TLSv1.2 (OUT), TLS change cipher, Change cipher spec (1):\n",
            "* TLSv1.2 (OUT), TLS header, Certificate Status (22):\n",
            "* TLSv1.2 (OUT), TLS handshake, Finished (20):\n",
            "* TLSv1.2 (IN), TLS header, Finished (20):\n",
            "* TLSv1.2 (IN), TLS header, Certificate Status (22):\n",
            "* TLSv1.2 (IN), TLS handshake, Finished (20):\n",
            "* SSL connection using TLSv1.2 / ECDHE-RSA-AES128-GCM-SHA256\n",
            "* ALPN, server accepted to use h2\n",
            "* Server certificate:\n",
            "*  subject: CN=swapi.dev\n",
            "*  start date: Oct 28 07:33:16 2023 GMT\n",
            "*  expire date: Jan 26 07:33:15 2024 GMT\n",
            "*  subjectAltName: host \"swapi.dev\" matched cert's \"swapi.dev\"\n",
            "*  issuer: C=US; O=Let's Encrypt; CN=R3\n",
            "*  SSL certificate verify ok.\n",
            "* Using HTTP2, server supports multiplexing\n",
            "* Connection state changed (HTTP/2 confirmed)\n",
            "* Copying HTTP/2 data in stream buffer to connection buffer after upgrade: len=0\n",
            "* TLSv1.2 (OUT), TLS header, Supplemental data (23):\n",
            "* TLSv1.2 (OUT), TLS header, Supplemental data (23):\n",
            "* TLSv1.2 (OUT), TLS header, Supplemental data (23):\n",
            "* Using Stream ID: 1 (easy handle 0x5a9a9f62ce90)\n",
            "* TLSv1.2 (OUT), TLS header, Supplemental data (23):\n",
            "> GET /api/starships/10/ HTTP/2\n",
            "> Host: swapi.dev\n",
            "> user-agent: curl/7.81.0\n",
            "> accept: */*\n",
            "> \n",
            "* TLSv1.2 (IN), TLS header, Supplemental data (23):\n",
            "* Connection state changed (MAX_CONCURRENT_STREAMS == 128)!\n",
            "* TLSv1.2 (OUT), TLS header, Supplemental data (23):\n",
            "* TLSv1.2 (IN), TLS header, Supplemental data (23):\n",
            "* TLSv1.2 (IN), TLS header, Supplemental data (23):\n",
            "< HTTP/2 200 \n",
            "< server: nginx/1.16.1\n",
            "< date: Tue, 07 Nov 2023 00:13:44 GMT\n",
            "< content-type: application/json\n",
            "< vary: Accept, Cookie\n",
            "< x-frame-options: SAMEORIGIN\n",
            "< etag: \"787ecb1fbae329ffafed92aec29ad8ac\"\n",
            "< allow: GET, HEAD, OPTIONS\n",
            "< strict-transport-security: max-age=15768000\n",
            "< \n",
            "* Connection #0 to host swapi.dev left intact\n",
            "{\"name\":\"Millennium Falcon\",\"model\":\"YT-1300 light freighter\",\"manufacturer\":\"Corellian Engineering Corporation\",\"cost_in_credits\":\"100000\",\"length\":\"34.37\",\"max_atmosphering_speed\":\"1050\",\"crew\":\"4\",\"passengers\":\"6\",\"cargo_capacity\":\"100000\",\"consumables\":\"2 months\",\"hyperdrive_rating\":\"0.5\",\"MGLT\":\"75\",\"starship_class\":\"Light freighter\",\"pilots\":[\"https://swapi.dev/api/people/13/\",\"https://swapi.dev/api/people/14/\",\"https://swapi.dev/api/people/25/\",\"https://swapi.dev/api/people/31/\"],\"films\":[\"https://swapi.dev/api/films/1/\",\"https://swapi.dev/api/films/2/\",\"https://swapi.dev/api/films/3/\"],\"created\":\"2014-12-10T16:59:45.094000Z\",\"edited\":\"2014-12-20T21:23:49.880000Z\",\"url\":\"https://swapi.dev/api/starships/10/\"}"
          ]
        }
      ]
    },
    {
      "cell_type": "markdown",
      "source": [
        "Si on s'intéresse qu'aux en-têtes de la réponse:"
      ],
      "metadata": {
        "id": "O12_WTEf7ikQ"
      }
    },
    {
      "cell_type": "code",
      "source": [
        "!curl -s --head https://swapi.dev/api/starships/10/"
      ],
      "metadata": {
        "id": "Ol1GjHh67jaN",
        "colab": {
          "base_uri": "https://localhost:8080/"
        },
        "outputId": "5a88091a-9abf-4492-9bf3-491deff0d05f"
      },
      "execution_count": null,
      "outputs": [
        {
          "output_type": "stream",
          "name": "stdout",
          "text": [
            "HTTP/2 200 \r\n",
            "\u001b[1mserver\u001b[0m: nginx/1.16.1\r\n",
            "\u001b[1mdate\u001b[0m: Tue, 07 Nov 2023 00:14:39 GMT\r\n",
            "\u001b[1mcontent-type\u001b[0m: application/json\r\n",
            "\u001b[1mvary\u001b[0m: Accept, Cookie\r\n",
            "\u001b[1mx-frame-options\u001b[0m: SAMEORIGIN\r\n",
            "\u001b[1metag\u001b[0m: \"787ecb1fbae329ffafed92aec29ad8ac\"\r\n",
            "\u001b[1mallow\u001b[0m: GET, HEAD, OPTIONS\r\n",
            "\u001b[1mstrict-transport-security\u001b[0m: max-age=15768000\r\n",
            "\r\n"
          ]
        }
      ]
    },
    {
      "cell_type": "markdown",
      "source": [
        "Nous verrons d'autres réglages possibles lorsque nous approfondirons notre étude des API REST."
      ],
      "metadata": {
        "id": "iysU-oLi7HeH"
      }
    },
    {
      "cell_type": "markdown",
      "source": [
        "## Les méthodes HTTP\n",
        "\n",
        "La méthode HTTP, également désignée comme un **verbe**, correspond au type de requête HTTP envoyée au serveur, offrant un choix parmi les types suivants :\n",
        "\n",
        "  - `GET`\n",
        "  - `POST`\n",
        "  - `PUT`\n",
        "  - `PATCH`\n",
        "  - `DELETE`\n",
        "\n",
        "**Note:** Les méthodes `OPTIONS` et `HEAD` possèdent des fonctionnalités particulières que nous aborderons ultérieurement.\n",
        "\n",
        "Les méthodes HTTP confèrent une signification aux requêtes transmises au serveur et servent de fondement pour mettre en œuvre des opérations couramment désignées sous l'acronyme CRUD (*Create, Read, Update, Delete*) :\n",
        "\n",
        "  - *Create* (créer).\n",
        "  - *Read* (lire).\n",
        "  - *Update* (mettre à jour)\n",
        "  - *Delete* (supprimer).\n",
        "\n",
        "Voici un résumé de la manière dont les méthodes HTTP sont couramment employées pour mettre en œuvre des opérations CRUD :\n",
        "\n",
        "- **`GET`** : Cette méthode est employée pour récupérer une ressource depuis un serveur. Lorsqu'une requête `GET` est adressée pour obtenir une ressource, le serveur génère une représentation de la ressource demandée, souvent au format JSON. En d'autres termes, `GET` est utilisée pour effectuer des opérations de lecture.\n",
        "\n",
        "- **`POST`** : La requête `POST` sert à créer une nouvelle ressource sur un serveur. Les données nécessaires à la création de la nouvelle ressource dans la base de données sont transmises dans le corps de la requête HTTP. Le serveur répond à la requête `POST` en indiquant le succès ou l'échec de l'opération. En somme, `POST` est utilisée pour effectuer des opérations de création.\n",
        "\n",
        "- **`PUT`/`PATCH`** : Les requêtes HTTP de type `PUT` ou `PATCH` sont généralement employées pour mettre à jour une ressource sur un serveur. Lorsqu'une requête `PUT` ou `PATCH` est reçue, le serveur met à jour une ressource existante et informe le client du résultat de l'opération. Par conséquent, `PUT` ou `PATCH` sont utilisés pour effectuer des opérations de mise à jour.\n",
        "\n",
        "- **`DELETE`** : Cette méthode HTTP est utilisée pour supprimer une ressource sur un serveur. Lorsqu'une requête `DELETE` est reçue, le serveur retire la ressource de la base de données et signale au client le succès ou l'échec de l'opération. En résumé, `DELETE` est utilisée pour effectuer des opérations de suppression.\n",
        "\n",
        "Bien que non essentielles pour les opérations CRUD, les méthodes `OPTIONS` et `HEAD` proposent les fonctionnalités suivantes :\n",
        "\n",
        "- **`HEAD`** : La méthode HTTP `HEAD` est couramment employée pour vérifier si une ressource a été modifiée. Lorsqu'un serveur reçoit une requête `HEAD`, il renvoie les en-têtes de la réponse HTTP, toutefois, le corps de la réponse est omis. Les en-têtes sont utilisés par le client pour déterminer si une ressource a subi des modifications. Un exemple de réponse est illustré ci-dessous :\n",
        "```\n",
        "HTTP/1.1 200 OK\n",
        "X-Powered-By: Express\n",
        "Vary: Origin, Accept-Encoding\n",
        "Access-Control-Allow-Credentials: true\n",
        "Cache-Control: no-cache\n",
        "Pragma: no-cache\n",
        "Expires: -1\n",
        "X-Content-Type-Options: nosniff\n",
        "Content-Type: application/json; charset=utf-8\n",
        "Content-Length: 169\n",
        "ETag: W/\"a9-hFaXT0CwEV/UcaEmhlcSOAZO47Q\"\n",
        "Date: Sun, 06 Mar 2022 22:06:42 GMT\n",
        "```\n",
        "\n",
        "- **`OPTIONS`** : Cette méthode est fréquemment employée pour obtenir des informations sur un point de terminaison de l'API, notamment les méthodes prises en charge. Une réponse à une requête de type `OPTIONS` n'inclut généralement pas de corps. Les en-têtes sont utilisés pour transmettre des informations pertinentes au client. Voici ci-dessous un exemple :\n",
        "```\n",
        "HTTP/1.1 204 No Content\n",
        "X-Powered-By: Express\n",
        "Vary: Origin, Access-Control-Request-Headers\n",
        "Access-Control-Allow-Credentials: true\n",
        "Access-Control-Allow-Methods: GET,HEAD,PUT,PATCH,POST,DELETE\n",
        "Content-Length: 0\n",
        "Date: Sun, 06 Mar 2022 22:07:18 GMT\n",
        "Connection: keep-alive\n",
        "```"
      ],
      "metadata": {
        "id": "yD4kvWfqZdLH"
      }
    },
    {
      "cell_type": "markdown",
      "source": [
        "## Codes d'état HTTP et messages d'erreur\n",
        "\n",
        "Une API REST peut retourner des messages d'erreur qui n'apparaissent que lorsque quelque chose ne va pas avec la demande.\n",
        "\n",
        "Les codes d'état HTTP (de `100+` à `500+`) permettent d'indiquer rapidement l'état de la réponse.\n",
        "\n",
        "En général, les nombres suivent les règles suivantes :\n",
        "\n",
        "* `200+` signifie que la requête a réussi.\n",
        "\n",
        "* `300+` signifie que la requête est redirigée vers une autre URL.\n",
        "\n",
        "* `400+` signifie qu'une erreur provenant du client s'est produite.\n",
        "\n",
        "* `500+` signifie qu'une erreur provenant du serveur s'est produite.\n",
        "\n",
        "Par exemple, si on demande une ressource qui n'existe pas sur le serveur, ce dernier enverra une réponse `404 Not Found`:"
      ],
      "metadata": {
        "id": "8gtuKwSEkGf3"
      }
    },
    {
      "cell_type": "markdown",
      "source": [
        "# Conception d'une API REST avec Express\n",
        "-----------------\n",
        "\n",
        "La conception d'une API REST avec Express implique une utilisation et organisation des routes, des modèles de données et des contrôleurs.\n",
        "\n",
        "* Les routeurs (*routers*) permettent de définir les itinéraires et les points d'accès de l'API. Ils dirigent les requêtes HTTP vers les contrôleurs appropriés, qui contiennent la logique de gestion des demandes.\n",
        "\n",
        "* Les modèles (*models*) représentent la structure des données et leur interaction avec la base de données.\n",
        "\n",
        "* Les contrôleurs (*controllers*) sont responsables de l'exécution des opérations sur les données en fonction des demandes entrantes, puis ils renvoient les réponses correspondantes.\n",
        "\n",
        "Cette approche modulaire facilite la maintenance, l'extensibilité et la collaboration lors du développement d'une API REST avec Express. Elle permet également de séparer clairement les préoccupations liées aux routes, à la logique métier et aux données, améliorant ainsi la lisibilité et la gestion du code source.\n",
        "\n",
        "**Remarques :** Dans l'API que nous allons concevoir dans ce cahier, nous n'irons pas utiliser une base de données réelle. Les bases de données seront étudiées à partir du prochain cours. Dans ce cahier les modèles utilisent des `Map` pour stocker les données en mémoire côté serveur.\n"
      ],
      "metadata": {
        "id": "dgStimHWLnNs"
      }
    },
    {
      "cell_type": "code",
      "source": [
        "\"\"\"\n",
        "Pour modifier le répertoire de travail de Colab et\n",
        "créer quelques dossiers pour mieux structurer le projet.\n",
        "\"\"\"\n",
        "%cd /content/express-mock-api/\n",
        "!mkdir -p models controllers routers"
      ],
      "metadata": {
        "id": "Xh0K0xQ3O6eT",
        "colab": {
          "base_uri": "https://localhost:8080/"
        },
        "outputId": "105f469c-1457-4836-f456-8d24b3f95835"
      },
      "execution_count": null,
      "outputs": [
        {
          "output_type": "stream",
          "name": "stdout",
          "text": [
            "/content/express-mock-api\n"
          ]
        }
      ]
    },
    {
      "cell_type": "markdown",
      "source": [
        "## Initialisation du projet\n",
        "\n",
        "Pour démarrer le projet, il est nécessaire de l'initialiser en utilisant la commande `npm init`, qui créera le fichier `package.json` qui contient des informations sur le projet. Une fois le projet initialisé, nous devons installer les dépendances nécessaires en utilisant la commande `npm install`."
      ],
      "metadata": {
        "id": "DMrfvltnU2Za"
      }
    },
    {
      "cell_type": "code",
      "source": [
        "!npm init -y"
      ],
      "metadata": {
        "id": "W7KHC4o8YvUm",
        "colab": {
          "base_uri": "https://localhost:8080/"
        },
        "outputId": "6c4e009a-0796-4716-dc9a-0e65487f642d"
      },
      "execution_count": null,
      "outputs": [
        {
          "output_type": "stream",
          "name": "stdout",
          "text": [
            "Wrote to /content/express-mock-api/package.json:\n",
            "\n",
            "{\n",
            "  \"name\": \"express-mock-api\",\n",
            "  \"version\": \"1.0.0\",\n",
            "  \"description\": \"\",\n",
            "  \"main\": \"index.js\",\n",
            "  \"scripts\": {\n",
            "    \"test\": \"echo \\\"Error: no test specified\\\" && exit 1\"\n",
            "  },\n",
            "  \"keywords\": [],\n",
            "  \"author\": \"\",\n",
            "  \"license\": \"ISC\"\n",
            "}\n",
            "\n",
            "\n"
          ]
        }
      ]
    },
    {
      "cell_type": "code",
      "source": [
        "!npm install express @faker-js/faker ejs --save"
      ],
      "metadata": {
        "id": "KueRwDcHY00S",
        "colab": {
          "base_uri": "https://localhost:8080/"
        },
        "outputId": "9e02320f-31d9-4cc2-e45e-275fb5a20944"
      },
      "execution_count": null,
      "outputs": [
        {
          "output_type": "stream",
          "name": "stdout",
          "text": [
            "\u001b[K\u001b[?25h\n",
            "added 79 packages, and audited 80 packages in 10s\n",
            "\n",
            "14 packages are looking for funding\n",
            "  run `npm fund` for details\n",
            "\n",
            "found \u001b[32m\u001b[1m0\u001b[22m\u001b[39m vulnerabilities\n",
            "\u001b[37;40mnpm\u001b[0m \u001b[0m\u001b[36;40mnotice\u001b[0m\u001b[35m\u001b[0m \n",
            "\u001b[0m\u001b[37;40mnpm\u001b[0m \u001b[0m\u001b[36;40mnotice\u001b[0m\u001b[35m\u001b[0m New \u001b[31mmajor\u001b[39m version of npm available! \u001b[31m9.8.1\u001b[39m -> \u001b[32m10.2.3\u001b[39m\n",
            "\u001b[0m\u001b[37;40mnpm\u001b[0m \u001b[0m\u001b[36;40mnotice\u001b[0m\u001b[35m\u001b[0m Changelog: \u001b[36mhttps://github.com/npm/cli/releases/tag/v10.2.3\u001b[39m\n",
            "\u001b[0m\u001b[37;40mnpm\u001b[0m \u001b[0m\u001b[36;40mnotice\u001b[0m\u001b[35m\u001b[0m Run \u001b[32mnpm install -g npm@10.2.3\u001b[39m to update!\n",
            "\u001b[0m\u001b[37;40mnpm\u001b[0m \u001b[0m\u001b[36;40mnotice\u001b[0m\u001b[35m\u001b[0m \n",
            "\u001b[0m"
          ]
        }
      ]
    },
    {
      "cell_type": "markdown",
      "source": [
        "## Les modèles\n",
        "\n",
        "Dans le contexte d'une API, les modèles définissent la structure des données que l'API gère. Ils agissent comme des modèles conceptuels pour les informations que l'API stocke, récupère et manipule. Chaque modèle correspond à un type spécifique d'entité, avec des propriétés et des attributs spécifiques.\n",
        "\n",
        "Dans le cadre de notre API, nous allons proposer deux modèles : `users` et `products`.\n",
        "\n",
        "* Le modèle `users` inclut des propriétés telles que le nom, l'adresse, et le numéro de téléphone.\n",
        "* Le modèle `products` comprend des informations telles que le nom du produit, la description et le prix.\n",
        "\n",
        "Pour générer des données aléatoires pour ces modèles, nous allons utiliser une bibliothèque [Faker.js](https://fakerjs.dev/). Faker.js est une bibliothèque JavaScript qui permet de créer des données fictives, telles que des noms, des adresses, des dates, etc.\n",
        "\n",
        "### Le modèle `users` :"
      ],
      "metadata": {
        "id": "gsVHjfpYNgES"
      }
    },
    {
      "cell_type": "code",
      "source": [
        "%%javascript --target=disk --filename=models/users.js\n",
        "\n",
        "const { fakerFR_CA: faker } = require('@faker-js/faker');\n",
        "\n",
        "faker.seed(525);\n",
        "const numberUsers = 15;\n",
        "\n",
        "const createUsers = (nUsers) => {\n",
        "\n",
        "    const users = new Map();\n",
        "    for (let i = 0; i < nUsers; i++) {\n",
        "        const gender = faker.person.sexType();\n",
        "        const user = {\n",
        "            _id: faker.string.uuid(),\n",
        "            firstName: faker.person.firstName(gender),\n",
        "            lastName: faker.person.lastName(gender),\n",
        "            address: faker.location.street(),\n",
        "            city: faker.location.city(),\n",
        "            province: faker.location.state({abbreviated: true}),\n",
        "            birthday: faker.date.birthdate().toISOString().split('T').shift(),\n",
        "            phone: faker.phone.number()\n",
        "        }\n",
        "        users.set(user._id, user);\n",
        "    }\n",
        "    return users;\n",
        "}\n",
        "\n",
        "class UserModel {\n",
        "    constructor() {\n",
        "        this.data = createUsers(numberUsers);\n",
        "    }\n",
        "\n",
        "    addUser(user) {\n",
        "        user._id = faker.string.uuid();\n",
        "        this.data.set(user._id, user);\n",
        "        return user;\n",
        "    }\n",
        "\n",
        "    find(userId) {\n",
        "        return this.data.get(userId);\n",
        "    }\n",
        "\n",
        "    allUsers() {\n",
        "        return Object.values(Object.fromEntries(this.data));\n",
        "    }\n",
        "}\n",
        "\n",
        "module.exports = new UserModel();"
      ],
      "metadata": {
        "id": "EcJVWMo4QB8L"
      },
      "execution_count": null,
      "outputs": []
    },
    {
      "cell_type": "markdown",
      "source": [
        "### Le modèle `products` :"
      ],
      "metadata": {
        "id": "G69awF-LQlge"
      }
    },
    {
      "cell_type": "code",
      "source": [
        "%%javascript --target=disk --filename=models/products.js\n",
        "\n",
        "const { fakerFR_CA: faker } = require('@faker-js/faker');\n",
        "\n",
        "faker.seed(525);\n",
        "const numberProducts = 50;\n",
        "\n",
        "const createProducts = (nProducts) => {\n",
        "    const products = new Map();\n",
        "    for (let i = 0; i < nProducts; i++) {\n",
        "        const prod = {\n",
        "            _id: faker.string.uuid(),\n",
        "            name: faker.commerce.productName(),\n",
        "            description: faker.commerce.productDescription(),\n",
        "            price: faker.commerce.price({min: 10, max: 200, dec: 2, symbol: 'C$'})\n",
        "        }\n",
        "        products.set(prod._id, prod);\n",
        "    }\n",
        "    return products;\n",
        "}\n",
        "\n",
        "class ProductModel {\n",
        "    constructor() {\n",
        "        this.data = createProducts(numberProducts);\n",
        "    }\n",
        "\n",
        "    addProduct(prod) {\n",
        "        prod._id = faker.string.uuid();\n",
        "        this.data.set(prod._id, prod);\n",
        "        return prod;\n",
        "    }\n",
        "\n",
        "    find(prodId) {\n",
        "        return this.data.get(prodId);\n",
        "    }\n",
        "\n",
        "    allProducts() {\n",
        "        return Object.fromEntries(this.data);\n",
        "    }\n",
        "}\n",
        "\n",
        "module.exports = new ProductModel();"
      ],
      "metadata": {
        "id": "PE4F3HYdQpWq"
      },
      "execution_count": null,
      "outputs": []
    },
    {
      "cell_type": "markdown",
      "source": [
        "## Les contrôleurs\n",
        "\n",
        "Les contrôleurs sont des composants qui gèrent la logique métier de l'API, en déterminant comment répondre aux différentes requêtes entrantes. Ils agissent comme des intermédiaires entre les routes de l'API et les modèles de données.\n",
        "\n",
        "Lorsqu'une requête HTTP arrive sur une route particulière, le contrôleur associé est responsable de l'exécution des actions nécessaires pour répondre à cette requête. Cette logique peut inclure la validation des données, l'accès à la base de données, la modification des données, ou la préparation de la réponse HTTP.\n",
        "\n",
        "### Module utilitaire aux contrôleurs :"
      ],
      "metadata": {
        "id": "SU9bruzPRVj2"
      }
    },
    {
      "cell_type": "code",
      "source": [
        "%%javascript --target=disk --filename=controllers/util.js\n",
        "\n",
        "class Response {\n",
        "\n",
        "    constructor(code, message, data) {\n",
        "        this.code = code;\n",
        "        this.message = message;\n",
        "        this.data = data;\n",
        "    }\n",
        "\n",
        "    static ok(data) {\n",
        "        return new Response(200, \"OK\", data);\n",
        "    }\n",
        "\n",
        "    static error(code, message, data) {\n",
        "        return new Response(code, message, data);\n",
        "    }\n",
        "}\n",
        "\n",
        "module.exports = { Response }"
      ],
      "metadata": {
        "id": "IDHJclypR-xr"
      },
      "execution_count": null,
      "outputs": []
    },
    {
      "cell_type": "markdown",
      "source": [
        "### Le contrôleur pour les produits :"
      ],
      "metadata": {
        "id": "8rCJwC3sR02l"
      }
    },
    {
      "cell_type": "code",
      "source": [
        "%%javascript --target=disk --filename=controllers/products.js\n",
        "\n",
        "const model = require(\"../models/products\");\n",
        "const { Response } = require(\"./util\");\n",
        "\n",
        "async function allProducts(req, res){\n",
        "    res.json(Response.ok(model.allProducts()));\n",
        "}\n",
        "\n",
        "async function addProduct(req, res){\n",
        "    const prod = model.addProduct(req.body);\n",
        "    if (prod) {\n",
        "        res.json(Response.ok(prod));\n",
        "    } else {\n",
        "        res.status(505);\n",
        "        res.json(Response.error(505, \"Erreur d'ajout de produit\"));\n",
        "    }\n",
        "}\n",
        "\n",
        "async function findProduct(req, res) {\n",
        "    let prod = model.find(req.params.prodId);\n",
        "    if (prod === undefined) {\n",
        "        res.status(404);\n",
        "        res.json(Response.error(404, \"Produit pas trouvé.\"));\n",
        "    } else {\n",
        "        res.json(Response.ok(prod));\n",
        "    }\n",
        "}\n",
        "\n",
        "module.exports = { allProducts, addProduct, findProduct };"
      ],
      "metadata": {
        "id": "85X-otr6RjRt"
      },
      "execution_count": null,
      "outputs": []
    },
    {
      "cell_type": "markdown",
      "source": [
        "### Le contrôleur pour les utilisateurs :"
      ],
      "metadata": {
        "id": "LWYniUv7SJrC"
      }
    },
    {
      "cell_type": "code",
      "source": [
        "%%javascript --target=disk --filename=controllers/users.js\n",
        "\n",
        "const model = require(\"../models/users\");\n",
        "const { Response } = require(\"./util\");\n",
        "\n",
        "async function allUsers(req, res){\n",
        "    res.json(Response.ok(model.allUsers()));\n",
        "}\n",
        "\n",
        "async function addUser(req, res){\n",
        "    const user = model.addUser(req.body);\n",
        "    if (user) {\n",
        "        res.json(Response.ok(user));\n",
        "    } else {\n",
        "        res.status(505);\n",
        "        res.json(Response.error(505, \"Erreur d'ajout d'utilisateur\"));\n",
        "    }\n",
        "}\n",
        "\n",
        "async function findUser(req, res) {\n",
        "    let user = model.find(req.params.userId);\n",
        "    if (user === undefined) {\n",
        "        res.status(404);\n",
        "        res.json(Response.error(404, \"Utilisateur pas trouvé.\"));\n",
        "    } else {\n",
        "        res.json(Response.ok(user));\n",
        "    }\n",
        "}\n",
        "\n",
        "module.exports = { allUsers, addUser, findUser };"
      ],
      "metadata": {
        "id": "t_EGmpN-SWSn"
      },
      "execution_count": null,
      "outputs": []
    },
    {
      "cell_type": "markdown",
      "source": [
        "## Les routeurs\n",
        "\n",
        "Les routeurs agissent comme des gestionnaires de flux de trafic, dirigeant les requêtes HTTP vers les destinations appropriées en fonction de l'URI (*Uniform Resource Identifier*) demandée.\n",
        "\n",
        "Les routeurs déterminent quelles actions ou contrôleurs doivent être appelés pour répondre à une requête spécifique. Ils permettent de diviser l'application en segments logiques et de définir des groupes de routes en fonction de leur contexte et de leur fonction.\n",
        "\n",
        "### Le routeur pour les utilisateurs :"
      ],
      "metadata": {
        "id": "ij9V6qawTRYh"
      }
    },
    {
      "cell_type": "code",
      "source": [
        "%%javascript --target=disk --filename=routers/users.js\n",
        "\n",
        "const { Router } = require(\"express\");\n",
        "const controller = require(\"../controllers/users\");\n",
        "\n",
        "const router = Router();\n",
        "\n",
        "router.route(\"/api/users\")\n",
        "    .get(controller.allUsers)\n",
        "    .post(controller.addUser);\n",
        "\n",
        "router.route(\"/api/users/:userId\")\n",
        "    .get(controller.findUser);\n",
        "\n",
        "module.exports = router;"
      ],
      "metadata": {
        "id": "UujxwjBgTizO"
      },
      "execution_count": null,
      "outputs": []
    },
    {
      "cell_type": "markdown",
      "source": [
        "### Le routeur pour les produits :"
      ],
      "metadata": {
        "id": "wvwDciJ_TsdP"
      }
    },
    {
      "cell_type": "code",
      "source": [
        "%%javascript --target=disk --filename=routers/products.js\n",
        "\n",
        "const { Router } = require(\"express\");\n",
        "const controller = require(\"../controllers/products\");\n",
        "\n",
        "const router = Router();\n",
        "\n",
        "router.route(\"/api/products\")\n",
        "    .get(controller.allProducts)\n",
        "    .post(controller.addProduct);\n",
        "\n",
        "router.route(\"/api/products/:prodId\")\n",
        "    .get(controller.findProduct);\n",
        "\n",
        "module.exports = router;"
      ],
      "metadata": {
        "id": "oAVSbRjiTyX2"
      },
      "execution_count": null,
      "outputs": []
    },
    {
      "cell_type": "markdown",
      "source": [
        "## L'application principale\n",
        "\n",
        "Finalement, le fichier `index.js` fera l'intégration des routeurs pour diriger le trafic des requêtes. Le fichier démarre l'instance d'Express, puis relie les routeurs pour gérer les différentes parties de l'application."
      ],
      "metadata": {
        "id": "m7f6DC4nUiL3"
      }
    },
    {
      "cell_type": "code",
      "source": [
        "%%javascript --target=node --filename=index.js --port=3000\n",
        "\n",
        "const express = require('express');\n",
        "const prodRouter = require(\"./routers/products\");\n",
        "const userRouter = require(\"./routers/users\");\n",
        "\n",
        "const PORT = process.env.NODE_PORT || 3000;\n",
        "\n",
        "const app = express();\n",
        "\n",
        "app.use(express.json());\n",
        "app.use(prodRouter);\n",
        "app.use(userRouter);\n",
        "\n",
        "app.listen(PORT, () => {\n",
        "    console.log(`Serveur écoutant sur le port ${PORT}`)\n",
        "});"
      ],
      "metadata": {
        "id": "jSTcPa7DUlyI",
        "colab": {
          "base_uri": "https://localhost:8080/"
        },
        "outputId": "8ad86fcc-9cfc-404a-9e94-a7bb204a87e1"
      },
      "execution_count": null,
      "outputs": [
        {
          "output_type": "stream",
          "name": "stdout",
          "text": [
            "Serveur écoutant sur le port 3000\n"
          ]
        }
      ]
    },
    {
      "cell_type": "markdown",
      "source": [
        "## Tester l'API REST à l'aide de `curl`\n",
        "\n",
        "Une fois le serveur démarré, nous pouvons utiliser `curl` pour tester notre API.\n",
        "\n",
        "Pour obtenir la liste des utilisateurs :"
      ],
      "metadata": {
        "id": "10TVyqCPZJ3A"
      }
    },
    {
      "cell_type": "code",
      "source": [
        "!curl -s http://localhost:3000/api/users | json_pp"
      ],
      "metadata": {
        "id": "3ojzb17aZVZK",
        "colab": {
          "base_uri": "https://localhost:8080/"
        },
        "outputId": "1490ea3a-c708-4c81-eec6-13999c652204"
      },
      "execution_count": null,
      "outputs": [
        {
          "output_type": "stream",
          "name": "stdout",
          "text": [
            "{\n",
            "   \"code\" : 200,\n",
            "   \"data\" : [\n",
            "      {\n",
            "         \"_id\" : \"f6cc455f-7b8d-4034-b91b-473d280c7c83\",\n",
            "         \"address\" : \"Meunier de la Paix\",\n",
            "         \"birthday\" : \"1982-04-13\",\n",
            "         \"city\" : \"Rollandfield\",\n",
            "         \"firstName\" : \"Armin\",\n",
            "         \"lastName\" : \"Julien\",\n",
            "         \"phone\" : \"653 565-9618\",\n",
            "         \"province\" : \"MB\"\n",
            "      },\n",
            "      {\n",
            "         \"_id\" : \"72dcd569-e046-46f7-975a-ae1c7d94e18a\",\n",
            "         \"address\" : \"Blanc des Francs-Bourgeois\",\n",
            "         \"birthday\" : \"1981-09-04\",\n",
            "         \"city\" : \"Rouxfort\",\n",
            "         \"firstName\" : \"Agnès\",\n",
            "         \"lastName\" : \"Boyer\",\n",
            "         \"phone\" : \"614 609-9925\",\n",
            "         \"province\" : \"NL\"\n",
            "      },\n",
            "      {\n",
            "         \"_id\" : \"cac5f8d8-0d8b-41ee-9c40-5e2c710fb5bd\",\n",
            "         \"address\" : \"Élisée Pastourelle\",\n",
            "         \"birthday\" : \"1977-02-19\",\n",
            "         \"city\" : \"Robertside\",\n",
            "         \"firstName\" : \"Alphonsine\",\n",
            "         \"lastName\" : \"Marchand\",\n",
            "         \"phone\" : \"388 476-5471, poste 069\",\n",
            "         \"province\" : \"SK\"\n",
            "      },\n",
            "      {\n",
            "         \"_id\" : \"82a869c5-292b-4edc-9096-8808fa3217ba\",\n",
            "         \"address\" : \"Rodriguez Saint-Denis\",\n",
            "         \"birthday\" : \"1955-06-23\",\n",
            "         \"city\" : \"New Amelineworth\",\n",
            "         \"firstName\" : \"Théodore\",\n",
            "         \"lastName\" : \"Collet\",\n",
            "         \"phone\" : \"1 118 813-8420\",\n",
            "         \"province\" : \"NB\"\n",
            "      },\n",
            "      {\n",
            "         \"_id\" : \"5948f9a9-19ba-4e29-aa10-6cffa78be68c\",\n",
            "         \"address\" : \"Marchand de la Paix\",\n",
            "         \"birthday\" : \"1970-07-16\",\n",
            "         \"city\" : \"Fontaineview\",\n",
            "         \"firstName\" : \"Léopold\",\n",
            "         \"lastName\" : \"Hubert\",\n",
            "         \"phone\" : \"1 018 485-8516\",\n",
            "         \"province\" : \"SK\"\n",
            "      },\n",
            "      {\n",
            "         \"_id\" : \"ebe374b4-a003-4690-bff1-53ede2a2bffa\",\n",
            "         \"address\" : \"Marceline du Chat-qui-Pêche\",\n",
            "         \"birthday\" : \"1991-09-17\",\n",
            "         \"city\" : \"Cédricfield\",\n",
            "         \"firstName\" : \"Adalard\",\n",
            "         \"lastName\" : \"Henry\",\n",
            "         \"phone\" : \"260 545-6122\",\n",
            "         \"province\" : \"NB\"\n",
            "      },\n",
            "      {\n",
            "         \"_id\" : \"c78c1b8c-7b4c-470a-a3b4-d03dd6a4d285\",\n",
            "         \"address\" : \"Florent de la Harpe\",\n",
            "         \"birthday\" : \"1961-12-11\",\n",
            "         \"city\" : \"West Alcyone\",\n",
            "         \"firstName\" : \"Émile\",\n",
            "         \"lastName\" : \"Dufour\",\n",
            "         \"phone\" : \"298 229-4551\",\n",
            "         \"province\" : \"AB\"\n",
            "      },\n",
            "      {\n",
            "         \"_id\" : \"432711e4-91d5-42f5-8d65-1ae4b8bbb833\",\n",
            "         \"address\" : \"Sanchez de l'Abbaye\",\n",
            "         \"birthday\" : \"1952-09-21\",\n",
            "         \"city\" : \"Da silvamouth\",\n",
            "         \"firstName\" : \"Clotaire\",\n",
            "         \"lastName\" : \"Carpentier\",\n",
            "         \"phone\" : \"856 444-6943\",\n",
            "         \"province\" : \"ON\"\n",
            "      },\n",
            "      {\n",
            "         \"_id\" : \"c362b780-550f-4573-b639-fbeb2039cd1a\",\n",
            "         \"address\" : \"Jeannot des Saussaies\",\n",
            "         \"birthday\" : \"1975-10-18\",\n",
            "         \"city\" : \"Schneiderboro\",\n",
            "         \"firstName\" : \"Aube\",\n",
            "         \"lastName\" : \"Morel\",\n",
            "         \"phone\" : \"710 172-6522\",\n",
            "         \"province\" : \"NS\"\n",
            "      },\n",
            "      {\n",
            "         \"_id\" : \"a3d565a8-f4db-42a5-b002-c0978815c4ab\",\n",
            "         \"address\" : \"Picard Lepic\",\n",
            "         \"birthday\" : \"2001-05-20\",\n",
            "         \"city\" : \"Renardfort\",\n",
            "         \"firstName\" : \"Cécile\",\n",
            "         \"lastName\" : \"Roux\",\n",
            "         \"phone\" : \"678 568-8235\",\n",
            "         \"province\" : \"NT\"\n",
            "      },\n",
            "      {\n",
            "         \"_id\" : \"eca9d127-84fc-4559-9323-989e5fbec925\",\n",
            "         \"address\" : \"Auxence de l'Odéon\",\n",
            "         \"birthday\" : \"1998-05-10\",\n",
            "         \"city\" : \"Port Clotaire\",\n",
            "         \"firstName\" : \"Aricie\",\n",
            "         \"lastName\" : \"Nicolas\",\n",
            "         \"phone\" : \"279 221-6287\",\n",
            "         \"province\" : \"AB\"\n",
            "      },\n",
            "      {\n",
            "         \"_id\" : \"ba5fd296-7ba5-49e1-8d48-153c93434493\",\n",
            "         \"address\" : \"Rodrigue des Francs-Bourgeois\",\n",
            "         \"birthday\" : \"1971-08-04\",\n",
            "         \"city\" : \"Fort Clarisse\",\n",
            "         \"firstName\" : \"Mégane\",\n",
            "         \"lastName\" : \"Fernandez\",\n",
            "         \"phone\" : \"964 266-3444\",\n",
            "         \"province\" : \"NB\"\n",
            "      },\n",
            "      {\n",
            "         \"_id\" : \"107a76ab-9c4b-45aa-87cc-c25c21de9c93\",\n",
            "         \"address\" : \"Bernard Lepic\",\n",
            "         \"birthday\" : \"2003-07-24\",\n",
            "         \"city\" : \"New Nathanaëlburgh\",\n",
            "         \"firstName\" : \"Parfait\",\n",
            "         \"lastName\" : \"Schneider\",\n",
            "         \"phone\" : \"385 733-6429\",\n",
            "         \"province\" : \"PE\"\n",
            "      },\n",
            "      {\n",
            "         \"_id\" : \"ec36be7f-ae05-42be-a0c0-ff18d42d7096\",\n",
            "         \"address\" : \"Althée des Grands Augustins\",\n",
            "         \"birthday\" : \"1943-05-15\",\n",
            "         \"city\" : \"Fort Huguetteland\",\n",
            "         \"firstName\" : \"Cyprien\",\n",
            "         \"lastName\" : \"Richard\",\n",
            "         \"phone\" : \"704 397-3287\",\n",
            "         \"province\" : \"AB\"\n",
            "      },\n",
            "      {\n",
            "         \"_id\" : \"451f74b3-4439-426d-9f98-7fc9c1ca6757\",\n",
            "         \"address\" : \"Arthurine de Presbourg\",\n",
            "         \"birthday\" : \"1972-07-14\",\n",
            "         \"city\" : \"East Clémentineton\",\n",
            "         \"firstName\" : \"Odile\",\n",
            "         \"lastName\" : \"Jean\",\n",
            "         \"phone\" : \"1 971 626-0467\",\n",
            "         \"province\" : \"MB\"\n",
            "      }\n",
            "   ],\n",
            "   \"message\" : \"OK\"\n",
            "}\n"
          ]
        }
      ]
    },
    {
      "cell_type": "markdown",
      "source": [
        "Pour obtenir des informations sur l'utilsateur dont l ídentifiant est `a75c3569-d6db-4f48-a76e-6c02e0116cce` :"
      ],
      "metadata": {
        "id": "TfaglYk-apBy"
      }
    },
    {
      "cell_type": "code",
      "source": [
        "!curl -s http://localhost:3000/api/users/ec36be7f-ae05-42be-a0c0-ff18d42d7096 | json_pp"
      ],
      "metadata": {
        "id": "lf3Xozb8a2P-",
        "colab": {
          "base_uri": "https://localhost:8080/"
        },
        "outputId": "55691c6e-dab0-4a2f-fca1-b96435e1253f"
      },
      "execution_count": null,
      "outputs": [
        {
          "output_type": "stream",
          "name": "stdout",
          "text": [
            "{\n",
            "   \"code\" : 200,\n",
            "   \"data\" : {\n",
            "      \"_id\" : \"ec36be7f-ae05-42be-a0c0-ff18d42d7096\",\n",
            "      \"address\" : \"Althée des Grands Augustins\",\n",
            "      \"birthday\" : \"1943-05-15\",\n",
            "      \"city\" : \"Fort Huguetteland\",\n",
            "      \"firstName\" : \"Cyprien\",\n",
            "      \"lastName\" : \"Richard\",\n",
            "      \"phone\" : \"704 397-3287\",\n",
            "      \"province\" : \"AB\"\n",
            "   },\n",
            "   \"message\" : \"OK\"\n",
            "}\n"
          ]
        }
      ]
    },
    {
      "cell_type": "markdown",
      "source": [
        "Pour obtenir la liste des produits :"
      ],
      "metadata": {
        "id": "Hgj6Wga9a-Uq"
      }
    },
    {
      "cell_type": "code",
      "source": [
        "!curl -s http://localhost:3000/api/products | json_pp"
      ],
      "metadata": {
        "id": "qWfvD7KobDB2"
      },
      "execution_count": null,
      "outputs": []
    },
    {
      "cell_type": "markdown",
      "source": [
        "## Activité en classe\n",
        "------------\n",
        "\n",
        "Dans l'exemple d'API REST que nous avons présenté, vous devez implémenter les routes pour la mise à jour et suppression de produits et d'utilisateurs. Vous aurez à mettre à jour les routeurs, les contrôleurs et les modèles pour permettre cette mise à jour.\n",
        "\n",
        "**Solution disponible avec l'exemple complet sur l'entrepôt git du cours**"
      ],
      "metadata": {
        "id": "hgHmlTZwbGfK"
      }
    },
    {
      "cell_type": "markdown",
      "source": [
        "# JSON Server pour la conception d'une API REST factice\n",
        "---------\n",
        "\n",
        "[JSON Server](https://github.com/typicode/json-server) est un outil pour créer des API factices (*Mock API*) qui utilisent des fichiers JSON comme source de données. C'est une solution simple et légère qui permet de créer rapidement une API simulée à partir de données stockées dans des fichiers JSON, sans nécessiter de configuration de serveur complexe ni de gestion de base de données.\n",
        "\n",
        "Pour utiliser JSON Server, il vous suffit d'installer l'outil via npm et de créer un fichier JSON qui contiendra les données de référence."
      ],
      "metadata": {
        "id": "BN1R-Sx3UY44"
      }
    },
    {
      "cell_type": "code",
      "source": [
        "\"\"\"\n",
        "Pour modifier le répertoire de travail de Colab.\n",
        "\"\"\"\n",
        "%cd /content/json-mock-api/"
      ],
      "metadata": {
        "id": "7DidqVudy68g",
        "colab": {
          "base_uri": "https://localhost:8080/"
        },
        "outputId": "89a6a762-1f47-4c11-9516-64b3a40b5041"
      },
      "execution_count": null,
      "outputs": [
        {
          "output_type": "stream",
          "name": "stdout",
          "text": [
            "/content/json-mock-api\n"
          ]
        }
      ]
    },
    {
      "cell_type": "markdown",
      "source": [
        "Nous allons simplemente créer le fichier `package.json` manuellement et installer les dépendances :"
      ],
      "metadata": {
        "id": "WcoyqeQMzGtO"
      }
    },
    {
      "cell_type": "code",
      "source": [
        "%%writefile package.json\n",
        "{\n",
        "  \"name\": \"json-mock-api\",\n",
        "  \"version\": \"1.0.0\",\n",
        "  \"description\": \"Example d'API de simulation avec JSONServer\",\n",
        "  \"author\": \"Marcos Dias de Assuncao\",\n",
        "  \"license\": \"MIT\",\n",
        "  \"dependencies\": {\n",
        "    \"@faker-js/faker\": \"^8.2.0\",\n",
        "    \"json-server\": \"^0.17.4\",\n",
        "    \"lodash\": \"^4.17.21\"\n",
        "  }\n",
        "}"
      ],
      "metadata": {
        "id": "eA-MhZcTzQ6a",
        "colab": {
          "base_uri": "https://localhost:8080/"
        },
        "outputId": "2da54955-7924-473b-e879-64a5a471c76a"
      },
      "execution_count": null,
      "outputs": [
        {
          "output_type": "stream",
          "name": "stdout",
          "text": [
            "Writing package.json\n"
          ]
        }
      ]
    },
    {
      "cell_type": "code",
      "source": [
        "!npm install"
      ],
      "metadata": {
        "id": "rDtiNItozX1t",
        "colab": {
          "base_uri": "https://localhost:8080/"
        },
        "outputId": "a7a15a09-692a-48e3-f1b2-808ca779398f"
      },
      "execution_count": null,
      "outputs": [
        {
          "output_type": "stream",
          "name": "stdout",
          "text": [
            "\u001b[K\u001b[?25h\n",
            "added 117 packages, and audited 118 packages in 13s\n",
            "\n",
            "16 packages are looking for funding\n",
            "  run `npm fund` for details\n",
            "\n",
            "found \u001b[32m\u001b[1m0\u001b[22m\u001b[39m vulnerabilities\n",
            "\u001b[37;40mnpm\u001b[0m \u001b[0m\u001b[36;40mnotice\u001b[0m\u001b[35m\u001b[0m \n",
            "\u001b[0m\u001b[37;40mnpm\u001b[0m \u001b[0m\u001b[36;40mnotice\u001b[0m\u001b[35m\u001b[0m New \u001b[31mmajor\u001b[39m version of npm available! \u001b[31m9.8.1\u001b[39m -> \u001b[32m10.2.4\u001b[39m\n",
            "\u001b[0m\u001b[37;40mnpm\u001b[0m \u001b[0m\u001b[36;40mnotice\u001b[0m\u001b[35m\u001b[0m Changelog: \u001b[36mhttps://github.com/npm/cli/releases/tag/v10.2.4\u001b[39m\n",
            "\u001b[0m\u001b[37;40mnpm\u001b[0m \u001b[0m\u001b[36;40mnotice\u001b[0m\u001b[35m\u001b[0m Run \u001b[32mnpm install -g npm@10.2.4\u001b[39m to update!\n",
            "\u001b[0m\u001b[37;40mnpm\u001b[0m \u001b[0m\u001b[36;40mnotice\u001b[0m\u001b[35m\u001b[0m \n",
            "\u001b[0m"
          ]
        }
      ]
    },
    {
      "cell_type": "markdown",
      "source": [
        "## Création du fichier source des données\n",
        "\n",
        "JSON server utilise un fichier JSON qui sert comme base de données. Le code de la cellule ci-dessous créera un fichier JSON qui contiendra essentiellement les informations sur les utilisateurs et des produits que nous avons vues dans la version Express de notre API."
      ],
      "metadata": {
        "id": "U6hj10rm0fKy"
      }
    },
    {
      "cell_type": "code",
      "source": [
        "%%javascript --target=node --filename=create_db.js\n",
        "\n",
        "const { fakerFR_CA: faker } = require('@faker-js/faker');\n",
        "const _ = require('lodash');\n",
        "const fs = require(\"fs\");\n",
        "\n",
        "faker.seed(525);\n",
        "faker.setDefaultRefDate('2023-09-01T00:00:00.000Z');\n",
        "const numberUsers = 15;\n",
        "const numberProducts = 50;\n",
        "const databaseFile = 'db.json';\n",
        "\n",
        "const createUser = () => {\n",
        "    const gender = faker.person.sexType();\n",
        "    return {\n",
        "        id: faker.string.uuid(),\n",
        "        firstName: faker.person.firstName(gender),\n",
        "        lastName: faker.person.lastName(gender),\n",
        "        address: faker.location.street(),\n",
        "        city: faker.location.city(),\n",
        "        province: faker.location.state({abbreviated: true}),\n",
        "        birthday: faker.date.birthdate().toISOString().split('T').shift(),\n",
        "        phone: faker.phone.number()\n",
        "    }\n",
        "}\n",
        "\n",
        "const createProduct = () => {\n",
        "    return {\n",
        "        id: faker.string.uuid(),\n",
        "        name: faker.commerce.productName(),\n",
        "        description: faker.commerce.productDescription(),\n",
        "        price: faker.commerce.price({min: 10, max: 200, dec: 2, symbol: 'C$'})\n",
        "    }\n",
        "}\n",
        "\n",
        "try {\n",
        "    console.log(`En train de créer le fichier ${databaseFile}`);\n",
        "    const users = _.times(numberUsers, createUser);\n",
        "    const products = _.times(numberProducts, createProduct);\n",
        "    fs.writeFileSync(databaseFile, JSON.stringify({ users, products }, null, 2));\n",
        "    console.log(`Fichier ${databaseFile} crée.`);\n",
        "} catch(err) {\n",
        "    console.error(`Erreur dans la création de la BD: ${err.message}`);\n",
        "}"
      ],
      "metadata": {
        "id": "sVYU3Gw_FfyL",
        "colab": {
          "base_uri": "https://localhost:8080/"
        },
        "outputId": "863b9f02-36bc-43c0-a229-a2acf89596a5"
      },
      "execution_count": null,
      "outputs": [
        {
          "output_type": "stream",
          "name": "stdout",
          "text": [
            "En train de créer le fichier db.json\n",
            "Fichier db.json crée.\n"
          ]
        }
      ]
    },
    {
      "cell_type": "code",
      "source": [
        "!head -n 30 db.json"
      ],
      "metadata": {
        "id": "xvvLItQoX6qg",
        "colab": {
          "base_uri": "https://localhost:8080/"
        },
        "outputId": "a38e1df7-cecc-4440-dc1f-aa0ac43bc0bb"
      },
      "execution_count": null,
      "outputs": [
        {
          "output_type": "stream",
          "name": "stdout",
          "text": [
            "{\n",
            "  \"users\": [\n",
            "    {\n",
            "      \"id\": \"f6cc455f-7b8d-4034-b91b-473d280c7c83\",\n",
            "      \"firstName\": \"Armin\",\n",
            "      \"lastName\": \"Julien\",\n",
            "      \"address\": \"Meunier de la Paix\",\n",
            "      \"city\": \"Rollandfield\",\n",
            "      \"province\": \"MB\",\n",
            "      \"birthday\": \"1982-04-13\",\n",
            "      \"phone\": \"653 565-9618\"\n",
            "    },\n",
            "    {\n",
            "      \"id\": \"72dcd569-e046-46f7-975a-ae1c7d94e18a\",\n",
            "      \"firstName\": \"Agnès\",\n",
            "      \"lastName\": \"Boyer\",\n",
            "      \"address\": \"Blanc des Francs-Bourgeois\",\n",
            "      \"city\": \"Rouxfort\",\n",
            "      \"province\": \"NL\",\n",
            "      \"birthday\": \"1981-09-04\",\n",
            "      \"phone\": \"614 609-9925\"\n",
            "    },\n",
            "    {\n",
            "      \"id\": \"cac5f8d8-0d8b-41ee-9c40-5e2c710fb5bd\",\n",
            "      \"firstName\": \"Alphonsine\",\n",
            "      \"lastName\": \"Marchand\",\n",
            "      \"address\": \"Élisée Pastourelle\",\n",
            "      \"city\": \"Robertside\",\n",
            "      \"province\": \"SK\",\n",
            "      \"birthday\": \"1977-02-19\",\n"
          ]
        }
      ]
    },
    {
      "cell_type": "markdown",
      "source": [
        "Maintenant nous pouvons démarrer JSONServer qui créera l'API REST selon les ressources spécifiées dans le fichier `db.json`:"
      ],
      "metadata": {
        "id": "H56MwCvcGXv2"
      }
    },
    {
      "cell_type": "code",
      "source": [
        "%%javascript --target=node --filename=index.js --port=3000\n",
        "\n",
        "const jsonServer = require('json-server');\n",
        "\n",
        "const port = process.env.NODE_PORT || 3000;\n",
        "const server = jsonServer.create();\n",
        "const router = jsonServer.router(\"./db.json\");\n",
        "const middlewares = jsonServer.defaults();\n",
        "\n",
        "server.use(middlewares);\n",
        "server.use(router);\n",
        "\n",
        "server.listen(port, () => {\n",
        "    console.log('JSON Server écoute le port ' + port);\n",
        "})"
      ],
      "metadata": {
        "id": "yZaR9vGbG5Q8",
        "colab": {
          "base_uri": "https://localhost:8080/"
        },
        "outputId": "4deb5155-fa78-4dbf-e78d-cb5ce8f91d9b"
      },
      "execution_count": null,
      "outputs": [
        {
          "output_type": "stream",
          "name": "stdout",
          "text": [
            "JSON Server écoute le port 3000\n"
          ]
        }
      ]
    },
    {
      "cell_type": "markdown",
      "source": [
        "## Tester l'API REST\n",
        "\n",
        "Nous pouvons utiliser `curl` pour tester l'API, de la même façon que nous l'avons utilisé pour la version Express de l'API."
      ],
      "metadata": {
        "id": "f4S3tHSrJVmN"
      }
    },
    {
      "cell_type": "code",
      "source": [
        "!curl -s http://localhost:3000/users?_limit=3"
      ],
      "metadata": {
        "id": "A6O0njptKP1j",
        "colab": {
          "base_uri": "https://localhost:8080/"
        },
        "outputId": "b37b4566-bf87-4045-9f7f-834f42afadb4"
      },
      "execution_count": null,
      "outputs": [
        {
          "output_type": "stream",
          "name": "stdout",
          "text": [
            "\u001b[0mGET /users?_limit=3 \u001b[32m200\u001b[0m 7.928 ms - 792\u001b[0m\n",
            "[\n",
            "  {\n",
            "    \"id\": \"f6cc455f-7b8d-4034-b91b-473d280c7c83\",\n",
            "    \"firstName\": \"Armin\",\n",
            "    \"lastName\": \"Julien\",\n",
            "    \"address\": \"Meunier de la Paix\",\n",
            "    \"city\": \"Rollandfield\",\n",
            "    \"province\": \"MB\",\n",
            "    \"birthday\": \"1982-04-13\",\n",
            "    \"phone\": \"653 565-9618\"\n",
            "  },\n",
            "  {\n",
            "    \"id\": \"72dcd569-e046-46f7-975a-ae1c7d94e18a\",\n",
            "    \"firstName\": \"Agnès\",\n",
            "    \"lastName\": \"Boyer\",\n",
            "    \"address\": \"Blanc des Francs-Bourgeois\",\n",
            "    \"city\": \"Rouxfort\",\n",
            "    \"province\": \"NL\",\n",
            "    \"birthday\": \"1981-09-04\",\n",
            "    \"phone\": \"614 609-9925\"\n",
            "  },\n",
            "  {\n",
            "    \"id\": \"cac5f8d8-0d8b-41ee-9c40-5e2c710fb5bd\",\n",
            "    \"firstName\": \"Alphonsine\",\n",
            "    \"lastName\": \"Marchand\",\n",
            "    \"address\": \"Élisée Pastourelle\",\n",
            "    \"city\": \"Robertside\",\n",
            "    \"province\": \"SK\",\n",
            "    \"birthday\": \"1977-02-19\",\n",
            "    \"phone\": \"388 476-5471, poste 069\"\n",
            "  }\n",
            "]"
          ]
        }
      ]
    },
    {
      "cell_type": "markdown",
      "source": [
        "Pour obtenir les informations de l'utilisateur dont l'identifiant est `f6cc455f-7b8d-4034-b91b-473d280c7c83` :"
      ],
      "metadata": {
        "id": "lvNpePzYhlWD"
      }
    },
    {
      "cell_type": "code",
      "source": [
        "!curl -s http://localhost:3000/users/f6cc455f-7b8d-4034-b91b-473d280c7c83"
      ],
      "metadata": {
        "id": "ORGO3oSThM4R",
        "colab": {
          "base_uri": "https://localhost:8080/"
        },
        "outputId": "83015685-bcdb-4e7f-d834-756e6211e494"
      },
      "execution_count": null,
      "outputs": [
        {
          "output_type": "stream",
          "name": "stdout",
          "text": [
            "\u001b[0mGET /users/f6cc455f-7b8d-4034-b91b-473d280c7c83 \u001b[32m200\u001b[0m 6.034 ms - 234\u001b[0m\n",
            "{\n",
            "  \"id\": \"f6cc455f-7b8d-4034-b91b-473d280c7c83\",\n",
            "  \"firstName\": \"Armin\",\n",
            "  \"lastName\": \"Julien\",\n",
            "  \"address\": \"Meunier de la Paix\",\n",
            "  \"city\": \"Rollandfield\",\n",
            "  \"province\": \"MB\",\n",
            "  \"birthday\": \"1982-04-13\",\n",
            "  \"phone\": \"653 565-9618\"\n",
            "}"
          ]
        }
      ]
    },
    {
      "cell_type": "markdown",
      "source": [
        "Pour obtenir les trois premiers produits:"
      ],
      "metadata": {
        "id": "U-d44YIDKYCs"
      }
    },
    {
      "cell_type": "code",
      "source": [
        "!curl -s http://localhost:3000/products?_limit=3"
      ],
      "metadata": {
        "id": "q3vjydlZKmDN",
        "colab": {
          "base_uri": "https://localhost:8080/"
        },
        "outputId": "a0417112-b21e-41ba-9585-b396eb092ce5"
      },
      "execution_count": null,
      "outputs": [
        {
          "output_type": "stream",
          "name": "stdout",
          "text": [
            "\u001b[0mGET /products?_limit=3 \u001b[32m200\u001b[0m 2.944 ms - 1185\u001b[0m\n",
            "[\n",
            "  {\n",
            "    \"id\": \"4a75c356-9d6d-4bf4-b876-e6c02e0116cc\",\n",
            "    \"name\": \"Artisanal Granit Savon\",\n",
            "    \"description\": \"Ce magnifique radio-phono comprend un excellent récepteur radioL'ensemble, dans une belle ébénisterie teintée palissandre, forme un très phonique 6 lampes et un tourne-disque de vitesses placé sous le couvercle. Beau meuble. Ce modèle, dont le montage particulièrement soigne assure un très bon rendement aussi bien en radio qu'en phono, est garanti mn an.\",\n",
            "    \"price\": \"C$120.00\"\n",
            "  },\n",
            "  {\n",
            "    \"id\": \"e171d1a0-5326-46aa-90dd-e4e8382fdd5b\",\n",
            "    \"name\": \"Petit Granit Clavier\",\n",
            "    \"description\": \"Ces médailles et épingles sont en argent avec patine artistique. Elles ont été composées et frappées spécialement dans les ateliers de l'État pour la Société l'Hirondelle.\",\n",
            "    \"price\": \"C$145.00\"\n",
            "  },\n",
            "  {\n",
            "    \"id\": \"7b5afe96-a4e6-4a8b-9b7a-84e019bbf3c9\",\n",
            "    \"name\": \"Luxueux Plastique Boule\",\n",
            "    \"description\": \"Carrosserie en tôle d'acier laqué blanc montée sur roues pour faciliter le déplacement, couvercle laqué blanc, dessus et cuve en métal émaille marron, inaltérable a l'eau de lessive et a la chaleur,\",\n",
            "    \"price\": \"C$173.00\"\n",
            "  }\n",
            "]"
          ]
        }
      ]
    },
    {
      "cell_type": "markdown",
      "source": [
        "Pour envoyer une requête `OPTIONS` pour obtenir et afficher les en-têtes qui contiennent des informations sur quelles opérations sont possibles pour la ressource `/users`:"
      ],
      "metadata": {
        "id": "3oRLTUkNKn2p"
      }
    },
    {
      "cell_type": "code",
      "source": [
        "!curl -s -I -X OPTIONS http://localhost:3000/users"
      ],
      "metadata": {
        "id": "XfoUsb7bLAXC",
        "colab": {
          "base_uri": "https://localhost:8080/"
        },
        "outputId": "271bd6b9-bd52-4d0f-93ea-b9d29735bd92"
      },
      "execution_count": null,
      "outputs": [
        {
          "output_type": "stream",
          "name": "stdout",
          "text": [
            "HTTP/1.1 204 No Content\r\n",
            "\u001b[1mX-Powered-By\u001b[0m: Express\r\n",
            "\u001b[1mVary\u001b[0m: Origin, Access-Control-Request-Headers\r\n",
            "\u001b[1mAccess-Control-Allow-Credentials\u001b[0m: true\r\n",
            "\u001b[1mAccess-Control-Allow-Methods\u001b[0m: GET,HEAD,PUT,PATCH,POST,DELETE\r\n",
            "\u001b[1mContent-Length\u001b[0m: 0\r\n",
            "\u001b[1mDate\u001b[0m: Tue, 07 Nov 2023 01:30:30 GMT\r\n",
            "\u001b[1mConnection\u001b[0m: keep-alive\r\n",
            "\u001b[1mKeep-Alive\u001b[0m: timeout=5\r\n",
            "\r\n"
          ]
        }
      ]
    },
    {
      "cell_type": "markdown",
      "source": [
        "Pour ajouter un nouvel utilisateur, il nous faut:\n",
        "\n",
        "- Émettre une requête HTTP type `POST`\n",
        "- Fournir l'en-tête `Content-Type: application/json` pour indiquer que le contenu du corps de la requête contient un objet JSON.\n",
        "- Fournir l'entrée à ajouter dans le format JSON.\n",
        "\n",
        "Le serveur retournera l'entrée ajouté si la requête a été traitée correctement."
      ],
      "metadata": {
        "id": "YDHqa2jYOqdM"
      }
    },
    {
      "cell_type": "code",
      "source": [
        "%%bash\n",
        "\n",
        "curl -s -X POST http://localhost:3000/users \\\n",
        "-H \"Content-Type: application/json\" \\\n",
        "--data '{ \"firstName\": \"Nicolette\",\n",
        "          \"lastName\": \"Pierre\",\n",
        "          \"address\": \"2536 Sherbrooke Ouest\",\n",
        "          \"city\": \"Montreal\",\n",
        "          \"province\": \"QC\",\n",
        "          \"birthday\": \"1987-02-13T15:45:59.924Z\",\n",
        "          \"phone\": \"514-321-1234\" }'"
      ],
      "metadata": {
        "id": "PXB5HsjjRwqC",
        "colab": {
          "base_uri": "https://localhost:8080/"
        },
        "outputId": "b9c7fdac-de8c-450a-d9a5-add36f4b4172"
      },
      "execution_count": null,
      "outputs": [
        {
          "output_type": "stream",
          "name": "stdout",
          "text": [
            "\u001b[0mPOST /users \u001b[32m201\u001b[0m 14.943 ms - 222\u001b[0m\n",
            "{\n",
            "  \"firstName\": \"Nicolette\",\n",
            "  \"lastName\": \"Pierre\",\n",
            "  \"address\": \"2536 Sherbrooke Ouest\",\n",
            "  \"city\": \"Montreal\",\n",
            "  \"province\": \"QC\",\n",
            "  \"birthday\": \"1987-02-13T15:45:59.924Z\",\n",
            "  \"phone\": \"514-321-1234\",\n",
            "  \"id\": \"fLIXBfK\"\n",
            "}"
          ]
        }
      ]
    },
    {
      "cell_type": "markdown",
      "source": [
        "Une nouvelle entrée a été créée pour l'utilisateur `Nicolette Pierre`.\n",
        "\n",
        "Supposons maintenant que nous voulons changer l'adresse de `Nicolette Pierre` pour `2717 Ste. Catherine Ouest`.\n",
        "Nous devons envoyer une requête type `PUT` ou `PATCH` à `users/id-de-nicolette`.\n",
        "La requête HTTP contiendra l'objet JSON que le serveur utilisera pour mettre à jour l'entrée `users/id-de-nicolette`. La requête ressemble à celle utilisée pour ajouter une entrée, et le serveur retournera l'entrée mise à jour si la requête a été traitée correctement.\n"
      ],
      "metadata": {
        "id": "OxnWTkZgTgHj"
      }
    },
    {
      "cell_type": "code",
      "source": [
        "%%bash\n",
        "curl -s -X PATCH http://localhost:3000/users/fLIXBfK \\\n",
        "-H \"Content-Type: application/json\" \\\n",
        "--data '{ \"address\": \"2717 Ste. Catherine Ouest\" }'"
      ],
      "metadata": {
        "id": "m78tkG6oTz2N",
        "colab": {
          "base_uri": "https://localhost:8080/"
        },
        "outputId": "c8a1845b-3832-4852-fba7-68b02d11adbc"
      },
      "execution_count": null,
      "outputs": [
        {
          "output_type": "stream",
          "name": "stdout",
          "text": [
            "\u001b[0mPATCH /users/fLIXBfK \u001b[32m200\u001b[0m 6.625 ms - 226\u001b[0m\n",
            "{\n",
            "  \"firstName\": \"Nicolette\",\n",
            "  \"lastName\": \"Pierre\",\n",
            "  \"address\": \"2717 Ste. Catherine Ouest\",\n",
            "  \"city\": \"Montreal\",\n",
            "  \"province\": \"QC\",\n",
            "  \"birthday\": \"1987-02-13T15:45:59.924Z\",\n",
            "  \"phone\": \"514-321-1234\",\n",
            "  \"id\": \"fLIXBfK\"\n",
            "}"
          ]
        }
      ]
    },
    {
      "cell_type": "markdown",
      "source": [
        "Pour accéder au serveur sur autre onglet du navigateur (disponible sur Chrome) :"
      ],
      "metadata": {
        "id": "pfBwN7PNuV_l"
      }
    },
    {
      "cell_type": "code",
      "source": [
        "from google.colab import output\n",
        "print(\"Cliquez sur le lien pour accéder le serveur:\")\n",
        "print(output.eval_js(f\"google.colab.kernel.proxyPort({3000})\"))"
      ],
      "metadata": {
        "id": "l9Y9PWJafStJ"
      },
      "execution_count": null,
      "outputs": []
    },
    {
      "cell_type": "markdown",
      "source": [
        "# Activité en classe\n",
        "-----\n",
        "\n",
        "## Créer des entrées\n",
        "\n",
        "* Vous devez émettre une requête à l'aide de `curl` pour créer un nouveau produit. Ensuite, vous devez créer une requête HTTP pour mettre à jour le la description du produit crée.\n",
        "\n",
        "<!--\n",
        "\n",
        "!curl -s -X POST http://localhost:3000/products/ -H \"Content-Type: application/json\" --data '{\"name\": \"Cafetière automatique\", \"description\": \"Une cafetière automatique avec moulin intégré pour des cafés fraîchement moulus à chaque tasse.\", \"price\": \"C$129.99\"}'\n",
        "\n",
        "-->\n",
        "\n",
        "<!--\n",
        "\n",
        "%%writefile patch.json\n",
        "{\"description\": \"Dotée d'une fonction programmable et d'une carafe en verre, cette caferière vous offre une expérience caféinée agréable à tout moment de la journée.\"}\n",
        "\n",
        "curl -s -X PATCH http://localhost:3000/products/id-du-produit-cree -H \"Content-Type: application/json\" --data @patch.json\n",
        "\n",
        "-->"
      ],
      "metadata": {
        "id": "BxKo8g2wXqEe"
      }
    },
    {
      "cell_type": "code",
      "source": [
        "%%writefile produit.json\n",
        "{\n",
        "   \"name\": \"Cafetière automatique\",\n",
        "   \"description\": \"Une cafetière automatique avec moulin intégré pour des cafés fraîchement moulus à chaque tasse.\",\n",
        "   \"price\": \"C$129.99\"\n",
        "}"
      ],
      "metadata": {
        "colab": {
          "base_uri": "https://localhost:8080/"
        },
        "id": "hJCfdQ0iAIbt",
        "outputId": "2877442d-a188-4c70-dae0-550f232a7da0"
      },
      "execution_count": null,
      "outputs": [
        {
          "output_type": "stream",
          "name": "stdout",
          "text": [
            "Writing produit.json\n"
          ]
        }
      ]
    },
    {
      "cell_type": "code",
      "source": [
        "!curl -s -X POST http://localhost:3000/products/ -H \"Content-Type: application/json\" --data @produit.json | json_pp"
      ],
      "metadata": {
        "id": "vWukTUlQAt5d",
        "colab": {
          "base_uri": "https://localhost:8080/"
        },
        "outputId": "736ce44c-56e1-47a7-8584-bf21508e64ca"
      },
      "execution_count": null,
      "outputs": [
        {
          "output_type": "stream",
          "name": "stdout",
          "text": [
            "\u001b[0mPOST /products/ \u001b[32m201\u001b[0m 24.002 ms - 202\u001b[0m\n",
            "{\n",
            "   \"description\" : \"Une cafetière automatique avec moulin intégré pour des cafés fraîchement moulus à chaque tasse.\",\n",
            "   \"id\" : \"51WydK0\",\n",
            "   \"name\" : \"Cafetière automatique\",\n",
            "   \"price\" : \"C$129.99\"\n",
            "}\n"
          ]
        }
      ]
    },
    {
      "cell_type": "code",
      "source": [
        "%%writefile patch.json\n",
        "{\"description\": \"Dotée d'une fonction programmable et d'une carafe en verre, cette caferière vous offre une expérience caféinée agréable à tout moment de la journée.\"}\n"
      ],
      "metadata": {
        "colab": {
          "base_uri": "https://localhost:8080/"
        },
        "id": "lBNsqmY3A5X0",
        "outputId": "9895737f-77df-43a2-b073-79feea75da46"
      },
      "execution_count": null,
      "outputs": [
        {
          "output_type": "stream",
          "name": "stdout",
          "text": [
            "Writing patch.json\n"
          ]
        }
      ]
    },
    {
      "cell_type": "code",
      "source": [
        "!curl -s -X PATCH http://localhost:3000/products/51WydK0 -H \"Content-Type: application/json\" --data @patch.json"
      ],
      "metadata": {
        "colab": {
          "base_uri": "https://localhost:8080/"
        },
        "id": "fpubnYpQBBb3",
        "outputId": "e28095f1-27a7-4a31-efd9-48deb0d99eab"
      },
      "execution_count": null,
      "outputs": [
        {
          "output_type": "stream",
          "name": "stdout",
          "text": [
            "\u001b[0mPATCH /products/51WydK0 \u001b[32m200\u001b[0m 5.065 ms - 257\u001b[0m\n",
            "{\n",
            "  \"name\": \"Cafetière automatique\",\n",
            "  \"description\": \"Dotée d'une fonction programmable et d'une carafe en verre, cette caferière vous offre une expérience caféinée agréable à tout moment de la journée.\",\n",
            "  \"price\": \"C$129.99\",\n",
            "  \"id\": \"51WydK0\"\n",
            "}"
          ]
        }
      ]
    },
    {
      "cell_type": "code",
      "source": [
        "!curl -s http://localhost:3000/products/51WydK0"
      ],
      "metadata": {
        "colab": {
          "base_uri": "https://localhost:8080/"
        },
        "id": "e2o8odnCBMp8",
        "outputId": "1a73731c-1f76-4790-fc0a-27b3b950bb4e"
      },
      "execution_count": null,
      "outputs": [
        {
          "output_type": "stream",
          "name": "stdout",
          "text": [
            "\u001b[0mGET /products/51WydK0 \u001b[32m200\u001b[0m 3.823 ms - 257\u001b[0m\n",
            "{\n",
            "  \"name\": \"Cafetière automatique\",\n",
            "  \"description\": \"Dotée d'une fonction programmable et d'une carafe en verre, cette caferière vous offre une expérience caféinée agréable à tout moment de la journée.\",\n",
            "  \"price\": \"C$129.99\",\n",
            "  \"id\": \"51WydK0\"\n",
            "}"
          ]
        }
      ]
    },
    {
      "cell_type": "markdown",
      "source": [
        "# Références\n",
        "------------\n",
        "\n",
        "* [Redhat - Une API REST, qu'est-ce que c'est ?](https://www.redhat.com/fr/topics/api/what-is-a-rest-api)\n",
        "* [REST Architectural Constraints](https://restfulapi.net/rest-architectural-constraints/)\n",
        "* [Understanding And Using REST APIs](https://www.smashingmagazine.com/2018/01/understanding-using-rest-api/)\n",
        "* Thomas Hunter, Distributed Systems with Node.js: Building Enterprise-Ready Backend Services, November, 2020.\n",
        "* [MDN - En-têtes HTTP](https://developer.mozilla.org/fr/docs/Web/HTTP/Headers)\n",
        "* [Command line tool and library for transferring data with URLs](https://curl.se/)"
      ],
      "metadata": {
        "id": "fkZfQm_vdujL"
      }
    }
  ]
}